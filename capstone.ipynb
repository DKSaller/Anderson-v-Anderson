{
 "cells": [
  {
   "cell_type": "code",
   "execution_count": 1,
   "id": "b1e2b481-e827-4f9a-8656-e3366e0d2910",
   "metadata": {},
   "outputs": [],
   "source": [
    "import requests\n",
    "import pandas as pd\n",
    "from bs4 import BeautifulSoup as BS\n",
    "from tmdbv3api import TMDb, Movie, Person\n",
    "import json\n",
    "import matplotlib.pyplot as plt\n",
    "import seaborn as sns"
   ]
  },
  {
   "cell_type": "code",
   "execution_count": 2,
   "id": "5c883ae6-410f-4e6a-9d35-231e8b40fbb1",
   "metadata": {},
   "outputs": [],
   "source": [
    "tmdb = TMDb()\n",
    "tmdb.api_key = 'af93fa2599843ec2a57a2d067722525e'\n",
    "tmdb.language = 'en'"
   ]
  },
  {
   "cell_type": "markdown",
   "id": "593f16a6-ce8b-4c9b-bdea-ea8a91533ec1",
   "metadata": {},
   "source": [
    "Got my api key for The Movie Database and will now use it to get info on PTA"
   ]
  },
  {
   "cell_type": "code",
   "execution_count": 3,
   "id": "eef51ded-396e-4398-8c6a-7e634fe15b91",
   "metadata": {},
   "outputs": [],
   "source": [
    "movie = Movie()\n",
    "person = Person()"
   ]
  },
  {
   "cell_type": "code",
   "execution_count": 4,
   "id": "8f25184e-b847-4fa2-9b5a-3a119552acc2",
   "metadata": {},
   "outputs": [],
   "source": [
    "pta = person.search('Paul Thomas Anderson')[0]"
   ]
  },
  {
   "cell_type": "code",
   "execution_count": 5,
   "id": "9eedff14-a839-4cf9-bbd7-bad4544f7f0a",
   "metadata": {},
   "outputs": [],
   "source": [
    "pta_id = pta.id"
   ]
  },
  {
   "cell_type": "code",
   "execution_count": 6,
   "id": "0011f1b8-4085-4de0-a273-d2043d3d1faa",
   "metadata": {},
   "outputs": [],
   "source": [
    "credits = person.movie_credits(pta_id)"
   ]
  },
  {
   "cell_type": "code",
   "execution_count": 7,
   "id": "c8cb03b4-b6aa-47ca-b5be-1731f1410967",
   "metadata": {},
   "outputs": [],
   "source": [
    "film_list = [credit for credit in credits['crew'] if credit['job'] == 'Director']"
   ]
  },
  {
   "cell_type": "code",
   "execution_count": 8,
   "id": "21239f2c-6cf5-4889-a8db-70f8d56b5354",
   "metadata": {},
   "outputs": [],
   "source": [
    "movie_data = []\n",
    "for film in film_list:\n",
    "    details = movie.details(film['id'])\n",
    "    movie_credits = movie.credits(film[\"id\"])\n",
    "    cast_list = list(movie_credits.get('cast', []))\n",
    "    top_actors =  [actor['name'] for actor in cast_list[:5]] if cast_list else []\n",
    "    release_dates = details.release_dates.get('results', [])\n",
    "    content_rating = release_dates[0]['release_dates'][0]['certification'] if release_dates else 'N/A'\n",
    "    movie_info = {\n",
    "        'title' : details.title,\n",
    "        'rating' : details.vote_average,\n",
    "        'content_rating': content_rating,\n",
    "        'actors' : top_actors}\n",
    "    movie_data.append(movie_info)\n",
    "    "
   ]
  },
  {
   "cell_type": "code",
   "execution_count": 9,
   "id": "56bae749-df55-433a-9660-19bc2cca7d12",
   "metadata": {},
   "outputs": [],
   "source": [
    "tmdb_df = pd.DataFrame(movie_data)"
   ]
  },
  {
   "cell_type": "code",
   "execution_count": 10,
   "id": "331e5be3-9d2f-4739-8d71-10e6c88e330d",
   "metadata": {},
   "outputs": [
    {
     "data": {
      "text/html": [
       "<div>\n",
       "<style scoped>\n",
       "    .dataframe tbody tr th:only-of-type {\n",
       "        vertical-align: middle;\n",
       "    }\n",
       "\n",
       "    .dataframe tbody tr th {\n",
       "        vertical-align: top;\n",
       "    }\n",
       "\n",
       "    .dataframe thead th {\n",
       "        text-align: right;\n",
       "    }\n",
       "</style>\n",
       "<table border=\"1\" class=\"dataframe\">\n",
       "  <thead>\n",
       "    <tr style=\"text-align: right;\">\n",
       "      <th></th>\n",
       "      <th>title</th>\n",
       "      <th>rating</th>\n",
       "      <th>content_rating</th>\n",
       "      <th>actors</th>\n",
       "    </tr>\n",
       "  </thead>\n",
       "  <tbody>\n",
       "    <tr>\n",
       "      <th>0</th>\n",
       "      <td>Magnolia</td>\n",
       "      <td>7.723</td>\n",
       "      <td>MA 15+</td>\n",
       "      <td>[Tom Cruise, Philip Baker Hall, Philip Seymour...</td>\n",
       "    </tr>\n",
       "    <tr>\n",
       "      <th>1</th>\n",
       "      <td>Boogie Nights</td>\n",
       "      <td>7.626</td>\n",
       "      <td>R18+</td>\n",
       "      <td>[Mark Wahlberg, Burt Reynolds, Julianne Moore,...</td>\n",
       "    </tr>\n",
       "    <tr>\n",
       "      <th>2</th>\n",
       "      <td>Punch-Drunk Love</td>\n",
       "      <td>7.123</td>\n",
       "      <td></td>\n",
       "      <td>[Adam Sandler, Emily Watson, Philip Seymour Ho...</td>\n",
       "    </tr>\n",
       "    <tr>\n",
       "      <th>3</th>\n",
       "      <td>Hard Eight</td>\n",
       "      <td>6.877</td>\n",
       "      <td>MA 15+</td>\n",
       "      <td>[Philip Baker Hall, John C. Reilly, Gwyneth Pa...</td>\n",
       "    </tr>\n",
       "    <tr>\n",
       "      <th>4</th>\n",
       "      <td>There Will Be Blood</td>\n",
       "      <td>8.072</td>\n",
       "      <td></td>\n",
       "      <td>[Daniel Day-Lewis, Paul Dano, Kevin J. O'Conno...</td>\n",
       "    </tr>\n",
       "    <tr>\n",
       "      <th>5</th>\n",
       "      <td>Couch</td>\n",
       "      <td>4.644</td>\n",
       "      <td></td>\n",
       "      <td>[Adam Sandler]</td>\n",
       "    </tr>\n",
       "    <tr>\n",
       "      <th>6</th>\n",
       "      <td>The Master</td>\n",
       "      <td>7.116</td>\n",
       "      <td>16</td>\n",
       "      <td>[Joaquin Phoenix, Philip Seymour Hoffman, Amy ...</td>\n",
       "    </tr>\n",
       "    <tr>\n",
       "      <th>7</th>\n",
       "      <td>Production Assistant</td>\n",
       "      <td>2.000</td>\n",
       "      <td></td>\n",
       "      <td>[Paul Thomas Anderson]</td>\n",
       "    </tr>\n",
       "    <tr>\n",
       "      <th>8</th>\n",
       "      <td>Cigarettes &amp; Coffee</td>\n",
       "      <td>6.707</td>\n",
       "      <td>NR</td>\n",
       "      <td>[Kirk Baltz, Philip Baker Hall, Scott Coffey, ...</td>\n",
       "    </tr>\n",
       "    <tr>\n",
       "      <th>9</th>\n",
       "      <td>The Dirk Diggler Story</td>\n",
       "      <td>5.200</td>\n",
       "      <td></td>\n",
       "      <td>[Michael Stein, Robert Ridgely, Eddie Delcore,...</td>\n",
       "    </tr>\n",
       "    <tr>\n",
       "      <th>10</th>\n",
       "      <td>Inherent Vice</td>\n",
       "      <td>6.553</td>\n",
       "      <td>16</td>\n",
       "      <td>[Joaquin Phoenix, Josh Brolin, Owen Wilson, Ka...</td>\n",
       "    </tr>\n",
       "    <tr>\n",
       "      <th>11</th>\n",
       "      <td>Mattress Man Commercial</td>\n",
       "      <td>6.917</td>\n",
       "      <td>R</td>\n",
       "      <td>[Philip Seymour Hoffman]</td>\n",
       "    </tr>\n",
       "    <tr>\n",
       "      <th>12</th>\n",
       "      <td>The Jon Brion Show</td>\n",
       "      <td>0.000</td>\n",
       "      <td></td>\n",
       "      <td>[Jon Brion, Elliott Smith, Brad Mehldau]</td>\n",
       "    </tr>\n",
       "    <tr>\n",
       "      <th>13</th>\n",
       "      <td>Junun</td>\n",
       "      <td>7.200</td>\n",
       "      <td></td>\n",
       "      <td>[Shye Ben Tzur, Ehtisham Khan Ajmeri, Gufran A...</td>\n",
       "    </tr>\n",
       "    <tr>\n",
       "      <th>14</th>\n",
       "      <td>One Battle After Another</td>\n",
       "      <td>0.000</td>\n",
       "      <td></td>\n",
       "      <td>[Leonardo DiCaprio, Sean Penn, Benicio del Tor...</td>\n",
       "    </tr>\n",
       "    <tr>\n",
       "      <th>15</th>\n",
       "      <td>Phantom Thread</td>\n",
       "      <td>7.315</td>\n",
       "      <td></td>\n",
       "      <td>[Daniel Day-Lewis, Vicky Krieps, Lesley Manvil...</td>\n",
       "    </tr>\n",
       "    <tr>\n",
       "      <th>16</th>\n",
       "      <td>Flagpole Special</td>\n",
       "      <td>5.700</td>\n",
       "      <td></td>\n",
       "      <td>[Chris Penn, John C. Reilly]</td>\n",
       "    </tr>\n",
       "    <tr>\n",
       "      <th>17</th>\n",
       "      <td>HAIM / Valentine</td>\n",
       "      <td>6.900</td>\n",
       "      <td></td>\n",
       "      <td>[Alana Haim, Este Haim, Danielle Haim]</td>\n",
       "    </tr>\n",
       "    <tr>\n",
       "      <th>18</th>\n",
       "      <td>Anima</td>\n",
       "      <td>7.283</td>\n",
       "      <td>U</td>\n",
       "      <td>[Thom Yorke, Dajana Roncione, Frida Dam Seidel...</td>\n",
       "    </tr>\n",
       "    <tr>\n",
       "      <th>19</th>\n",
       "      <td>Ballchewer</td>\n",
       "      <td>4.800</td>\n",
       "      <td></td>\n",
       "      <td>[Adam Sandler, Meatball, Luis Guzmán, Emily Wa...</td>\n",
       "    </tr>\n",
       "    <tr>\n",
       "      <th>20</th>\n",
       "      <td>Licorice Pizza</td>\n",
       "      <td>6.966</td>\n",
       "      <td>13</td>\n",
       "      <td>[Alana Haim, Cooper Hoffman, Sean Penn, Tom Wa...</td>\n",
       "    </tr>\n",
       "    <tr>\n",
       "      <th>21</th>\n",
       "      <td>Daydreaming - Radiohead</td>\n",
       "      <td>0.000</td>\n",
       "      <td></td>\n",
       "      <td>[Thom Yorke, Grace Illingworth, Ava Puorro]</td>\n",
       "    </tr>\n",
       "  </tbody>\n",
       "</table>\n",
       "</div>"
      ],
      "text/plain": [
       "                       title  rating content_rating  \\\n",
       "0                   Magnolia   7.723         MA 15+   \n",
       "1              Boogie Nights   7.626           R18+   \n",
       "2           Punch-Drunk Love   7.123                  \n",
       "3                 Hard Eight   6.877         MA 15+   \n",
       "4        There Will Be Blood   8.072                  \n",
       "5                      Couch   4.644                  \n",
       "6                 The Master   7.116             16   \n",
       "7       Production Assistant   2.000                  \n",
       "8        Cigarettes & Coffee   6.707             NR   \n",
       "9     The Dirk Diggler Story   5.200                  \n",
       "10             Inherent Vice   6.553             16   \n",
       "11   Mattress Man Commercial   6.917              R   \n",
       "12        The Jon Brion Show   0.000                  \n",
       "13                     Junun   7.200                  \n",
       "14  One Battle After Another   0.000                  \n",
       "15            Phantom Thread   7.315                  \n",
       "16          Flagpole Special   5.700                  \n",
       "17          HAIM / Valentine   6.900                  \n",
       "18                     Anima   7.283              U   \n",
       "19                Ballchewer   4.800                  \n",
       "20            Licorice Pizza   6.966             13   \n",
       "21   Daydreaming - Radiohead   0.000                  \n",
       "\n",
       "                                               actors  \n",
       "0   [Tom Cruise, Philip Baker Hall, Philip Seymour...  \n",
       "1   [Mark Wahlberg, Burt Reynolds, Julianne Moore,...  \n",
       "2   [Adam Sandler, Emily Watson, Philip Seymour Ho...  \n",
       "3   [Philip Baker Hall, John C. Reilly, Gwyneth Pa...  \n",
       "4   [Daniel Day-Lewis, Paul Dano, Kevin J. O'Conno...  \n",
       "5                                      [Adam Sandler]  \n",
       "6   [Joaquin Phoenix, Philip Seymour Hoffman, Amy ...  \n",
       "7                              [Paul Thomas Anderson]  \n",
       "8   [Kirk Baltz, Philip Baker Hall, Scott Coffey, ...  \n",
       "9   [Michael Stein, Robert Ridgely, Eddie Delcore,...  \n",
       "10  [Joaquin Phoenix, Josh Brolin, Owen Wilson, Ka...  \n",
       "11                           [Philip Seymour Hoffman]  \n",
       "12           [Jon Brion, Elliott Smith, Brad Mehldau]  \n",
       "13  [Shye Ben Tzur, Ehtisham Khan Ajmeri, Gufran A...  \n",
       "14  [Leonardo DiCaprio, Sean Penn, Benicio del Tor...  \n",
       "15  [Daniel Day-Lewis, Vicky Krieps, Lesley Manvil...  \n",
       "16                       [Chris Penn, John C. Reilly]  \n",
       "17             [Alana Haim, Este Haim, Danielle Haim]  \n",
       "18  [Thom Yorke, Dajana Roncione, Frida Dam Seidel...  \n",
       "19  [Adam Sandler, Meatball, Luis Guzmán, Emily Wa...  \n",
       "20  [Alana Haim, Cooper Hoffman, Sean Penn, Tom Wa...  \n",
       "21        [Thom Yorke, Grace Illingworth, Ava Puorro]  "
      ]
     },
     "execution_count": 10,
     "metadata": {},
     "output_type": "execute_result"
    }
   ],
   "source": [
    "tmdb_df"
   ]
  },
  {
   "cell_type": "markdown",
   "id": "81ea6737-f39b-475e-b71c-32521615d6f8",
   "metadata": {},
   "source": [
    "Need to split lists in the actors column to have the top 3 billed actors for each film in their each row"
   ]
  },
  {
   "cell_type": "code",
   "execution_count": 11,
   "id": "50877f60-3554-40d2-8e15-b9877dd2e16e",
   "metadata": {},
   "outputs": [],
   "source": [
    "from imdb import Cinemagoer"
   ]
  },
  {
   "cell_type": "code",
   "execution_count": 12,
   "id": "1651d40d-4b7e-4cb8-ac77-b7541d7de7c4",
   "metadata": {},
   "outputs": [],
   "source": [
    "ia = Cinemagoer()"
   ]
  },
  {
   "cell_type": "code",
   "execution_count": 13,
   "id": "c6c0f505-cb48-4119-947c-33df94b98c88",
   "metadata": {},
   "outputs": [],
   "source": [
    "directors = ia.search_person('Paul Thomas Anderson')"
   ]
  },
  {
   "cell_type": "code",
   "execution_count": 14,
   "id": "27982af0-feb7-4d6a-b673-7fd1c37e46a9",
   "metadata": {},
   "outputs": [
    {
     "data": {
      "text/plain": [
       "[<Person id:0000759[http] name:_Paul Thomas Anderson_>,\n",
       " <Person id:2937683[http] name:_Bryan Anderson_>,\n",
       " <Person id:13272272[http] name:_Thomas Anderson_>,\n",
       " <Person id:0027505[http] name:_Thomas Anderson_>,\n",
       " <Person id:0027597[http] name:_Thomas Anderson-Barker_>,\n",
       " <Person id:15113431[http] name:_Todd Thomas Anderson_>,\n",
       " <Person id:15925290[http] name:_Thomas Anderson_>,\n",
       " <Person id:0027506[http] name:_Thomas Anderson_>,\n",
       " <Person id:0027528[http] name:_Tom Anderson_>,\n",
       " <Person id:4323977[http] name:_Thomas Anderson_>,\n",
       " <Person id:6491581[http] name:_Thomas Anderson_>,\n",
       " <Person id:11381853[http] name:_Thomas Anderson_>,\n",
       " <Person id:0026485[http] name:_Carl Anderson_>,\n",
       " <Person id:0027292[http] name:_Peter Anderson_>,\n",
       " <Person id:11941176[http] name:_Thomas Anderson_>,\n",
       " <Person id:14718945[http] name:_Angela Thomas Anderson_>,\n",
       " <Person id:16994132[http] name:_Thomas Anderson_>,\n",
       " <Person id:0027508[http] name:_Thomas Anderson_>,\n",
       " <Person id:10676407[http] name:_Thomas Anderson_>,\n",
       " <Person id:17032024[http] name:_Thomas Anderson_>]"
      ]
     },
     "execution_count": 14,
     "metadata": {},
     "output_type": "execute_result"
    }
   ],
   "source": [
    "directors"
   ]
  },
  {
   "cell_type": "code",
   "execution_count": 15,
   "id": "963b0f49-79d4-4bcd-a4bd-fdb02ec5b01c",
   "metadata": {},
   "outputs": [],
   "source": [
    "pta = ia.get_person_filmography('0000759')"
   ]
  },
  {
   "cell_type": "markdown",
   "id": "6083b6c8-5dc1-4210-bf76-e56478547ef1",
   "metadata": {},
   "source": [
    "making sure I can find his whole filmography"
   ]
  },
  {
   "cell_type": "markdown",
   "id": "25d6dd40-3181-4092-bb4b-ca56e5942f20",
   "metadata": {},
   "source": [
    "https://cinemagoer.readthedocs.io/en/latest/usage/quickstart.html"
   ]
  },
  {
   "cell_type": "code",
   "execution_count": 16,
   "id": "bfc9a84c-6b3e-415b-917a-67e380a10939",
   "metadata": {},
   "outputs": [
    {
     "data": {
      "text/plain": [
       "{'data': mappingproxy({}),\n",
       " 'titlesRefs': {'Boogie Nights (1997)': <Movie id:0118749[http] title:_Boogie Nights (1997)_>,\n",
       "  'The Dirk Diggler Story (1988)': <Movie id:0138403[http] title:_The Dirk Diggler Story (1988)_>,\n",
       "  'This Is Spinal Tap (1984)': <Movie id:0088258[http] title:_This Is Spinal Tap (1984)_>,\n",
       "  'Cigarettes & Coffee (1993)': <Movie id:0138363[http] title:_Cigarettes & Coffee (1993)_>,\n",
       "  'Hard Eight (1996)': <Movie id:0119256[http] title:_Hard Eight (1996)_>,\n",
       "  'Reservoir Dogs (1992)': <Movie id:0105236[http] title:_Reservoir Dogs (1992)_>,\n",
       "  'Magnolia (1999)': <Movie id:0175880[http] title:_Magnolia (1999)_>,\n",
       "  'Nashville (1975)': <Movie id:0073440[http] title:_Nashville (1975)_>,\n",
       "  'Punch-Drunk Love (2002)': <Movie id:0272338[http] title:_Punch-Drunk Love (2002)_>,\n",
       "  'Punch-Drunk Love': <Movie id:0272338[http] title:_Punch-Drunk Love (None)_>,\n",
       "  'There Will Be Blood': <Movie id:0469494[http] title:_There Will Be Blood (None)_>,\n",
       "  'Boogie Nights': <Movie id:0118749[http] title:_Boogie Nights (None)_>,\n",
       "  'Licorice Pizza': <Movie id:11271038[http] title:_Licorice Pizza (None)_>},\n",
       " 'namesRefs': {'Biography': <Person id:0000759[http] name:_Biography_>,\n",
       "  'Awards': <Person id:0000759[http] name:_Awards_>,\n",
       "  'Trivia': <Person id:0000759[http] name:_Trivia_>,\n",
       "  'FAQ': <Person id:0000759[http] name:_FAQ_>,\n",
       "  'Robert Ridgely': <Person id:0725894[http] name:_Robert Ridgely_>,\n",
       "  'Mel Brooks': <Person id:0000316[http] name:_Mel Brooks_>,\n",
       "  'Quentin Tarantino': <Person id:0000233[http] name:_Quentin Tarantino_>,\n",
       "  'Philip Baker Hall': <Person id:0001311[http] name:_Philip Baker Hall_>,\n",
       "  'John C. Reilly': <Person id:0000604[http] name:_John C. Reilly_>,\n",
       "  'Philip Seymour Hoffman': <Person id:0000450[http] name:_Philip Seymour Hoffman_>,\n",
       "  'Julianne Moore': <Person id:0000194[http] name:_Julianne Moore_>,\n",
       "  'Melora Walters': <Person id:0001828[http] name:_Melora Walters_>,\n",
       "  'William H. Macy': <Person id:0000513[http] name:_William H. Macy_>,\n",
       "  'Luis Guzmán': <Person id:0350079[http] name:_Luis Guzmán_>,\n",
       "  'Burt Reynolds': <Person id:0000608[http] name:_Burt Reynolds_>,\n",
       "  'Mark Wahlberg': <Person id:0000242[http] name:_Mark Wahlberg_>,\n",
       "  'Nominated for 11 Oscars': <Person id:0000759[http] name:_Nominated for 11 Oscars_>,\n",
       "  'Pearl Minnie Anderson': <Person id:7744115[http] name:_Pearl Minnie Anderson_>,\n",
       "  'Ernie Anderson': <Person id:0026700[http] name:_Ernie Anderson_>,\n",
       "  'Publicity listings': <Person id:0000759[http] name:_Publicity listings_>,\n",
       "  '8 Interviews': <Person id:0000759[http] name:_8 Interviews_>,\n",
       "  '6 Articles': <Person id:0000759[http] name:_6 Articles_>,\n",
       "  '1 Pictorial': <Person id:0000759[http] name:_1 Pictorial_>,\n",
       "  '1 Magazine Cover Photo': <Person id:0000759[http] name:_1 Magazine Cover Photo_>,\n",
       "  'David Mamet': <Person id:0000519[http] name:_David Mamet_>,\n",
       "  'Quotes': <Person id:0000759[http] name:_Quotes_>,\n",
       "  'How old is Paul Thomas Anderson?': <Person id:0000759[http] name:_How old is Paul Thomas Anderson?_>,\n",
       "  'When was Paul Thomas Anderson born?': <Person id:0000759[http] name:_When was Paul Thomas Anderson born?_>,\n",
       "  'Where was Paul Thomas Anderson born?': <Person id:0000759[http] name:_Where was Paul Thomas Anderson born?_>}}"
      ]
     },
     "execution_count": 16,
     "metadata": {},
     "output_type": "execute_result"
    }
   ],
   "source": [
    "pta"
   ]
  },
  {
   "cell_type": "code",
   "execution_count": 17,
   "id": "9b532dd7-6e68-46ad-b9e5-af14168a6ff9",
   "metadata": {},
   "outputs": [],
   "source": [
    "pta_films = [\n",
    "    'The Dirk Diggler Story (1988)',\n",
    "    'Boogie Nights (1997)',\n",
    "    'Boogie Nights',\n",
    "    'Magnolia (1999)',\n",
    "    'Punch-Drunk Love (2002)',\n",
    "    'Punch-Drunk Love',\n",
    "    'There Will Be Blood',\n",
    "    'Licorice Pizza',\n",
    "    'Cigarettes & Coffee (1993)',\n",
    "    'The Dirk Diggler Story (1988)'\n",
    "]"
   ]
  },
  {
   "cell_type": "code",
   "execution_count": 18,
   "id": "8dac8290-9be0-4d82-b275-5be87ca905c5",
   "metadata": {},
   "outputs": [
    {
     "data": {
      "text/plain": [
       "['Boogie Nights (1997)',\n",
       " 'The Dirk Diggler Story (1988)',\n",
       " 'Cigarettes & Coffee (1993)',\n",
       " 'Magnolia (1999)',\n",
       " 'Punch-Drunk Love (2002)',\n",
       " 'Punch-Drunk Love',\n",
       " 'There Will Be Blood',\n",
       " 'Boogie Nights',\n",
       " 'Licorice Pizza']"
      ]
     },
     "execution_count": 18,
     "metadata": {},
     "output_type": "execute_result"
    }
   ],
   "source": [
    "extracted_films = [title for title in pta['titlesRefs'].keys() if title in pta_films]\n",
    "extracted_films"
   ]
  },
  {
   "cell_type": "markdown",
   "id": "7b63ed2d-4ffe-44c5-a695-d9b42517e08d",
   "metadata": {},
   "source": [
    "I notice that there are some repeats and some missing titles, so I need to clean that up"
   ]
  },
  {
   "cell_type": "code",
   "execution_count": 19,
   "id": "d2aabf0a-df39-45fd-a89f-1f2b35858128",
   "metadata": {},
   "outputs": [],
   "source": [
    "hard_eight = ia.search_movie('hard eight')[0]"
   ]
  },
  {
   "cell_type": "code",
   "execution_count": 20,
   "id": "53250a5b-6fb1-48a3-986e-1802eaa5da48",
   "metadata": {},
   "outputs": [],
   "source": [
    "hardeight = hard_eight['title']"
   ]
  },
  {
   "cell_type": "code",
   "execution_count": 21,
   "id": "a39c6069-79de-450a-ac3a-483d25c598e0",
   "metadata": {},
   "outputs": [],
   "source": [
    "the_master = ia.search_movie('the master')[0]"
   ]
  },
  {
   "cell_type": "code",
   "execution_count": 22,
   "id": "1d7eb588-063d-4e92-aa32-cd9478729a99",
   "metadata": {},
   "outputs": [],
   "source": [
    "master = the_master['title']"
   ]
  },
  {
   "cell_type": "code",
   "execution_count": 23,
   "id": "ef1ec67d-216e-43d0-b954-3e1864353847",
   "metadata": {},
   "outputs": [],
   "source": [
    "inh_vice = ia.search_movie('inherent vice')[0]"
   ]
  },
  {
   "cell_type": "code",
   "execution_count": 24,
   "id": "cdc76d2b-855a-4e15-bbe1-45b24281faa0",
   "metadata": {},
   "outputs": [],
   "source": [
    "in_vice = inh_vice['title']"
   ]
  },
  {
   "cell_type": "code",
   "execution_count": 25,
   "id": "b575f51f-25be-4ac4-b779-6f4ca3bad902",
   "metadata": {},
   "outputs": [],
   "source": [
    "ph_thread = ia.search_movie('phantom thread')[0]"
   ]
  },
  {
   "cell_type": "code",
   "execution_count": 26,
   "id": "ce4de0bc-3665-45e0-a054-2e9f7febf28f",
   "metadata": {},
   "outputs": [],
   "source": [
    "phantom = ph_thread['title']"
   ]
  },
  {
   "cell_type": "code",
   "execution_count": 27,
   "id": "96b01371-981b-4087-a59c-34d86e664338",
   "metadata": {},
   "outputs": [],
   "source": [
    "extracted_films.append(master)"
   ]
  },
  {
   "cell_type": "code",
   "execution_count": 28,
   "id": "44490bcd-f4c8-4427-88b2-7f8c16c25595",
   "metadata": {},
   "outputs": [],
   "source": [
    "extracted_films.append(in_vice)"
   ]
  },
  {
   "cell_type": "code",
   "execution_count": 29,
   "id": "46527d6e-1ea6-4462-8df3-23a943061ed6",
   "metadata": {},
   "outputs": [],
   "source": [
    "extracted_films.append(phantom)"
   ]
  },
  {
   "cell_type": "code",
   "execution_count": 30,
   "id": "3fca4c0b-d4c4-489a-9c7d-3e936238b0ce",
   "metadata": {},
   "outputs": [],
   "source": [
    "extracted_films.append(hardeight)"
   ]
  },
  {
   "cell_type": "code",
   "execution_count": 31,
   "id": "993eb248-c99e-411a-8dff-34a4e9813b6b",
   "metadata": {},
   "outputs": [
    {
     "data": {
      "text/plain": [
       "['Boogie Nights (1997)',\n",
       " 'The Dirk Diggler Story (1988)',\n",
       " 'Cigarettes & Coffee (1993)',\n",
       " 'Magnolia (1999)',\n",
       " 'Punch-Drunk Love (2002)',\n",
       " 'Punch-Drunk Love',\n",
       " 'There Will Be Blood',\n",
       " 'Boogie Nights',\n",
       " 'Licorice Pizza',\n",
       " 'The Master',\n",
       " 'Inherent Vice',\n",
       " 'Phantom Thread',\n",
       " 'Hard Eight']"
      ]
     },
     "execution_count": 31,
     "metadata": {},
     "output_type": "execute_result"
    }
   ],
   "source": [
    "extracted_films"
   ]
  },
  {
   "cell_type": "markdown",
   "id": "ced8983c-9600-4f28-820e-06d3248f3556",
   "metadata": {},
   "source": [
    "Made an empty list for the results of my defined function to get the relevant imdb information"
   ]
  },
  {
   "cell_type": "code",
   "execution_count": 32,
   "id": "f933fdac-36d3-4151-9e3a-1ef72d80dd02",
   "metadata": {},
   "outputs": [],
   "source": [
    "results_list = []\n",
    "\n",
    "\n",
    "def get_movie_rating(title):\n",
    "    try:\n",
    "        clean_title = title.split(' (')[0]\n",
    "        search_results = ia.search_movie(clean_title)\n",
    "        if not search_results:\n",
    "            results_list.append({'title':title,'year':'Not Found','rating':'Not Found'})\n",
    "            return\n",
    "        movie = search_results[0]\n",
    "        ia.update(movie)\n",
    "        rating = movie.get('rating', 'Not Rated')\n",
    "        year = movie.get('year', 'Year not found')\n",
    "        actual_title = movie['title']\n",
    "        results_list.append({'title':actual_title, 'year':year, 'rating':rating})\n",
    "\n",
    "    except Exception as e:\n",
    "        return f'Error processing {title}: {str(e)}'"
   ]
  },
  {
   "cell_type": "code",
   "execution_count": 33,
   "id": "3d4e3b87-9000-4999-a0e2-cc589524557e",
   "metadata": {},
   "outputs": [],
   "source": [
    "for film in extracted_films:\n",
    "    get_movie_rating(film)"
   ]
  },
  {
   "cell_type": "code",
   "execution_count": 34,
   "id": "bae0d834-1424-49d4-b6ab-5e2b4cbc0777",
   "metadata": {},
   "outputs": [
    {
     "data": {
      "text/html": [
       "<div>\n",
       "<style scoped>\n",
       "    .dataframe tbody tr th:only-of-type {\n",
       "        vertical-align: middle;\n",
       "    }\n",
       "\n",
       "    .dataframe tbody tr th {\n",
       "        vertical-align: top;\n",
       "    }\n",
       "\n",
       "    .dataframe thead th {\n",
       "        text-align: right;\n",
       "    }\n",
       "</style>\n",
       "<table border=\"1\" class=\"dataframe\">\n",
       "  <thead>\n",
       "    <tr style=\"text-align: right;\">\n",
       "      <th></th>\n",
       "      <th>title</th>\n",
       "      <th>year</th>\n",
       "      <th>rating</th>\n",
       "    </tr>\n",
       "  </thead>\n",
       "  <tbody>\n",
       "    <tr>\n",
       "      <th>0</th>\n",
       "      <td>Boogie Nights</td>\n",
       "      <td>1997</td>\n",
       "      <td>7.9</td>\n",
       "    </tr>\n",
       "    <tr>\n",
       "      <th>1</th>\n",
       "      <td>The Dirk Diggler Story</td>\n",
       "      <td>1988</td>\n",
       "      <td>5.9</td>\n",
       "    </tr>\n",
       "    <tr>\n",
       "      <th>2</th>\n",
       "      <td>Coffee and Cigarettes</td>\n",
       "      <td>2003</td>\n",
       "      <td>7.0</td>\n",
       "    </tr>\n",
       "    <tr>\n",
       "      <th>3</th>\n",
       "      <td>Magnolia</td>\n",
       "      <td>1999</td>\n",
       "      <td>8.0</td>\n",
       "    </tr>\n",
       "    <tr>\n",
       "      <th>4</th>\n",
       "      <td>Punch-Drunk Love</td>\n",
       "      <td>2002</td>\n",
       "      <td>7.3</td>\n",
       "    </tr>\n",
       "    <tr>\n",
       "      <th>5</th>\n",
       "      <td>Punch-Drunk Love</td>\n",
       "      <td>2002</td>\n",
       "      <td>7.3</td>\n",
       "    </tr>\n",
       "    <tr>\n",
       "      <th>6</th>\n",
       "      <td>There Will Be Blood</td>\n",
       "      <td>2007</td>\n",
       "      <td>8.2</td>\n",
       "    </tr>\n",
       "    <tr>\n",
       "      <th>7</th>\n",
       "      <td>Boogie Nights</td>\n",
       "      <td>1997</td>\n",
       "      <td>7.9</td>\n",
       "    </tr>\n",
       "    <tr>\n",
       "      <th>8</th>\n",
       "      <td>Licorice Pizza</td>\n",
       "      <td>2021</td>\n",
       "      <td>7.1</td>\n",
       "    </tr>\n",
       "    <tr>\n",
       "      <th>9</th>\n",
       "      <td>The Master</td>\n",
       "      <td>2012</td>\n",
       "      <td>7.1</td>\n",
       "    </tr>\n",
       "    <tr>\n",
       "      <th>10</th>\n",
       "      <td>Inherent Vice</td>\n",
       "      <td>2014</td>\n",
       "      <td>6.6</td>\n",
       "    </tr>\n",
       "    <tr>\n",
       "      <th>11</th>\n",
       "      <td>Phantom Thread</td>\n",
       "      <td>2017</td>\n",
       "      <td>7.4</td>\n",
       "    </tr>\n",
       "    <tr>\n",
       "      <th>12</th>\n",
       "      <td>Hard Eight</td>\n",
       "      <td>1996</td>\n",
       "      <td>7.1</td>\n",
       "    </tr>\n",
       "  </tbody>\n",
       "</table>\n",
       "</div>"
      ],
      "text/plain": [
       "                     title  year  rating\n",
       "0            Boogie Nights  1997     7.9\n",
       "1   The Dirk Diggler Story  1988     5.9\n",
       "2    Coffee and Cigarettes  2003     7.0\n",
       "3                 Magnolia  1999     8.0\n",
       "4         Punch-Drunk Love  2002     7.3\n",
       "5         Punch-Drunk Love  2002     7.3\n",
       "6      There Will Be Blood  2007     8.2\n",
       "7            Boogie Nights  1997     7.9\n",
       "8           Licorice Pizza  2021     7.1\n",
       "9               The Master  2012     7.1\n",
       "10           Inherent Vice  2014     6.6\n",
       "11          Phantom Thread  2017     7.4\n",
       "12              Hard Eight  1996     7.1"
      ]
     },
     "execution_count": 34,
     "metadata": {},
     "output_type": "execute_result"
    }
   ],
   "source": [
    "imdb_df = pd.DataFrame(results_list)\n",
    "imdb_df"
   ]
  },
  {
   "cell_type": "code",
   "execution_count": 35,
   "id": "b2f9bdfd-0bc2-4d80-be9d-b87c2bcf12ee",
   "metadata": {},
   "outputs": [],
   "source": [
    "md_df = pd.merge(tmdb_df, imdb_df, left_on='title', right_on='title', how='inner')"
   ]
  },
  {
   "cell_type": "code",
   "execution_count": 36,
   "id": "50252f33-6c69-4f58-ac86-7e5863235d3d",
   "metadata": {},
   "outputs": [],
   "source": [
    "actor_df = pd.DataFrame(md_df['actors'].to_list(), columns=['actor1', 'actor2', 'actor3', 'actor4','actor5'])"
   ]
  },
  {
   "cell_type": "code",
   "execution_count": 37,
   "id": "d940f4c0-6f41-41e0-8ad0-2b03d1e811c2",
   "metadata": {},
   "outputs": [],
   "source": [
    "md_df = md_df.drop(columns='actors').join(actor_df)"
   ]
  },
  {
   "cell_type": "code",
   "execution_count": 38,
   "id": "ecdd6b03-ba4b-48fd-9fd9-022a0f31a753",
   "metadata": {},
   "outputs": [],
   "source": [
    "md_df = md_df.drop_duplicates()"
   ]
  },
  {
   "cell_type": "code",
   "execution_count": 39,
   "id": "33b02b4a-5ef7-4cf2-a6b9-1d8530bbf563",
   "metadata": {},
   "outputs": [
    {
     "data": {
      "text/html": [
       "<div>\n",
       "<style scoped>\n",
       "    .dataframe tbody tr th:only-of-type {\n",
       "        vertical-align: middle;\n",
       "    }\n",
       "\n",
       "    .dataframe tbody tr th {\n",
       "        vertical-align: top;\n",
       "    }\n",
       "\n",
       "    .dataframe thead th {\n",
       "        text-align: right;\n",
       "    }\n",
       "</style>\n",
       "<table border=\"1\" class=\"dataframe\">\n",
       "  <thead>\n",
       "    <tr style=\"text-align: right;\">\n",
       "      <th></th>\n",
       "      <th>title</th>\n",
       "      <th>rating_x</th>\n",
       "      <th>content_rating</th>\n",
       "      <th>year</th>\n",
       "      <th>rating_y</th>\n",
       "      <th>actor1</th>\n",
       "      <th>actor2</th>\n",
       "      <th>actor3</th>\n",
       "      <th>actor4</th>\n",
       "      <th>actor5</th>\n",
       "    </tr>\n",
       "  </thead>\n",
       "  <tbody>\n",
       "    <tr>\n",
       "      <th>0</th>\n",
       "      <td>Magnolia</td>\n",
       "      <td>7.723</td>\n",
       "      <td>MA 15+</td>\n",
       "      <td>1999</td>\n",
       "      <td>8.0</td>\n",
       "      <td>Tom Cruise</td>\n",
       "      <td>Philip Baker Hall</td>\n",
       "      <td>Philip Seymour Hoffman</td>\n",
       "      <td>Julianne Moore</td>\n",
       "      <td>William H. Macy</td>\n",
       "    </tr>\n",
       "    <tr>\n",
       "      <th>1</th>\n",
       "      <td>Boogie Nights</td>\n",
       "      <td>7.626</td>\n",
       "      <td>R18+</td>\n",
       "      <td>1997</td>\n",
       "      <td>7.9</td>\n",
       "      <td>Mark Wahlberg</td>\n",
       "      <td>Burt Reynolds</td>\n",
       "      <td>Julianne Moore</td>\n",
       "      <td>John C. Reilly</td>\n",
       "      <td>Heather Graham</td>\n",
       "    </tr>\n",
       "    <tr>\n",
       "      <th>3</th>\n",
       "      <td>Punch-Drunk Love</td>\n",
       "      <td>7.123</td>\n",
       "      <td></td>\n",
       "      <td>2002</td>\n",
       "      <td>7.3</td>\n",
       "      <td>Adam Sandler</td>\n",
       "      <td>Emily Watson</td>\n",
       "      <td>Philip Seymour Hoffman</td>\n",
       "      <td>Luis Guzmán</td>\n",
       "      <td>Mary Lynn Rajskub</td>\n",
       "    </tr>\n",
       "    <tr>\n",
       "      <th>5</th>\n",
       "      <td>Hard Eight</td>\n",
       "      <td>6.877</td>\n",
       "      <td>MA 15+</td>\n",
       "      <td>1996</td>\n",
       "      <td>7.1</td>\n",
       "      <td>Philip Baker Hall</td>\n",
       "      <td>John C. Reilly</td>\n",
       "      <td>Gwyneth Paltrow</td>\n",
       "      <td>Samuel L. Jackson</td>\n",
       "      <td>F. William Parker</td>\n",
       "    </tr>\n",
       "    <tr>\n",
       "      <th>6</th>\n",
       "      <td>There Will Be Blood</td>\n",
       "      <td>8.072</td>\n",
       "      <td></td>\n",
       "      <td>2007</td>\n",
       "      <td>8.2</td>\n",
       "      <td>Daniel Day-Lewis</td>\n",
       "      <td>Paul Dano</td>\n",
       "      <td>Kevin J. O'Connor</td>\n",
       "      <td>Ciarán Hinds</td>\n",
       "      <td>Dillon Freasier</td>\n",
       "    </tr>\n",
       "    <tr>\n",
       "      <th>7</th>\n",
       "      <td>The Master</td>\n",
       "      <td>7.116</td>\n",
       "      <td>16</td>\n",
       "      <td>2012</td>\n",
       "      <td>7.1</td>\n",
       "      <td>Joaquin Phoenix</td>\n",
       "      <td>Philip Seymour Hoffman</td>\n",
       "      <td>Amy Adams</td>\n",
       "      <td>Rami Malek</td>\n",
       "      <td>Laura Dern</td>\n",
       "    </tr>\n",
       "    <tr>\n",
       "      <th>8</th>\n",
       "      <td>The Dirk Diggler Story</td>\n",
       "      <td>5.200</td>\n",
       "      <td></td>\n",
       "      <td>1988</td>\n",
       "      <td>5.9</td>\n",
       "      <td>Michael Stein</td>\n",
       "      <td>Robert Ridgely</td>\n",
       "      <td>Eddie Delcore</td>\n",
       "      <td>Rusty Schwimmer</td>\n",
       "      <td>Ernie Anderson</td>\n",
       "    </tr>\n",
       "    <tr>\n",
       "      <th>9</th>\n",
       "      <td>Inherent Vice</td>\n",
       "      <td>6.553</td>\n",
       "      <td>16</td>\n",
       "      <td>2014</td>\n",
       "      <td>6.6</td>\n",
       "      <td>Joaquin Phoenix</td>\n",
       "      <td>Josh Brolin</td>\n",
       "      <td>Owen Wilson</td>\n",
       "      <td>Katherine Waterston</td>\n",
       "      <td>Reese Witherspoon</td>\n",
       "    </tr>\n",
       "    <tr>\n",
       "      <th>10</th>\n",
       "      <td>Phantom Thread</td>\n",
       "      <td>7.315</td>\n",
       "      <td></td>\n",
       "      <td>2017</td>\n",
       "      <td>7.4</td>\n",
       "      <td>Daniel Day-Lewis</td>\n",
       "      <td>Vicky Krieps</td>\n",
       "      <td>Lesley Manville</td>\n",
       "      <td>Camilla Rutherford</td>\n",
       "      <td>Gina McKee</td>\n",
       "    </tr>\n",
       "    <tr>\n",
       "      <th>11</th>\n",
       "      <td>Licorice Pizza</td>\n",
       "      <td>6.966</td>\n",
       "      <td>13</td>\n",
       "      <td>2021</td>\n",
       "      <td>7.1</td>\n",
       "      <td>Alana Haim</td>\n",
       "      <td>Cooper Hoffman</td>\n",
       "      <td>Sean Penn</td>\n",
       "      <td>Tom Waits</td>\n",
       "      <td>Bradley Cooper</td>\n",
       "    </tr>\n",
       "  </tbody>\n",
       "</table>\n",
       "</div>"
      ],
      "text/plain": [
       "                     title  rating_x content_rating  year  rating_y  \\\n",
       "0                 Magnolia     7.723         MA 15+  1999       8.0   \n",
       "1            Boogie Nights     7.626           R18+  1997       7.9   \n",
       "3         Punch-Drunk Love     7.123                 2002       7.3   \n",
       "5               Hard Eight     6.877         MA 15+  1996       7.1   \n",
       "6      There Will Be Blood     8.072                 2007       8.2   \n",
       "7               The Master     7.116             16  2012       7.1   \n",
       "8   The Dirk Diggler Story     5.200                 1988       5.9   \n",
       "9            Inherent Vice     6.553             16  2014       6.6   \n",
       "10          Phantom Thread     7.315                 2017       7.4   \n",
       "11          Licorice Pizza     6.966             13  2021       7.1   \n",
       "\n",
       "               actor1                  actor2                  actor3  \\\n",
       "0          Tom Cruise       Philip Baker Hall  Philip Seymour Hoffman   \n",
       "1       Mark Wahlberg           Burt Reynolds          Julianne Moore   \n",
       "3        Adam Sandler            Emily Watson  Philip Seymour Hoffman   \n",
       "5   Philip Baker Hall          John C. Reilly         Gwyneth Paltrow   \n",
       "6    Daniel Day-Lewis               Paul Dano       Kevin J. O'Connor   \n",
       "7     Joaquin Phoenix  Philip Seymour Hoffman               Amy Adams   \n",
       "8       Michael Stein          Robert Ridgely           Eddie Delcore   \n",
       "9     Joaquin Phoenix             Josh Brolin             Owen Wilson   \n",
       "10   Daniel Day-Lewis            Vicky Krieps         Lesley Manville   \n",
       "11         Alana Haim          Cooper Hoffman               Sean Penn   \n",
       "\n",
       "                 actor4             actor5  \n",
       "0        Julianne Moore    William H. Macy  \n",
       "1        John C. Reilly     Heather Graham  \n",
       "3           Luis Guzmán  Mary Lynn Rajskub  \n",
       "5     Samuel L. Jackson  F. William Parker  \n",
       "6          Ciarán Hinds    Dillon Freasier  \n",
       "7            Rami Malek         Laura Dern  \n",
       "8       Rusty Schwimmer     Ernie Anderson  \n",
       "9   Katherine Waterston  Reese Witherspoon  \n",
       "10   Camilla Rutherford         Gina McKee  \n",
       "11            Tom Waits     Bradley Cooper  "
      ]
     },
     "execution_count": 39,
     "metadata": {},
     "output_type": "execute_result"
    }
   ],
   "source": [
    "md_df"
   ]
  },
  {
   "cell_type": "code",
   "execution_count": null,
   "id": "5a747c48-bfcb-4b4f-81a9-33646e0a0bef",
   "metadata": {},
   "outputs": [],
   "source": []
  },
  {
   "cell_type": "code",
   "execution_count": null,
   "id": "836e9fbf-7437-4fb3-80df-8c0ef64b0dc7",
   "metadata": {},
   "outputs": [],
   "source": []
  },
  {
   "cell_type": "markdown",
   "id": "ca6d4e09-2aec-4a2b-ae7a-37fe76302485",
   "metadata": {},
   "source": [
    "Begin scraping RT for the RT scores"
   ]
  },
  {
   "cell_type": "code",
   "execution_count": 40,
   "id": "e75b798c-811a-424c-a18c-4e6762dc3558",
   "metadata": {},
   "outputs": [],
   "source": [
    "url = 'https://www.rottentomatoes.com/m/hard_eight'\n",
    "\n",
    "response = requests.get(url)"
   ]
  },
  {
   "cell_type": "code",
   "execution_count": 41,
   "id": "0e911df7-8d53-4041-8540-f53a6c8a1515",
   "metadata": {},
   "outputs": [
    {
     "data": {
      "text/plain": [
       "<Response [200]>"
      ]
     },
     "execution_count": 41,
     "metadata": {},
     "output_type": "execute_result"
    }
   ],
   "source": [
    "response"
   ]
  },
  {
   "cell_type": "code",
   "execution_count": 42,
   "id": "11f821b3-8fd1-4f41-830c-e2bef48d6768",
   "metadata": {},
   "outputs": [],
   "source": [
    "rt_hard_eight = BS(response.text)"
   ]
  },
  {
   "cell_type": "code",
   "execution_count": 43,
   "id": "6012bf63-8b54-433e-9153-57b3c1dd48b9",
   "metadata": {},
   "outputs": [],
   "source": [
    "he_title = rt_hard_eight.findAll('title')[0].text"
   ]
  },
  {
   "cell_type": "code",
   "execution_count": 44,
   "id": "1b53174b-6b72-424d-b5e7-eeb831ad3461",
   "metadata": {},
   "outputs": [
    {
     "data": {
      "text/plain": [
       "'Hard Eight | Rotten Tomatoes'"
      ]
     },
     "execution_count": 44,
     "metadata": {},
     "output_type": "execute_result"
    }
   ],
   "source": [
    "he_title"
   ]
  },
  {
   "cell_type": "code",
   "execution_count": 45,
   "id": "5a658528-84bb-4752-8b64-9a8d39372029",
   "metadata": {},
   "outputs": [],
   "source": [
    "critic_elem = rt_hard_eight.find(\"rt-text\", {\"slot\": \"criticsScore\"})\n",
    "if critic_elem:\n",
    "    critic_score = critic_elem.text.strip()"
   ]
  },
  {
   "cell_type": "code",
   "execution_count": 46,
   "id": "12ce5678-7ec5-4f94-b03c-608fea8380b9",
   "metadata": {},
   "outputs": [],
   "source": [
    "he_cs = critic_score"
   ]
  },
  {
   "cell_type": "code",
   "execution_count": 47,
   "id": "ac97c00b-aa3e-4826-aeb5-7b6afaa6201d",
   "metadata": {},
   "outputs": [],
   "source": [
    "audience_elem = rt_hard_eight.find(\"rt-text\", {\"slot\": \"audienceScore\"})\n",
    "if audience_elem:\n",
    "    audience_score = audience_elem.text.strip()"
   ]
  },
  {
   "cell_type": "code",
   "execution_count": 48,
   "id": "b33df20f-2380-43f0-a9d4-e46030577445",
   "metadata": {},
   "outputs": [],
   "source": [
    "he_as = audience_score"
   ]
  },
  {
   "cell_type": "code",
   "execution_count": 49,
   "id": "fe1984d8-d69f-4441-8667-67092487eb8c",
   "metadata": {},
   "outputs": [],
   "source": [
    "hard_eight_full = []\n",
    "\n",
    "hard_eight_full.append({\n",
    "    'movie_title':he_title,\n",
    "    'critic_rating':he_cs,\n",
    "    'audience_rating':he_as})"
   ]
  },
  {
   "cell_type": "code",
   "execution_count": 50,
   "id": "7e0c699e-f4f7-4ca3-b422-db95494f3810",
   "metadata": {},
   "outputs": [
    {
     "data": {
      "text/plain": [
       "[{'movie_title': 'Hard Eight | Rotten Tomatoes',\n",
       "  'critic_rating': '82%',\n",
       "  'audience_rating': '83%'}]"
      ]
     },
     "execution_count": 50,
     "metadata": {},
     "output_type": "execute_result"
    }
   ],
   "source": [
    "hard_eight_full"
   ]
  },
  {
   "cell_type": "code",
   "execution_count": 51,
   "id": "88e1030d-146e-485e-9bfe-e2781d6beb9b",
   "metadata": {},
   "outputs": [],
   "source": [
    "url2 = 'https://www.rottentomatoes.com/m/boogie_nights'\n",
    "\n",
    "response_two = requests.get(url2)"
   ]
  },
  {
   "cell_type": "code",
   "execution_count": 52,
   "id": "5b325109-fea7-4038-b4c5-c06add8317c4",
   "metadata": {},
   "outputs": [],
   "source": [
    "bg_soup = BS(response_two.text)"
   ]
  },
  {
   "cell_type": "code",
   "execution_count": 53,
   "id": "980c7285-8f62-40d1-ae24-8e1f9a1ec645",
   "metadata": {},
   "outputs": [],
   "source": [
    "bg_title = bg_soup.find('title').text"
   ]
  },
  {
   "cell_type": "code",
   "execution_count": 54,
   "id": "fa2f716b-8b68-4bf7-bb73-4d4e71a2fbe1",
   "metadata": {},
   "outputs": [],
   "source": [
    "critic_elem = bg_soup.find(\"rt-text\", {\"slot\": \"criticsScore\"})\n",
    "if critic_elem:\n",
    "    critic_score = critic_elem.text.strip()"
   ]
  },
  {
   "cell_type": "code",
   "execution_count": 55,
   "id": "f58c1f6b-57e7-467a-992f-82b2dbba1853",
   "metadata": {},
   "outputs": [],
   "source": [
    "bg_cs = critic_score"
   ]
  },
  {
   "cell_type": "code",
   "execution_count": 56,
   "id": "80302e81-6a3c-4abe-9b7e-b8cf28c2334e",
   "metadata": {},
   "outputs": [],
   "source": [
    "audience_elem = bg_soup.find(\"rt-text\", {\"slot\": \"audienceScore\"})\n",
    "if audience_elem:\n",
    "    audience_score = audience_elem.text.strip()"
   ]
  },
  {
   "cell_type": "code",
   "execution_count": 57,
   "id": "7c6547b0-342c-49cf-808b-410f3362c85a",
   "metadata": {},
   "outputs": [],
   "source": [
    "bg_as = audience_score"
   ]
  },
  {
   "cell_type": "code",
   "execution_count": 58,
   "id": "f1513ed4-94c8-48e4-b9fd-530ae6a7b2ec",
   "metadata": {},
   "outputs": [],
   "source": [
    "boogie_nights = []\n",
    "\n",
    "boogie_nights.append({\n",
    "    'movie_title':bg_title,\n",
    "    'critic_rating':bg_cs,\n",
    "    'audience_rating':bg_as})"
   ]
  },
  {
   "cell_type": "code",
   "execution_count": 59,
   "id": "d6554439-dd8d-44c1-9545-77ff4714d135",
   "metadata": {},
   "outputs": [
    {
     "data": {
      "text/plain": [
       "[{'movie_title': 'Boogie Nights | Rotten Tomatoes',\n",
       "  'critic_rating': '94%',\n",
       "  'audience_rating': '89%'}]"
      ]
     },
     "execution_count": 59,
     "metadata": {},
     "output_type": "execute_result"
    }
   ],
   "source": [
    "boogie_nights"
   ]
  },
  {
   "cell_type": "code",
   "execution_count": 60,
   "id": "329950cf-b008-4fe4-9417-5efe6591565a",
   "metadata": {},
   "outputs": [],
   "source": [
    "url3 = 'https://www.rottentomatoes.com/m/magnolia'\n",
    "\n",
    "response3 = requests.get(url3)"
   ]
  },
  {
   "cell_type": "code",
   "execution_count": 61,
   "id": "05382eb1-8c6f-4101-88bf-466fe87ff296",
   "metadata": {},
   "outputs": [],
   "source": [
    "mag_bs = BS(response3.text)"
   ]
  },
  {
   "cell_type": "code",
   "execution_count": 62,
   "id": "c5eb75fc-0b98-413f-9a8f-33d92ea25de3",
   "metadata": {},
   "outputs": [],
   "source": [
    "mag_title = mag_bs.find('title').text"
   ]
  },
  {
   "cell_type": "code",
   "execution_count": 63,
   "id": "c453ca97-db46-4a6e-a36e-d8c8830b7530",
   "metadata": {},
   "outputs": [],
   "source": [
    "critic_elem = mag_bs.find(\"rt-text\", {\"slot\": \"criticsScore\"})\n",
    "if critic_elem:\n",
    "    critic_score = critic_elem.text.strip()"
   ]
  },
  {
   "cell_type": "code",
   "execution_count": 64,
   "id": "e273b8ed-d5e1-4a16-8036-070435dc1a1b",
   "metadata": {},
   "outputs": [],
   "source": [
    "mag_cs = critic_score"
   ]
  },
  {
   "cell_type": "code",
   "execution_count": 65,
   "id": "5ba5ed40-8710-4fe8-b594-c66f78f770b6",
   "metadata": {},
   "outputs": [],
   "source": [
    "audience_elem = mag_bs.find(\"rt-text\", {\"slot\": \"audienceScore\"})\n",
    "if audience_elem:\n",
    "    audience_score = audience_elem.text.strip()"
   ]
  },
  {
   "cell_type": "code",
   "execution_count": 66,
   "id": "18f92e2f-4cea-45e5-b3ae-e91894c83ffe",
   "metadata": {},
   "outputs": [],
   "source": [
    "mag_as = audience_score"
   ]
  },
  {
   "cell_type": "code",
   "execution_count": 67,
   "id": "b06794bb-b304-4cf8-80d7-10c8a5182fc7",
   "metadata": {},
   "outputs": [],
   "source": [
    "magnolia = []\n",
    "\n",
    "magnolia.append({\n",
    "    'movie_title':mag_title,\n",
    "    'critic_rating':mag_cs,\n",
    "    'audience_rating':mag_as})"
   ]
  },
  {
   "cell_type": "code",
   "execution_count": 68,
   "id": "c08a8e55-8519-4258-8e35-97a206bf7b1e",
   "metadata": {},
   "outputs": [
    {
     "data": {
      "text/plain": [
       "[{'movie_title': 'Magnolia | Rotten Tomatoes',\n",
       "  'critic_rating': '82%',\n",
       "  'audience_rating': '89%'}]"
      ]
     },
     "execution_count": 68,
     "metadata": {},
     "output_type": "execute_result"
    }
   ],
   "source": [
    "magnolia"
   ]
  },
  {
   "cell_type": "code",
   "execution_count": 69,
   "id": "1ba8f761-cf2a-4db3-8e86-8d76c58dfa32",
   "metadata": {},
   "outputs": [],
   "source": [
    "url4 = 'https://www.rottentomatoes.com/m/punchdrunk_love'\n",
    "\n",
    "response4 = requests.get(url4)"
   ]
  },
  {
   "cell_type": "code",
   "execution_count": 70,
   "id": "5a4f877d-37cc-4de5-831f-0ad8d0e078bd",
   "metadata": {},
   "outputs": [],
   "source": [
    "pdl_bs = BS(response4.text)"
   ]
  },
  {
   "cell_type": "code",
   "execution_count": 71,
   "id": "bada17b9-3975-456e-aaa5-7aaa3fa87439",
   "metadata": {},
   "outputs": [],
   "source": [
    "pdl_title = pdl_bs.find('title').text"
   ]
  },
  {
   "cell_type": "code",
   "execution_count": 72,
   "id": "147b6e64-a7fe-4af1-862c-2bf4a9b72e4d",
   "metadata": {},
   "outputs": [],
   "source": [
    "critic_elem = pdl_bs.find(\"rt-text\", {\"slot\": \"criticsScore\"})\n",
    "if critic_elem:\n",
    "    critic_score = critic_elem.text.strip()"
   ]
  },
  {
   "cell_type": "code",
   "execution_count": 73,
   "id": "a0beda12-a842-4c07-b78a-f4c3c4f9c0e9",
   "metadata": {},
   "outputs": [],
   "source": [
    "pdl_cs = critic_score"
   ]
  },
  {
   "cell_type": "code",
   "execution_count": 74,
   "id": "e5689558-0670-499e-b7d1-0332564f37a6",
   "metadata": {},
   "outputs": [],
   "source": [
    "audience_elem = pdl_bs.find(\"rt-text\", {\"slot\": \"audienceScore\"})\n",
    "if audience_elem:\n",
    "    audience_score = audience_elem.text.strip()"
   ]
  },
  {
   "cell_type": "code",
   "execution_count": 75,
   "id": "423499a1-d338-4ba9-86a4-a2969678d0a7",
   "metadata": {},
   "outputs": [],
   "source": [
    "pdl_as = audience_score"
   ]
  },
  {
   "cell_type": "code",
   "execution_count": 76,
   "id": "690908ee-3f4f-4e2c-9cf1-980e601d7eab",
   "metadata": {},
   "outputs": [],
   "source": [
    "punchdrunk_love = []\n",
    "\n",
    "punchdrunk_love.append({\n",
    "    'movie_title':pdl_title,\n",
    "    'critic_rating':pdl_cs,\n",
    "    'audience_rating':pdl_as})"
   ]
  },
  {
   "cell_type": "code",
   "execution_count": 77,
   "id": "b98c8229-9196-4298-af76-066d532a1ee0",
   "metadata": {},
   "outputs": [
    {
     "data": {
      "text/plain": [
       "[{'movie_title': 'Punch-Drunk Love | Rotten Tomatoes',\n",
       "  'critic_rating': '79%',\n",
       "  'audience_rating': '77%'}]"
      ]
     },
     "execution_count": 77,
     "metadata": {},
     "output_type": "execute_result"
    }
   ],
   "source": [
    "punchdrunk_love"
   ]
  },
  {
   "cell_type": "code",
   "execution_count": 78,
   "id": "e9e254f4-c79c-4090-bf64-a0f27cf18344",
   "metadata": {},
   "outputs": [],
   "source": [
    "url5= 'https://www.rottentomatoes.com/m/there_will_be_blood'\n",
    "\n",
    "response = requests.get(url5)"
   ]
  },
  {
   "cell_type": "code",
   "execution_count": 79,
   "id": "af3a9ae5-e622-4042-88cb-40e6226d22dc",
   "metadata": {},
   "outputs": [],
   "source": [
    "twbb_bs = BS(response.text)"
   ]
  },
  {
   "cell_type": "code",
   "execution_count": 80,
   "id": "c009a805-24c5-4257-b471-5faa936ff106",
   "metadata": {},
   "outputs": [],
   "source": [
    "twbb_title = twbb_bs.find('title').text"
   ]
  },
  {
   "cell_type": "code",
   "execution_count": 81,
   "id": "c22104d2-4ee2-45a3-a119-9347da223316",
   "metadata": {},
   "outputs": [],
   "source": [
    "critic_elem = twbb_bs.find(\"rt-text\", {\"slot\": \"criticsScore\"})\n",
    "if critic_elem:\n",
    "    critic_score = critic_elem.text.strip()"
   ]
  },
  {
   "cell_type": "code",
   "execution_count": 82,
   "id": "e167e461-c510-4206-8dc1-bfabb32e79bd",
   "metadata": {},
   "outputs": [],
   "source": [
    "twbb_cs = critic_score"
   ]
  },
  {
   "cell_type": "code",
   "execution_count": 83,
   "id": "73b3c351-b204-4f1a-8ed4-c9bf109117ac",
   "metadata": {},
   "outputs": [],
   "source": [
    "audience_elem = twbb_bs.find(\"rt-text\", {\"slot\": \"audienceScore\"})\n",
    "if audience_elem:\n",
    "    audience_score = audience_elem.text.strip()"
   ]
  },
  {
   "cell_type": "code",
   "execution_count": 84,
   "id": "fe5ad3e4-e315-4843-9457-6f04bb90b8d8",
   "metadata": {},
   "outputs": [],
   "source": [
    "twbb_as = audience_score"
   ]
  },
  {
   "cell_type": "code",
   "execution_count": 85,
   "id": "81ce7693-052e-4394-818d-2e0cfaab23a2",
   "metadata": {},
   "outputs": [],
   "source": [
    "therewill_beblood = []\n",
    "\n",
    "therewill_beblood.append({\n",
    "    'movie_title':twbb_title,\n",
    "    'critic_rating':twbb_cs,\n",
    "    'audience_rating':twbb_as})"
   ]
  },
  {
   "cell_type": "code",
   "execution_count": 86,
   "id": "37f14091-b523-4ebc-99b5-c9e5e5db217c",
   "metadata": {},
   "outputs": [
    {
     "data": {
      "text/plain": [
       "[{'movie_title': 'There Will Be Blood | Rotten Tomatoes',\n",
       "  'critic_rating': '91%',\n",
       "  'audience_rating': '86%'}]"
      ]
     },
     "execution_count": 86,
     "metadata": {},
     "output_type": "execute_result"
    }
   ],
   "source": [
    "therewill_beblood"
   ]
  },
  {
   "cell_type": "code",
   "execution_count": 87,
   "id": "f2a36450-7413-41d3-bcff-5910e669dc46",
   "metadata": {},
   "outputs": [],
   "source": [
    "url6 = 'https://www.rottentomatoes.com/m/the_master_2011'\n",
    "\n",
    "response = requests.get(url6)"
   ]
  },
  {
   "cell_type": "code",
   "execution_count": 88,
   "id": "975fa7e8-1502-4089-a0f2-0a7670b6355c",
   "metadata": {},
   "outputs": [],
   "source": [
    "tm_bs = BS(response.text)"
   ]
  },
  {
   "cell_type": "code",
   "execution_count": 89,
   "id": "6b7e77c5-5d5e-4c31-90f4-e00ebe0ecce3",
   "metadata": {},
   "outputs": [],
   "source": [
    "tm_title = tm_bs.find('title').text"
   ]
  },
  {
   "cell_type": "code",
   "execution_count": 90,
   "id": "fc2ed9fb-b89f-457a-83e8-c6426cbfe22c",
   "metadata": {},
   "outputs": [],
   "source": [
    "critic_elem = tm_bs.find(\"rt-text\", {\"slot\": \"criticsScore\"})\n",
    "if critic_elem:\n",
    "    critic_score = critic_elem.text.strip()"
   ]
  },
  {
   "cell_type": "code",
   "execution_count": 91,
   "id": "ab1cf116-fd2e-475c-a98d-384b0851e51a",
   "metadata": {},
   "outputs": [],
   "source": [
    "tm_cs = critic_score"
   ]
  },
  {
   "cell_type": "code",
   "execution_count": 92,
   "id": "d90753b7-e2bb-4c83-be40-58bdcfcc0098",
   "metadata": {},
   "outputs": [],
   "source": [
    "audience_elem = tm_bs.find(\"rt-text\", {\"slot\": \"audienceScore\"})\n",
    "if audience_elem:\n",
    "    audience_score = audience_elem.text.strip()"
   ]
  },
  {
   "cell_type": "code",
   "execution_count": 93,
   "id": "41659e91-1b6e-4773-a6e2-52a15b01f75b",
   "metadata": {},
   "outputs": [],
   "source": [
    "tm_as = audience_score"
   ]
  },
  {
   "cell_type": "code",
   "execution_count": 94,
   "id": "3a796a94-3e92-4ac4-97a8-ac4e38c10a0b",
   "metadata": {},
   "outputs": [],
   "source": [
    "the_master = []\n",
    "\n",
    "the_master.append({\n",
    "    'movie_title':tm_title,\n",
    "    'critic_rating':tm_cs,\n",
    "    'audience_rating':tm_as})"
   ]
  },
  {
   "cell_type": "code",
   "execution_count": 95,
   "id": "f623a3bb-6a2e-4742-bb4d-cf1c4cb5d8f1",
   "metadata": {},
   "outputs": [
    {
     "data": {
      "text/plain": [
       "[{'movie_title': 'The Master | Rotten Tomatoes',\n",
       "  'critic_rating': '85%',\n",
       "  'audience_rating': '62%'}]"
      ]
     },
     "execution_count": 95,
     "metadata": {},
     "output_type": "execute_result"
    }
   ],
   "source": [
    "the_master"
   ]
  },
  {
   "cell_type": "code",
   "execution_count": 96,
   "id": "6e4d5552-bdfb-4d6d-b9e8-92739e6d0770",
   "metadata": {},
   "outputs": [],
   "source": [
    "url7 = 'https://www.rottentomatoes.com/m/inherent_vice'\n",
    "\n",
    "response = requests.get(url7)"
   ]
  },
  {
   "cell_type": "code",
   "execution_count": 97,
   "id": "e336cecf-7fd7-48c0-b421-bab41088832c",
   "metadata": {},
   "outputs": [],
   "source": [
    "ihv_bs = BS(response.text)"
   ]
  },
  {
   "cell_type": "code",
   "execution_count": 98,
   "id": "276f283c-8131-482a-a523-ad531a7735d4",
   "metadata": {},
   "outputs": [],
   "source": [
    "ihv_title = ihv_bs.find('title').text"
   ]
  },
  {
   "cell_type": "code",
   "execution_count": 99,
   "id": "0cc80b9b-0fd0-467c-9255-c561a04d245a",
   "metadata": {},
   "outputs": [],
   "source": [
    "critic_elem = ihv_bs.find(\"rt-text\", {\"slot\": \"criticsScore\"})\n",
    "if critic_elem:\n",
    "    critic_score = critic_elem.text.strip()"
   ]
  },
  {
   "cell_type": "code",
   "execution_count": 100,
   "id": "c2e0f885-755a-47b0-b56a-465b60b71b4e",
   "metadata": {},
   "outputs": [],
   "source": [
    "ihv_cs = critic_score"
   ]
  },
  {
   "cell_type": "code",
   "execution_count": 101,
   "id": "a18e9795-fb2d-43e8-b17c-8d953cf51965",
   "metadata": {},
   "outputs": [],
   "source": [
    "audience_elem = ihv_bs.find(\"rt-text\", {\"slot\": \"audienceScore\"})\n",
    "if audience_elem:\n",
    "    audience_score = audience_elem.text.strip()"
   ]
  },
  {
   "cell_type": "code",
   "execution_count": 102,
   "id": "50657622-631f-4734-bc6f-6513bf0b2c67",
   "metadata": {},
   "outputs": [],
   "source": [
    "ihv_as = audience_score"
   ]
  },
  {
   "cell_type": "code",
   "execution_count": 103,
   "id": "b97b99e1-089a-4e19-a36c-7b45f6337eaf",
   "metadata": {},
   "outputs": [],
   "source": [
    "inherent_vice = []\n",
    "\n",
    "inherent_vice.append({\n",
    "    'movie_title':ihv_title,\n",
    "    'critic_rating':ihv_cs,\n",
    "    'audience_rating':ihv_as})"
   ]
  },
  {
   "cell_type": "code",
   "execution_count": 104,
   "id": "735140dd-72e3-4b49-bc53-a4c631056ef0",
   "metadata": {},
   "outputs": [
    {
     "data": {
      "text/plain": [
       "[{'movie_title': 'Inherent Vice | Rotten Tomatoes',\n",
       "  'critic_rating': '74%',\n",
       "  'audience_rating': '53%'}]"
      ]
     },
     "execution_count": 104,
     "metadata": {},
     "output_type": "execute_result"
    }
   ],
   "source": [
    "inherent_vice"
   ]
  },
  {
   "cell_type": "code",
   "execution_count": 105,
   "id": "9493ea1b-ed35-41c7-8ddf-d999d24a5449",
   "metadata": {},
   "outputs": [],
   "source": [
    "url8 = 'https://www.rottentomatoes.com/m/phantom_thread'\n",
    "\n",
    "response = requests.get(url8)"
   ]
  },
  {
   "cell_type": "code",
   "execution_count": 106,
   "id": "d1ad9263-8b12-4825-982a-a0ba99fb5c12",
   "metadata": {},
   "outputs": [],
   "source": [
    "pt_bs = BS(response.text)"
   ]
  },
  {
   "cell_type": "code",
   "execution_count": 107,
   "id": "c31d850f-cab1-4a1b-92a9-74f5a6d5805b",
   "metadata": {},
   "outputs": [],
   "source": [
    "pt_title = pt_bs.find('title').text"
   ]
  },
  {
   "cell_type": "code",
   "execution_count": 108,
   "id": "ecb04bc1-13c8-4153-a223-7622561cf017",
   "metadata": {},
   "outputs": [],
   "source": [
    "critic_elem = pt_bs.find(\"rt-text\", {\"slot\": \"criticsScore\"})\n",
    "if critic_elem:\n",
    "    critic_score = critic_elem.text.strip()"
   ]
  },
  {
   "cell_type": "code",
   "execution_count": 109,
   "id": "03dc26f8-3da1-4216-b4da-1eeab2cd1102",
   "metadata": {},
   "outputs": [],
   "source": [
    "pt_cs = critic_score"
   ]
  },
  {
   "cell_type": "code",
   "execution_count": 110,
   "id": "38525d8c-42dd-468c-8af0-8a7f78f0c5be",
   "metadata": {},
   "outputs": [],
   "source": [
    "audience_elem = pt_bs.find(\"rt-text\", {\"slot\": \"audienceScore\"})\n",
    "if audience_elem:\n",
    "    audience_score = audience_elem.text.strip()"
   ]
  },
  {
   "cell_type": "code",
   "execution_count": 111,
   "id": "71a36bcd-d798-448d-a2e9-7413a3aa436b",
   "metadata": {},
   "outputs": [],
   "source": [
    "pt_as = audience_score"
   ]
  },
  {
   "cell_type": "code",
   "execution_count": 112,
   "id": "32dbfe59-09d4-472a-8ade-1a1ba97f22d5",
   "metadata": {},
   "outputs": [],
   "source": [
    "phantom_thread = []\n",
    "\n",
    "phantom_thread.append({\n",
    "    'movie_title':pt_title,\n",
    "    'critic_rating':pt_cs,\n",
    "    'audience_rating':pt_as})"
   ]
  },
  {
   "cell_type": "code",
   "execution_count": 113,
   "id": "42c68f21-1917-4273-afcd-789d2ecb14f3",
   "metadata": {},
   "outputs": [
    {
     "data": {
      "text/plain": [
       "[{'movie_title': 'Phantom Thread | Rotten Tomatoes',\n",
       "  'critic_rating': '91%',\n",
       "  'audience_rating': '71%'}]"
      ]
     },
     "execution_count": 113,
     "metadata": {},
     "output_type": "execute_result"
    }
   ],
   "source": [
    "phantom_thread"
   ]
  },
  {
   "cell_type": "code",
   "execution_count": 114,
   "id": "594321c6-fc98-4d35-a9cb-002aefa24643",
   "metadata": {},
   "outputs": [],
   "source": [
    "url9 = 'https://www.rottentomatoes.com/m/licorice_pizza'\n",
    "\n",
    "response = requests.get(url9)"
   ]
  },
  {
   "cell_type": "code",
   "execution_count": 115,
   "id": "f12750df-25e2-4c54-844c-a47d5a6b1a7f",
   "metadata": {},
   "outputs": [],
   "source": [
    "lp_bs = BS(response.text)"
   ]
  },
  {
   "cell_type": "code",
   "execution_count": 116,
   "id": "2b8d0a66-e5fb-4926-a2c4-b29a15ab3a6a",
   "metadata": {},
   "outputs": [],
   "source": [
    "lp_title = lp_bs.find('title').text"
   ]
  },
  {
   "cell_type": "code",
   "execution_count": 117,
   "id": "1a06f251-27bc-4141-9b71-59bc91c94642",
   "metadata": {},
   "outputs": [],
   "source": [
    "critic_elem = lp_bs.find(\"rt-text\", {\"slot\": \"criticsScore\"})\n",
    "if critic_elem:\n",
    "    critic_score = critic_elem.text.strip()"
   ]
  },
  {
   "cell_type": "code",
   "execution_count": 118,
   "id": "ad533431-3ac0-4f29-8689-f42b78bd84a4",
   "metadata": {},
   "outputs": [],
   "source": [
    "lp_cs = critic_score"
   ]
  },
  {
   "cell_type": "code",
   "execution_count": 119,
   "id": "cadc2e6a-8295-4e6e-a792-859c67483fdb",
   "metadata": {},
   "outputs": [],
   "source": [
    "audience_elem = lp_bs.find(\"rt-text\", {\"slot\": \"audienceScore\"})\n",
    "if audience_elem:\n",
    "    audience_score = audience_elem.text.strip()"
   ]
  },
  {
   "cell_type": "code",
   "execution_count": 120,
   "id": "67925d87-20ee-4341-923f-4e4e69c88947",
   "metadata": {},
   "outputs": [],
   "source": [
    "lp_as = audience_score"
   ]
  },
  {
   "cell_type": "code",
   "execution_count": 121,
   "id": "cd766ef8-e8c2-4844-b709-e53cdbb83577",
   "metadata": {},
   "outputs": [],
   "source": [
    "licorice_pizza = []\n",
    "\n",
    "licorice_pizza.append({\n",
    "    'movie_title':lp_title,\n",
    "    'critic_rating':lp_cs,\n",
    "    'audience_rating':lp_as})"
   ]
  },
  {
   "cell_type": "code",
   "execution_count": 122,
   "id": "ef10ee76-6094-478f-87d7-ffd87d0c919b",
   "metadata": {},
   "outputs": [
    {
     "data": {
      "text/plain": [
       "[{'movie_title': 'Licorice Pizza | Rotten Tomatoes',\n",
       "  'critic_rating': '90%',\n",
       "  'audience_rating': '65%'}]"
      ]
     },
     "execution_count": 122,
     "metadata": {},
     "output_type": "execute_result"
    }
   ],
   "source": [
    "licorice_pizza"
   ]
  },
  {
   "cell_type": "code",
   "execution_count": 123,
   "id": "8835472f-879c-44bb-bcc5-4cf0c6c430aa",
   "metadata": {},
   "outputs": [],
   "source": [
    "hard_eight = hard_eight_full[0]"
   ]
  },
  {
   "cell_type": "code",
   "execution_count": 124,
   "id": "e6946cbf-7b08-4689-a982-995b66f5441d",
   "metadata": {},
   "outputs": [],
   "source": [
    "boogie_nights = boogie_nights[0]"
   ]
  },
  {
   "cell_type": "code",
   "execution_count": 125,
   "id": "7326440e-d568-49b1-8033-e7543feb3972",
   "metadata": {},
   "outputs": [],
   "source": [
    "magnolia = magnolia[0]"
   ]
  },
  {
   "cell_type": "code",
   "execution_count": 126,
   "id": "fb159402-6760-4253-94df-4b847eacfc0d",
   "metadata": {},
   "outputs": [],
   "source": [
    "punchdrunk_love = punchdrunk_love[0]"
   ]
  },
  {
   "cell_type": "code",
   "execution_count": 127,
   "id": "668b20ea-56a1-4621-85da-397e42f060e3",
   "metadata": {},
   "outputs": [],
   "source": [
    "therewill_beblood = therewill_beblood[0]"
   ]
  },
  {
   "cell_type": "code",
   "execution_count": 128,
   "id": "14031a43-635a-4ab5-91eb-009400a302ae",
   "metadata": {},
   "outputs": [],
   "source": [
    "the_master = the_master[0]"
   ]
  },
  {
   "cell_type": "code",
   "execution_count": 129,
   "id": "d53eb07f-ddc6-4600-9a87-9db189ed6a82",
   "metadata": {},
   "outputs": [],
   "source": [
    "inherent_vice = inherent_vice[0]"
   ]
  },
  {
   "cell_type": "code",
   "execution_count": 130,
   "id": "19b639b2-8371-427c-ba55-62ec5d0a6445",
   "metadata": {},
   "outputs": [],
   "source": [
    "phantom_thread = phantom_thread[0]"
   ]
  },
  {
   "cell_type": "code",
   "execution_count": 131,
   "id": "c56e1fba-1d58-43f6-895a-56c19d6eee6c",
   "metadata": {},
   "outputs": [],
   "source": [
    "licorice_pizza = licorice_pizza[0]"
   ]
  },
  {
   "cell_type": "code",
   "execution_count": 132,
   "id": "456a7ca5-271d-4b7b-b4f3-6f60206d2e11",
   "metadata": {},
   "outputs": [],
   "source": [
    "rt_list = [hard_eight, boogie_nights, magnolia, punchdrunk_love, therewill_beblood, the_master, inherent_vice, phantom_thread, licorice_pizza]"
   ]
  },
  {
   "cell_type": "code",
   "execution_count": 133,
   "id": "8e1db693-b1e5-434c-b3fc-9c371378dedd",
   "metadata": {},
   "outputs": [],
   "source": [
    "rt_df = pd.DataFrame(rt_list)"
   ]
  },
  {
   "cell_type": "code",
   "execution_count": 134,
   "id": "cfc3dbc5-e4dd-465a-a570-291e647fe563",
   "metadata": {},
   "outputs": [],
   "source": [
    "rt_df['movie_title'] = rt_df['movie_title'].str.replace(' | Rotten Tomatoes','')"
   ]
  },
  {
   "cell_type": "code",
   "execution_count": 135,
   "id": "8655c356-4e37-42ca-b8b6-ff2d9bd442e7",
   "metadata": {},
   "outputs": [],
   "source": [
    "pta_df = pd.merge(md_df, rt_df, left_on='title', right_on='movie_title', how='inner')"
   ]
  },
  {
   "cell_type": "code",
   "execution_count": 136,
   "id": "a6bd1ee9-8b73-4e55-96f7-bb2d8c0a06a1",
   "metadata": {},
   "outputs": [],
   "source": [
    "pta_df = pta_df.drop(columns = 'movie_title')"
   ]
  },
  {
   "cell_type": "code",
   "execution_count": 137,
   "id": "992dedfe-7d78-4816-b585-8448ed80fa68",
   "metadata": {},
   "outputs": [],
   "source": [
    "pta_df = pta_df.rename(columns = {'title':'Film','rating_x':'TMDb_rating','content_rating':'MPAA_rating','year':'Release_Year','rating_y':'IMDb_rating',\n",
    "               'critic_rating':'RT_critic_score','audience_rating':'RT_audience_score'})"
   ]
  },
  {
   "cell_type": "code",
   "execution_count": 138,
   "id": "3d33c725-9a37-4c60-af2b-462c27abd2b8",
   "metadata": {},
   "outputs": [],
   "source": [
    "pta_df['MPAA_rating'] = 'R'"
   ]
  },
  {
   "cell_type": "code",
   "execution_count": 139,
   "id": "82b379fe-d6e0-42d0-aa75-fc0d7389c1ca",
   "metadata": {},
   "outputs": [
    {
     "data": {
      "text/html": [
       "<div>\n",
       "<style scoped>\n",
       "    .dataframe tbody tr th:only-of-type {\n",
       "        vertical-align: middle;\n",
       "    }\n",
       "\n",
       "    .dataframe tbody tr th {\n",
       "        vertical-align: top;\n",
       "    }\n",
       "\n",
       "    .dataframe thead th {\n",
       "        text-align: right;\n",
       "    }\n",
       "</style>\n",
       "<table border=\"1\" class=\"dataframe\">\n",
       "  <thead>\n",
       "    <tr style=\"text-align: right;\">\n",
       "      <th></th>\n",
       "      <th>Film</th>\n",
       "      <th>TMDb_rating</th>\n",
       "      <th>MPAA_rating</th>\n",
       "      <th>Release_Year</th>\n",
       "      <th>IMDb_rating</th>\n",
       "      <th>actor1</th>\n",
       "      <th>actor2</th>\n",
       "      <th>actor3</th>\n",
       "      <th>actor4</th>\n",
       "      <th>actor5</th>\n",
       "      <th>RT_critic_score</th>\n",
       "      <th>RT_audience_score</th>\n",
       "    </tr>\n",
       "  </thead>\n",
       "  <tbody>\n",
       "    <tr>\n",
       "      <th>0</th>\n",
       "      <td>Magnolia</td>\n",
       "      <td>7.723</td>\n",
       "      <td>R</td>\n",
       "      <td>1999</td>\n",
       "      <td>8.0</td>\n",
       "      <td>Tom Cruise</td>\n",
       "      <td>Philip Baker Hall</td>\n",
       "      <td>Philip Seymour Hoffman</td>\n",
       "      <td>Julianne Moore</td>\n",
       "      <td>William H. Macy</td>\n",
       "      <td>82%</td>\n",
       "      <td>89%</td>\n",
       "    </tr>\n",
       "    <tr>\n",
       "      <th>1</th>\n",
       "      <td>Boogie Nights</td>\n",
       "      <td>7.626</td>\n",
       "      <td>R</td>\n",
       "      <td>1997</td>\n",
       "      <td>7.9</td>\n",
       "      <td>Mark Wahlberg</td>\n",
       "      <td>Burt Reynolds</td>\n",
       "      <td>Julianne Moore</td>\n",
       "      <td>John C. Reilly</td>\n",
       "      <td>Heather Graham</td>\n",
       "      <td>94%</td>\n",
       "      <td>89%</td>\n",
       "    </tr>\n",
       "    <tr>\n",
       "      <th>2</th>\n",
       "      <td>Punch-Drunk Love</td>\n",
       "      <td>7.123</td>\n",
       "      <td>R</td>\n",
       "      <td>2002</td>\n",
       "      <td>7.3</td>\n",
       "      <td>Adam Sandler</td>\n",
       "      <td>Emily Watson</td>\n",
       "      <td>Philip Seymour Hoffman</td>\n",
       "      <td>Luis Guzmán</td>\n",
       "      <td>Mary Lynn Rajskub</td>\n",
       "      <td>79%</td>\n",
       "      <td>77%</td>\n",
       "    </tr>\n",
       "    <tr>\n",
       "      <th>3</th>\n",
       "      <td>Hard Eight</td>\n",
       "      <td>6.877</td>\n",
       "      <td>R</td>\n",
       "      <td>1996</td>\n",
       "      <td>7.1</td>\n",
       "      <td>Philip Baker Hall</td>\n",
       "      <td>John C. Reilly</td>\n",
       "      <td>Gwyneth Paltrow</td>\n",
       "      <td>Samuel L. Jackson</td>\n",
       "      <td>F. William Parker</td>\n",
       "      <td>82%</td>\n",
       "      <td>83%</td>\n",
       "    </tr>\n",
       "    <tr>\n",
       "      <th>4</th>\n",
       "      <td>There Will Be Blood</td>\n",
       "      <td>8.072</td>\n",
       "      <td>R</td>\n",
       "      <td>2007</td>\n",
       "      <td>8.2</td>\n",
       "      <td>Daniel Day-Lewis</td>\n",
       "      <td>Paul Dano</td>\n",
       "      <td>Kevin J. O'Connor</td>\n",
       "      <td>Ciarán Hinds</td>\n",
       "      <td>Dillon Freasier</td>\n",
       "      <td>91%</td>\n",
       "      <td>86%</td>\n",
       "    </tr>\n",
       "    <tr>\n",
       "      <th>5</th>\n",
       "      <td>The Master</td>\n",
       "      <td>7.116</td>\n",
       "      <td>R</td>\n",
       "      <td>2012</td>\n",
       "      <td>7.1</td>\n",
       "      <td>Joaquin Phoenix</td>\n",
       "      <td>Philip Seymour Hoffman</td>\n",
       "      <td>Amy Adams</td>\n",
       "      <td>Rami Malek</td>\n",
       "      <td>Laura Dern</td>\n",
       "      <td>85%</td>\n",
       "      <td>62%</td>\n",
       "    </tr>\n",
       "    <tr>\n",
       "      <th>6</th>\n",
       "      <td>Inherent Vice</td>\n",
       "      <td>6.553</td>\n",
       "      <td>R</td>\n",
       "      <td>2014</td>\n",
       "      <td>6.6</td>\n",
       "      <td>Joaquin Phoenix</td>\n",
       "      <td>Josh Brolin</td>\n",
       "      <td>Owen Wilson</td>\n",
       "      <td>Katherine Waterston</td>\n",
       "      <td>Reese Witherspoon</td>\n",
       "      <td>74%</td>\n",
       "      <td>53%</td>\n",
       "    </tr>\n",
       "    <tr>\n",
       "      <th>7</th>\n",
       "      <td>Phantom Thread</td>\n",
       "      <td>7.315</td>\n",
       "      <td>R</td>\n",
       "      <td>2017</td>\n",
       "      <td>7.4</td>\n",
       "      <td>Daniel Day-Lewis</td>\n",
       "      <td>Vicky Krieps</td>\n",
       "      <td>Lesley Manville</td>\n",
       "      <td>Camilla Rutherford</td>\n",
       "      <td>Gina McKee</td>\n",
       "      <td>91%</td>\n",
       "      <td>71%</td>\n",
       "    </tr>\n",
       "    <tr>\n",
       "      <th>8</th>\n",
       "      <td>Licorice Pizza</td>\n",
       "      <td>6.966</td>\n",
       "      <td>R</td>\n",
       "      <td>2021</td>\n",
       "      <td>7.1</td>\n",
       "      <td>Alana Haim</td>\n",
       "      <td>Cooper Hoffman</td>\n",
       "      <td>Sean Penn</td>\n",
       "      <td>Tom Waits</td>\n",
       "      <td>Bradley Cooper</td>\n",
       "      <td>90%</td>\n",
       "      <td>65%</td>\n",
       "    </tr>\n",
       "  </tbody>\n",
       "</table>\n",
       "</div>"
      ],
      "text/plain": [
       "                  Film  TMDb_rating MPAA_rating  Release_Year  IMDb_rating  \\\n",
       "0             Magnolia        7.723           R          1999          8.0   \n",
       "1        Boogie Nights        7.626           R          1997          7.9   \n",
       "2     Punch-Drunk Love        7.123           R          2002          7.3   \n",
       "3           Hard Eight        6.877           R          1996          7.1   \n",
       "4  There Will Be Blood        8.072           R          2007          8.2   \n",
       "5           The Master        7.116           R          2012          7.1   \n",
       "6        Inherent Vice        6.553           R          2014          6.6   \n",
       "7       Phantom Thread        7.315           R          2017          7.4   \n",
       "8       Licorice Pizza        6.966           R          2021          7.1   \n",
       "\n",
       "              actor1                  actor2                  actor3  \\\n",
       "0         Tom Cruise       Philip Baker Hall  Philip Seymour Hoffman   \n",
       "1      Mark Wahlberg           Burt Reynolds          Julianne Moore   \n",
       "2       Adam Sandler            Emily Watson  Philip Seymour Hoffman   \n",
       "3  Philip Baker Hall          John C. Reilly         Gwyneth Paltrow   \n",
       "4   Daniel Day-Lewis               Paul Dano       Kevin J. O'Connor   \n",
       "5    Joaquin Phoenix  Philip Seymour Hoffman               Amy Adams   \n",
       "6    Joaquin Phoenix             Josh Brolin             Owen Wilson   \n",
       "7   Daniel Day-Lewis            Vicky Krieps         Lesley Manville   \n",
       "8         Alana Haim          Cooper Hoffman               Sean Penn   \n",
       "\n",
       "                actor4             actor5 RT_critic_score RT_audience_score  \n",
       "0       Julianne Moore    William H. Macy             82%               89%  \n",
       "1       John C. Reilly     Heather Graham             94%               89%  \n",
       "2          Luis Guzmán  Mary Lynn Rajskub             79%               77%  \n",
       "3    Samuel L. Jackson  F. William Parker             82%               83%  \n",
       "4         Ciarán Hinds    Dillon Freasier             91%               86%  \n",
       "5           Rami Malek         Laura Dern             85%               62%  \n",
       "6  Katherine Waterston  Reese Witherspoon             74%               53%  \n",
       "7   Camilla Rutherford         Gina McKee             91%               71%  \n",
       "8            Tom Waits     Bradley Cooper             90%               65%  "
      ]
     },
     "execution_count": 139,
     "metadata": {},
     "output_type": "execute_result"
    }
   ],
   "source": [
    "pta_df"
   ]
  },
  {
   "cell_type": "markdown",
   "id": "a01c01a8-28f7-4b40-b60e-95379bff97af",
   "metadata": {},
   "source": [
    "Finally got all of PTA's films into a dataframe. Going to start gathering Wes Anderson's data for comparison"
   ]
  },
  {
   "cell_type": "code",
   "execution_count": 140,
   "id": "4be3fc83-6d95-40f6-943b-42703b5c2e11",
   "metadata": {},
   "outputs": [],
   "source": [
    "wes = person.search('Wes Anderson')[0]"
   ]
  },
  {
   "cell_type": "code",
   "execution_count": 141,
   "id": "986ceb77-d50c-421e-b8d9-09f4ab3d4fa8",
   "metadata": {},
   "outputs": [],
   "source": [
    "wes_id = wes.id"
   ]
  },
  {
   "cell_type": "code",
   "execution_count": 142,
   "id": "6bad9867-1ccb-4ea4-8318-4ed0fe8866d7",
   "metadata": {},
   "outputs": [],
   "source": [
    "credits = person.movie_credits(wes_id)"
   ]
  },
  {
   "cell_type": "code",
   "execution_count": 143,
   "id": "234afc6e-c8cd-43e7-94be-f1a6492223f5",
   "metadata": {},
   "outputs": [],
   "source": [
    "film_list = [credit for credit in credits['crew'] if credit['job'] == 'Director']"
   ]
  },
  {
   "cell_type": "code",
   "execution_count": 144,
   "id": "19b56ee7-78fb-457c-964c-821e0402581b",
   "metadata": {},
   "outputs": [],
   "source": [
    "movie_data = []\n",
    "for film in film_list:\n",
    "    details = movie.details(film['id'])\n",
    "    movie_credits = movie.credits(film[\"id\"])\n",
    "    cast_list = list(movie_credits.get('cast', []))\n",
    "    top_actors =  [actor['name'] for actor in cast_list[:5]] if cast_list else []\n",
    "    release_dates = details.release_dates.get('results', [])\n",
    "    content_rating = release_dates[0]['release_dates'][0]['certification'] if release_dates else 'N/A'\n",
    "    movie_info = {\n",
    "        'title' : details.title,\n",
    "        'rating' : details.vote_average,\n",
    "        'content_rating': content_rating,\n",
    "        'actors' : top_actors}\n",
    "    movie_data.append(movie_info)"
   ]
  },
  {
   "cell_type": "code",
   "execution_count": 145,
   "id": "87b537b8-4461-4123-bf1c-e5df62ee29e8",
   "metadata": {},
   "outputs": [],
   "source": [
    "tmdb2_df = pd.DataFrame(movie_data)"
   ]
  },
  {
   "cell_type": "code",
   "execution_count": 146,
   "id": "98734322-b307-40f0-b4eb-7d1e7b1bbe5c",
   "metadata": {},
   "outputs": [
    {
     "data": {
      "text/html": [
       "<div>\n",
       "<style scoped>\n",
       "    .dataframe tbody tr th:only-of-type {\n",
       "        vertical-align: middle;\n",
       "    }\n",
       "\n",
       "    .dataframe tbody tr th {\n",
       "        vertical-align: top;\n",
       "    }\n",
       "\n",
       "    .dataframe thead th {\n",
       "        text-align: right;\n",
       "    }\n",
       "</style>\n",
       "<table border=\"1\" class=\"dataframe\">\n",
       "  <thead>\n",
       "    <tr style=\"text-align: right;\">\n",
       "      <th></th>\n",
       "      <th>title</th>\n",
       "      <th>rating</th>\n",
       "      <th>content_rating</th>\n",
       "      <th>actors</th>\n",
       "    </tr>\n",
       "  </thead>\n",
       "  <tbody>\n",
       "    <tr>\n",
       "      <th>0</th>\n",
       "      <td>The Life Aquatic with Steve Zissou</td>\n",
       "      <td>7.081</td>\n",
       "      <td>12</td>\n",
       "      <td>[Bill Murray, Owen Wilson, Cate Blanchett, Anj...</td>\n",
       "    </tr>\n",
       "    <tr>\n",
       "      <th>1</th>\n",
       "      <td>Fantastic Mr. Fox</td>\n",
       "      <td>7.805</td>\n",
       "      <td>6</td>\n",
       "      <td>[George Clooney, Meryl Streep, Jason Schwartzm...</td>\n",
       "    </tr>\n",
       "    <tr>\n",
       "      <th>2</th>\n",
       "      <td>Hotel Chevalier</td>\n",
       "      <td>6.907</td>\n",
       "      <td>6</td>\n",
       "      <td>[Jason Schwartzman, Natalie Portman, Waris Ahl...</td>\n",
       "    </tr>\n",
       "    <tr>\n",
       "      <th>3</th>\n",
       "      <td>The Royal Tenenbaums</td>\n",
       "      <td>7.468</td>\n",
       "      <td>12</td>\n",
       "      <td>[Gene Hackman, Anjelica Huston, Ben Stiller, G...</td>\n",
       "    </tr>\n",
       "    <tr>\n",
       "      <th>4</th>\n",
       "      <td>Bottle Rocket</td>\n",
       "      <td>6.700</td>\n",
       "      <td>M</td>\n",
       "      <td>[Luke Wilson, Owen Wilson, Robert Musgrave, Lu...</td>\n",
       "    </tr>\n",
       "    <tr>\n",
       "      <th>5</th>\n",
       "      <td>Moonrise Kingdom</td>\n",
       "      <td>7.685</td>\n",
       "      <td></td>\n",
       "      <td>[Jared Gilman, Kara Hayward, Bruce Willis, Edw...</td>\n",
       "    </tr>\n",
       "    <tr>\n",
       "      <th>6</th>\n",
       "      <td>Bottle Rocket</td>\n",
       "      <td>6.200</td>\n",
       "      <td></td>\n",
       "      <td>[Owen Wilson, Luke Wilson, Robert Musgrave, El...</td>\n",
       "    </tr>\n",
       "    <tr>\n",
       "      <th>7</th>\n",
       "      <td>The Grand Budapest Hotel</td>\n",
       "      <td>8.042</td>\n",
       "      <td>12</td>\n",
       "      <td>[Ralph Fiennes, F. Murray Abraham, Mathieu Ama...</td>\n",
       "    </tr>\n",
       "    <tr>\n",
       "      <th>8</th>\n",
       "      <td>Cousin Ben Troop Screening</td>\n",
       "      <td>6.375</td>\n",
       "      <td>NR</td>\n",
       "      <td>[Jason Schwartzman, Jake Ryan, Charlie Kilgore...</td>\n",
       "    </tr>\n",
       "    <tr>\n",
       "      <th>9</th>\n",
       "      <td>Poison</td>\n",
       "      <td>6.866</td>\n",
       "      <td></td>\n",
       "      <td>[Benedict Cumberbatch, Dev Patel, Ben Kingsley...</td>\n",
       "    </tr>\n",
       "    <tr>\n",
       "      <th>10</th>\n",
       "      <td>The Rat Catcher</td>\n",
       "      <td>6.595</td>\n",
       "      <td></td>\n",
       "      <td>[Richard Ayoade, Ralph Fiennes, Rupert Friend,...</td>\n",
       "    </tr>\n",
       "    <tr>\n",
       "      <th>11</th>\n",
       "      <td>The Swan</td>\n",
       "      <td>6.777</td>\n",
       "      <td></td>\n",
       "      <td>[Rupert Friend, Ralph Fiennes, Asa Jennings, E...</td>\n",
       "    </tr>\n",
       "    <tr>\n",
       "      <th>12</th>\n",
       "      <td>Castello Cavalcanti</td>\n",
       "      <td>7.016</td>\n",
       "      <td></td>\n",
       "      <td>[Jason Schwartzman, Giada Colagrande, Giorgio ...</td>\n",
       "    </tr>\n",
       "    <tr>\n",
       "      <th>13</th>\n",
       "      <td>The Wonderful Story of Henry Sugar</td>\n",
       "      <td>7.239</td>\n",
       "      <td></td>\n",
       "      <td>[Ralph Fiennes, Benedict Cumberbatch, Dev Pate...</td>\n",
       "    </tr>\n",
       "    <tr>\n",
       "      <th>14</th>\n",
       "      <td>Isle of Dogs</td>\n",
       "      <td>7.850</td>\n",
       "      <td>6</td>\n",
       "      <td>[Bryan Cranston, Koyu Rankin, Bob Balaban, Edw...</td>\n",
       "    </tr>\n",
       "    <tr>\n",
       "      <th>15</th>\n",
       "      <td>Rushmore</td>\n",
       "      <td>7.398</td>\n",
       "      <td>6</td>\n",
       "      <td>[Jason Schwartzman, Bill Murray, Olivia Willia...</td>\n",
       "    </tr>\n",
       "    <tr>\n",
       "      <th>16</th>\n",
       "      <td>The Wonderful Story of Henry Sugar and Three More</td>\n",
       "      <td>7.576</td>\n",
       "      <td></td>\n",
       "      <td>[Benedict Cumberbatch, Dev Patel, Ben Kingsley...</td>\n",
       "    </tr>\n",
       "    <tr>\n",
       "      <th>17</th>\n",
       "      <td>The Darjeeling Limited</td>\n",
       "      <td>7.161</td>\n",
       "      <td>6</td>\n",
       "      <td>[Owen Wilson, Adrien Brody, Jason Schwartzman,...</td>\n",
       "    </tr>\n",
       "    <tr>\n",
       "      <th>18</th>\n",
       "      <td>The Phoenician Scheme</td>\n",
       "      <td>0.000</td>\n",
       "      <td>M</td>\n",
       "      <td>[Benicio del Toro, Mia Threapleton, Michael Ce...</td>\n",
       "    </tr>\n",
       "    <tr>\n",
       "      <th>19</th>\n",
       "      <td>The French Dispatch</td>\n",
       "      <td>7.000</td>\n",
       "      <td></td>\n",
       "      <td>[Benicio del Toro, Adrien Brody, Tilda Swinton...</td>\n",
       "    </tr>\n",
       "    <tr>\n",
       "      <th>20</th>\n",
       "      <td>Do You Like to Read?</td>\n",
       "      <td>6.222</td>\n",
       "      <td></td>\n",
       "      <td>[Bob Balaban, Kara Hayward]</td>\n",
       "    </tr>\n",
       "    <tr>\n",
       "      <th>21</th>\n",
       "      <td>Asteroid City</td>\n",
       "      <td>6.463</td>\n",
       "      <td></td>\n",
       "      <td>[Jason Schwartzman, Scarlett Johansson, Tom Ha...</td>\n",
       "    </tr>\n",
       "    <tr>\n",
       "      <th>22</th>\n",
       "      <td>Come Together: A Fashion Picture in Motion</td>\n",
       "      <td>6.750</td>\n",
       "      <td></td>\n",
       "      <td>[]</td>\n",
       "    </tr>\n",
       "  </tbody>\n",
       "</table>\n",
       "</div>"
      ],
      "text/plain": [
       "                                                title  rating content_rating  \\\n",
       "0                  The Life Aquatic with Steve Zissou   7.081             12   \n",
       "1                                   Fantastic Mr. Fox   7.805              6   \n",
       "2                                     Hotel Chevalier   6.907              6   \n",
       "3                                The Royal Tenenbaums   7.468             12   \n",
       "4                                       Bottle Rocket   6.700              M   \n",
       "5                                    Moonrise Kingdom   7.685                  \n",
       "6                                       Bottle Rocket   6.200                  \n",
       "7                            The Grand Budapest Hotel   8.042             12   \n",
       "8                          Cousin Ben Troop Screening   6.375             NR   \n",
       "9                                              Poison   6.866                  \n",
       "10                                    The Rat Catcher   6.595                  \n",
       "11                                           The Swan   6.777                  \n",
       "12                                Castello Cavalcanti   7.016                  \n",
       "13                 The Wonderful Story of Henry Sugar   7.239                  \n",
       "14                                       Isle of Dogs   7.850              6   \n",
       "15                                           Rushmore   7.398              6   \n",
       "16  The Wonderful Story of Henry Sugar and Three More   7.576                  \n",
       "17                             The Darjeeling Limited   7.161              6   \n",
       "18                              The Phoenician Scheme   0.000              M   \n",
       "19                                The French Dispatch   7.000                  \n",
       "20                               Do You Like to Read?   6.222                  \n",
       "21                                      Asteroid City   6.463                  \n",
       "22         Come Together: A Fashion Picture in Motion   6.750                  \n",
       "\n",
       "                                               actors  \n",
       "0   [Bill Murray, Owen Wilson, Cate Blanchett, Anj...  \n",
       "1   [George Clooney, Meryl Streep, Jason Schwartzm...  \n",
       "2   [Jason Schwartzman, Natalie Portman, Waris Ahl...  \n",
       "3   [Gene Hackman, Anjelica Huston, Ben Stiller, G...  \n",
       "4   [Luke Wilson, Owen Wilson, Robert Musgrave, Lu...  \n",
       "5   [Jared Gilman, Kara Hayward, Bruce Willis, Edw...  \n",
       "6   [Owen Wilson, Luke Wilson, Robert Musgrave, El...  \n",
       "7   [Ralph Fiennes, F. Murray Abraham, Mathieu Ama...  \n",
       "8   [Jason Schwartzman, Jake Ryan, Charlie Kilgore...  \n",
       "9   [Benedict Cumberbatch, Dev Patel, Ben Kingsley...  \n",
       "10  [Richard Ayoade, Ralph Fiennes, Rupert Friend,...  \n",
       "11  [Rupert Friend, Ralph Fiennes, Asa Jennings, E...  \n",
       "12  [Jason Schwartzman, Giada Colagrande, Giorgio ...  \n",
       "13  [Ralph Fiennes, Benedict Cumberbatch, Dev Pate...  \n",
       "14  [Bryan Cranston, Koyu Rankin, Bob Balaban, Edw...  \n",
       "15  [Jason Schwartzman, Bill Murray, Olivia Willia...  \n",
       "16  [Benedict Cumberbatch, Dev Patel, Ben Kingsley...  \n",
       "17  [Owen Wilson, Adrien Brody, Jason Schwartzman,...  \n",
       "18  [Benicio del Toro, Mia Threapleton, Michael Ce...  \n",
       "19  [Benicio del Toro, Adrien Brody, Tilda Swinton...  \n",
       "20                        [Bob Balaban, Kara Hayward]  \n",
       "21  [Jason Schwartzman, Scarlett Johansson, Tom Ha...  \n",
       "22                                                 []  "
      ]
     },
     "execution_count": 146,
     "metadata": {},
     "output_type": "execute_result"
    }
   ],
   "source": [
    "tmdb2_df"
   ]
  },
  {
   "cell_type": "markdown",
   "id": "77a48528-fd37-4f0d-b40c-04d1010e170f",
   "metadata": {},
   "source": [
    "Got Wes's info from TMDb"
   ]
  },
  {
   "cell_type": "code",
   "execution_count": 147,
   "id": "1e72ba9b-ef9d-4023-8612-27408b29c265",
   "metadata": {},
   "outputs": [
    {
     "data": {
      "text/plain": [
       "<Person id:0027572[http] name:_Wes Anderson_>"
      ]
     },
     "execution_count": 147,
     "metadata": {},
     "output_type": "execute_result"
    }
   ],
   "source": [
    "ia.search_person('Wes Anderson')[0]"
   ]
  },
  {
   "cell_type": "code",
   "execution_count": 148,
   "id": "457e64f1-14fc-45c7-9778-8b81e5114939",
   "metadata": {},
   "outputs": [],
   "source": [
    "wes_and = ia.get_person_filmography('0027572')"
   ]
  },
  {
   "cell_type": "code",
   "execution_count": 149,
   "id": "57d26ce5-ccee-4eb7-a525-2516d95e2599",
   "metadata": {},
   "outputs": [
    {
     "data": {
      "text/plain": [
       "{'data': mappingproxy({}),\n",
       " 'titlesRefs': {'Rushmore (1998)': <Movie id:0128445[http] title:_Rushmore (1998)_>,\n",
       "  'Bottle Rocket (1993)': <Movie id:0109322[http] title:_Bottle Rocket (1993)_>,\n",
       "  'Bottle Rocket (1996)': <Movie id:0115734[http] title:_Bottle Rocket (1996)_>,\n",
       "  'The Life Aquatic with Steve Zissou (2004)': <Movie id:0362270[http] title:_The Life Aquatic with Steve Zissou (2004)_>,\n",
       "  'The Royal Tenenbaums (2001)': <Movie id:0265666[http] title:_The Royal Tenenbaums (2001)_>,\n",
       "  'Fantastic Mr. Fox (2009)': <Movie id:0432283[http] title:_Fantastic Mr. Fox (2009)_>,\n",
       "  'Bottle Rocket': <Movie id:0115734[http] title:_Bottle Rocket (None)_>,\n",
       "  'Asteroid City': <Movie id:14230388[http] title:_Asteroid City (None)_>,\n",
       "  'Fantastic Mr. Fox': <Movie id:0432283[http] title:_Fantastic Mr. Fox (None)_>,\n",
       "  'The Royal Tenenbaums': <Movie id:0265666[http] title:_The Royal Tenenbaums (None)_>,\n",
       "  'Moonrise Kingdom': <Movie id:1748122[http] title:_Moonrise Kingdom (None)_>,\n",
       "  'The French Dispatch': <Movie id:8847712[http] title:_The French Dispatch (None)_>},\n",
       " 'namesRefs': {'Biography': <Person id:0027572[http] name:_Biography_>,\n",
       "  'Awards': <Person id:0027572[http] name:_Awards_>,\n",
       "  'Trivia': <Person id:0027572[http] name:_Trivia_>,\n",
       "  'FAQ': <Person id:0027572[http] name:_FAQ_>,\n",
       "  'Owen Wilson': <Person id:0005562[http] name:_Owen Wilson_>,\n",
       "  'Luke Wilson': <Person id:0005561[http] name:_Luke Wilson_>,\n",
       "  'Martin Scorsese': <Person id:0000217[http] name:_Martin Scorsese_>,\n",
       "  'Won 1 Oscar': <Person id:0027572[http] name:_Won 1 Oscar_>,\n",
       "  'Wes Anderson': <Person id:0027572[http] name:_Wes Anderson_>,\n",
       "  'Juman Malouf': <Person id:3572187[http] name:_Juman Malouf_>,\n",
       "  'Other works': <Person id:0027572[http] name:_Other works_>,\n",
       "  'Publicity listings': <Person id:0027572[http] name:_Publicity listings_>,\n",
       "  '10 Interviews': <Person id:0027572[http] name:_10 Interviews_>,\n",
       "  '8 Articles': <Person id:0027572[http] name:_8 Articles_>,\n",
       "  '1 Magazine Cover Photo': <Person id:0027572[http] name:_1 Magazine Cover Photo_>,\n",
       "  'Quotes': <Person id:0027572[http] name:_Quotes_>,\n",
       "  'How old is Wes Anderson?': <Person id:0027572[http] name:_How old is Wes Anderson?_>,\n",
       "  'When was Wes Anderson born?': <Person id:0027572[http] name:_When was Wes Anderson born?_>,\n",
       "  'Where was Wes Anderson born?': <Person id:0027572[http] name:_Where was Wes Anderson born?_>}}"
      ]
     },
     "execution_count": 149,
     "metadata": {},
     "output_type": "execute_result"
    }
   ],
   "source": [
    "wes_and"
   ]
  },
  {
   "cell_type": "code",
   "execution_count": 150,
   "id": "e2929ae9-c952-4c92-853a-4934bc9a826d",
   "metadata": {},
   "outputs": [
    {
     "data": {
      "text/plain": [
       "['Bottle Rocket (1996)',\n",
       " 'The Life Aquatic with Steve Zissou (2004)',\n",
       " 'The Royal Tenenbaums (2001)',\n",
       " 'Fantastic Mr. Fox (2009)',\n",
       " 'Asteroid City',\n",
       " 'The Royal Tenenbaums',\n",
       " 'Moonrise Kingdom']"
      ]
     },
     "execution_count": 150,
     "metadata": {},
     "output_type": "execute_result"
    }
   ],
   "source": [
    "wesand_films = [\n",
    "    'Bottle Rocket (1996)',\n",
    "    'The Life Aquatic with Steve Zissou (2004)',\n",
    "    'The Royal Tenenbaums (2001)',\n",
    "    'Fantastic Mr. Fox (2009)',\n",
    "    'Asteroid City',\n",
    "    'The Royal Tenenbaums',\n",
    "    'Moonrise Kingdom',\n",
    "    'Rushmore']\n",
    "\n",
    "\n",
    "[title for title in wes_and['titlesRefs'].keys() if title in wesand_films]"
   ]
  },
  {
   "cell_type": "markdown",
   "id": "6928693d-05de-4bed-bbad-224aed964dc9",
   "metadata": {},
   "source": [
    "Like before, there are some missing titles (4 to be exact) I need to add to this list."
   ]
  },
  {
   "cell_type": "code",
   "execution_count": 151,
   "id": "add663d0-795d-4848-90a9-beaeea8c2138",
   "metadata": {},
   "outputs": [],
   "source": [
    "tdl = ia.search_movie('The Darjeeling Limited')[0]"
   ]
  },
  {
   "cell_type": "code",
   "execution_count": 152,
   "id": "a90bb8fe-9192-4272-8031-083b2c4d5e6c",
   "metadata": {},
   "outputs": [],
   "source": [
    "the_dl = tdl['title']"
   ]
  },
  {
   "cell_type": "code",
   "execution_count": 153,
   "id": "a37a99e0-fd78-4ca3-bd9e-06f130d50921",
   "metadata": {},
   "outputs": [],
   "source": [
    "tgbh = ia.search_movie('The Grand Budapest Hotel')[0]"
   ]
  },
  {
   "cell_type": "code",
   "execution_count": 154,
   "id": "31f3ad22-1d22-4563-a835-4c5d6a9d6d69",
   "metadata": {},
   "outputs": [],
   "source": [
    "thegrand_bh = tgbh['title']"
   ]
  },
  {
   "cell_type": "code",
   "execution_count": 155,
   "id": "711f457b-0bed-4d12-8c44-17fee6b424ba",
   "metadata": {},
   "outputs": [],
   "source": [
    "iod = ia.search_movie('Isle of Dogs')[0]"
   ]
  },
  {
   "cell_type": "code",
   "execution_count": 156,
   "id": "e63b72d5-151c-4cb8-96f0-a4f8f8b81f98",
   "metadata": {},
   "outputs": [],
   "source": [
    "isle_of_dogs = iod['title']"
   ]
  },
  {
   "cell_type": "code",
   "execution_count": 157,
   "id": "a8146aff-0495-4fc7-ac78-99644114ee69",
   "metadata": {},
   "outputs": [],
   "source": [
    "tfd = ia.search_movie('The French Dispatch')[0]"
   ]
  },
  {
   "cell_type": "code",
   "execution_count": 158,
   "id": "5701e28c-b09c-4445-ae25-31315f0282c9",
   "metadata": {},
   "outputs": [],
   "source": [
    "the_frenchd = tfd['title']"
   ]
  },
  {
   "cell_type": "code",
   "execution_count": 159,
   "id": "044900f6-04c7-490c-8391-8bee62a4a361",
   "metadata": {},
   "outputs": [],
   "source": [
    "wesand_films.append(the_dl)"
   ]
  },
  {
   "cell_type": "code",
   "execution_count": 160,
   "id": "d10fe97d-ccfd-4a20-bc11-321d0ca07611",
   "metadata": {},
   "outputs": [],
   "source": [
    "wesand_films.append(thegrand_bh)"
   ]
  },
  {
   "cell_type": "code",
   "execution_count": 161,
   "id": "c82b3bd6-0861-43e3-9df5-51f87391dc71",
   "metadata": {},
   "outputs": [],
   "source": [
    "wesand_films.append(isle_of_dogs)"
   ]
  },
  {
   "cell_type": "code",
   "execution_count": 162,
   "id": "199ec8e4-393a-4696-83ff-347f1e0f52aa",
   "metadata": {},
   "outputs": [],
   "source": [
    "wesand_films.append(the_frenchd)"
   ]
  },
  {
   "cell_type": "code",
   "execution_count": 163,
   "id": "6ee17c35-283a-4ff7-953e-6d53c4841254",
   "metadata": {},
   "outputs": [
    {
     "data": {
      "text/plain": [
       "['Bottle Rocket (1996)',\n",
       " 'The Life Aquatic with Steve Zissou (2004)',\n",
       " 'The Royal Tenenbaums (2001)',\n",
       " 'Fantastic Mr. Fox (2009)',\n",
       " 'Asteroid City',\n",
       " 'The Royal Tenenbaums',\n",
       " 'Moonrise Kingdom',\n",
       " 'Rushmore',\n",
       " 'The Darjeeling Limited',\n",
       " 'The Grand Budapest Hotel',\n",
       " 'Isle of Dogs',\n",
       " 'The French Dispatch']"
      ]
     },
     "execution_count": 163,
     "metadata": {},
     "output_type": "execute_result"
    }
   ],
   "source": [
    "wesand_films"
   ]
  },
  {
   "cell_type": "code",
   "execution_count": 164,
   "id": "c75a7e49-9e01-4063-95aa-baff99abdf96",
   "metadata": {},
   "outputs": [],
   "source": [
    "for film in wesand_films:\n",
    "    get_movie_rating(film)"
   ]
  },
  {
   "cell_type": "code",
   "execution_count": 165,
   "id": "2734aa77-003b-4765-a927-8a7bdf1f4c30",
   "metadata": {},
   "outputs": [],
   "source": [
    "imdb2_df = pd.DataFrame(results_list)"
   ]
  },
  {
   "cell_type": "code",
   "execution_count": 166,
   "id": "a4821257-e139-499c-bc2a-c3f22cb1d132",
   "metadata": {},
   "outputs": [],
   "source": [
    "wes_imdb = imdb2_df.drop(range(0,13))"
   ]
  },
  {
   "cell_type": "code",
   "execution_count": 167,
   "id": "3f6d9dbd-9325-46bb-84a2-06c9db5f46b3",
   "metadata": {},
   "outputs": [],
   "source": [
    "wes_imdb = wes_imdb.reset_index()"
   ]
  },
  {
   "cell_type": "code",
   "execution_count": 168,
   "id": "a10801c8-6590-459b-8492-7ffcde3a1794",
   "metadata": {},
   "outputs": [],
   "source": [
    "wes_imdb = wes_imdb.drop(columns=('index'))"
   ]
  },
  {
   "cell_type": "code",
   "execution_count": 169,
   "id": "5fd5d474-7123-475c-95a3-cca94c08a625",
   "metadata": {},
   "outputs": [
    {
     "data": {
      "text/html": [
       "<div>\n",
       "<style scoped>\n",
       "    .dataframe tbody tr th:only-of-type {\n",
       "        vertical-align: middle;\n",
       "    }\n",
       "\n",
       "    .dataframe tbody tr th {\n",
       "        vertical-align: top;\n",
       "    }\n",
       "\n",
       "    .dataframe thead th {\n",
       "        text-align: right;\n",
       "    }\n",
       "</style>\n",
       "<table border=\"1\" class=\"dataframe\">\n",
       "  <thead>\n",
       "    <tr style=\"text-align: right;\">\n",
       "      <th></th>\n",
       "      <th>title</th>\n",
       "      <th>year</th>\n",
       "      <th>rating</th>\n",
       "    </tr>\n",
       "  </thead>\n",
       "  <tbody>\n",
       "    <tr>\n",
       "      <th>0</th>\n",
       "      <td>Bottle Rocket</td>\n",
       "      <td>1996</td>\n",
       "      <td>6.9</td>\n",
       "    </tr>\n",
       "    <tr>\n",
       "      <th>1</th>\n",
       "      <td>The Life Aquatic with Steve Zissou</td>\n",
       "      <td>2004</td>\n",
       "      <td>7.2</td>\n",
       "    </tr>\n",
       "    <tr>\n",
       "      <th>2</th>\n",
       "      <td>The Royal Tenenbaums</td>\n",
       "      <td>2001</td>\n",
       "      <td>7.6</td>\n",
       "    </tr>\n",
       "    <tr>\n",
       "      <th>3</th>\n",
       "      <td>Fantastic Mr. Fox</td>\n",
       "      <td>2009</td>\n",
       "      <td>7.9</td>\n",
       "    </tr>\n",
       "    <tr>\n",
       "      <th>4</th>\n",
       "      <td>Asteroid City</td>\n",
       "      <td>2023</td>\n",
       "      <td>6.4</td>\n",
       "    </tr>\n",
       "    <tr>\n",
       "      <th>5</th>\n",
       "      <td>The Royal Tenenbaums</td>\n",
       "      <td>2001</td>\n",
       "      <td>7.6</td>\n",
       "    </tr>\n",
       "    <tr>\n",
       "      <th>6</th>\n",
       "      <td>Moonrise Kingdom</td>\n",
       "      <td>2012</td>\n",
       "      <td>7.8</td>\n",
       "    </tr>\n",
       "    <tr>\n",
       "      <th>7</th>\n",
       "      <td>Rushmore</td>\n",
       "      <td>1998</td>\n",
       "      <td>7.6</td>\n",
       "    </tr>\n",
       "    <tr>\n",
       "      <th>8</th>\n",
       "      <td>The Darjeeling Limited</td>\n",
       "      <td>2007</td>\n",
       "      <td>7.2</td>\n",
       "    </tr>\n",
       "    <tr>\n",
       "      <th>9</th>\n",
       "      <td>The Grand Budapest Hotel</td>\n",
       "      <td>2014</td>\n",
       "      <td>8.1</td>\n",
       "    </tr>\n",
       "    <tr>\n",
       "      <th>10</th>\n",
       "      <td>Isle of Dogs</td>\n",
       "      <td>2018</td>\n",
       "      <td>7.8</td>\n",
       "    </tr>\n",
       "    <tr>\n",
       "      <th>11</th>\n",
       "      <td>The French Dispatch</td>\n",
       "      <td>2021</td>\n",
       "      <td>7.1</td>\n",
       "    </tr>\n",
       "  </tbody>\n",
       "</table>\n",
       "</div>"
      ],
      "text/plain": [
       "                                 title  year  rating\n",
       "0                        Bottle Rocket  1996     6.9\n",
       "1   The Life Aquatic with Steve Zissou  2004     7.2\n",
       "2                 The Royal Tenenbaums  2001     7.6\n",
       "3                    Fantastic Mr. Fox  2009     7.9\n",
       "4                        Asteroid City  2023     6.4\n",
       "5                 The Royal Tenenbaums  2001     7.6\n",
       "6                     Moonrise Kingdom  2012     7.8\n",
       "7                             Rushmore  1998     7.6\n",
       "8               The Darjeeling Limited  2007     7.2\n",
       "9             The Grand Budapest Hotel  2014     8.1\n",
       "10                        Isle of Dogs  2018     7.8\n",
       "11                 The French Dispatch  2021     7.1"
      ]
     },
     "execution_count": 169,
     "metadata": {},
     "output_type": "execute_result"
    }
   ],
   "source": [
    "wes_imdb"
   ]
  },
  {
   "cell_type": "markdown",
   "id": "9fbb1afb-f058-4c6f-aa11-88717980b64a",
   "metadata": {},
   "source": [
    "Have all of his IMDb info now onto RT"
   ]
  },
  {
   "cell_type": "code",
   "execution_count": 170,
   "id": "237788f3-5f6e-4eeb-a5ed-674373d17521",
   "metadata": {},
   "outputs": [],
   "source": [
    "url = 'https://www.rottentomatoes.com/m/bottle_rocket'\n",
    "\n",
    "response = requests.get(url)"
   ]
  },
  {
   "cell_type": "code",
   "execution_count": 171,
   "id": "8f0529d9-dac6-4ce0-8a42-fd66820ab071",
   "metadata": {},
   "outputs": [],
   "source": [
    "br_bs = BS(response.text)"
   ]
  },
  {
   "cell_type": "code",
   "execution_count": 172,
   "id": "1566301e-91cd-4b16-b2d5-35e9430786b0",
   "metadata": {},
   "outputs": [],
   "source": [
    "br_title = br_bs.find('title').text"
   ]
  },
  {
   "cell_type": "code",
   "execution_count": 173,
   "id": "7eb9d22e-63a0-4951-b32f-6f6adbd8ccec",
   "metadata": {},
   "outputs": [],
   "source": [
    "critic_elem = br_bs.find(\"rt-text\", {\"slot\": \"criticsScore\"})\n",
    "if critic_elem:\n",
    "    critic_score = critic_elem.text.strip()"
   ]
  },
  {
   "cell_type": "code",
   "execution_count": 174,
   "id": "5d21077a-d539-4c46-9912-521f2eba715b",
   "metadata": {},
   "outputs": [],
   "source": [
    "br_cs = critic_score"
   ]
  },
  {
   "cell_type": "code",
   "execution_count": 175,
   "id": "dc1e4ed4-5c7f-4ef1-b385-944b1a645a2a",
   "metadata": {},
   "outputs": [],
   "source": [
    "audience_elem = br_bs.find(\"rt-text\", {\"slot\": \"audienceScore\"})\n",
    "if audience_elem:\n",
    "    audience_score = audience_elem.text.strip()"
   ]
  },
  {
   "cell_type": "code",
   "execution_count": 176,
   "id": "00696049-6ace-4138-9d38-ab57deb16425",
   "metadata": {},
   "outputs": [],
   "source": [
    "br_as = audience_score"
   ]
  },
  {
   "cell_type": "code",
   "execution_count": 177,
   "id": "9de07255-4e50-4d9a-a008-4ee031701691",
   "metadata": {},
   "outputs": [],
   "source": [
    "br_dict = []\n",
    "\n",
    "br_dict.append({\n",
    "    'movie_title':br_title,\n",
    "    'critic_rating':br_cs,\n",
    "    'audience_rating':br_as})"
   ]
  },
  {
   "cell_type": "code",
   "execution_count": 178,
   "id": "b88f44d2-6835-4e2a-b875-e7ced7c284dd",
   "metadata": {},
   "outputs": [],
   "source": [
    "bottle_rocket = br_dict[0]"
   ]
  },
  {
   "cell_type": "code",
   "execution_count": 179,
   "id": "6e4cd59b-b043-4a2b-a356-20f6f5103a19",
   "metadata": {},
   "outputs": [],
   "source": [
    "url = 'https://www.rottentomatoes.com/m/rushmore'\n",
    "\n",
    "response = requests.get(url)"
   ]
  },
  {
   "cell_type": "code",
   "execution_count": 180,
   "id": "892d5a45-f46e-4e4f-85fe-d908b06f3b10",
   "metadata": {},
   "outputs": [],
   "source": [
    "rm_bs = BS(response.text)"
   ]
  },
  {
   "cell_type": "code",
   "execution_count": 181,
   "id": "a1bc0969-836d-4585-9efd-f394df1aae24",
   "metadata": {},
   "outputs": [],
   "source": [
    "rm_title = rm_bs.find('title').text"
   ]
  },
  {
   "cell_type": "code",
   "execution_count": 182,
   "id": "e13b4a11-b06c-4cf6-8827-8c3a7da3f0cb",
   "metadata": {},
   "outputs": [],
   "source": [
    "critic_elem = rm_bs.find(\"rt-text\", {\"slot\": \"criticsScore\"})\n",
    "if critic_elem:\n",
    "    critic_score = critic_elem.text.strip()"
   ]
  },
  {
   "cell_type": "code",
   "execution_count": 183,
   "id": "e25d4e1c-66de-4b72-8da2-e38a5a8b1397",
   "metadata": {},
   "outputs": [],
   "source": [
    "rm_cs = critic_score"
   ]
  },
  {
   "cell_type": "code",
   "execution_count": 184,
   "id": "7e027ae7-7135-407c-9c59-79a3e7429f5d",
   "metadata": {},
   "outputs": [],
   "source": [
    "audience_elem = rm_bs.find(\"rt-text\", {\"slot\": \"audienceScore\"})\n",
    "if audience_elem:\n",
    "    audience_score = audience_elem.text.strip()"
   ]
  },
  {
   "cell_type": "code",
   "execution_count": 185,
   "id": "046e82fd-a911-411b-94a4-d0150d8c9b51",
   "metadata": {},
   "outputs": [],
   "source": [
    "rm_as = audience_score"
   ]
  },
  {
   "cell_type": "code",
   "execution_count": 186,
   "id": "21020c7f-4bf2-4261-b587-bedcf39b853d",
   "metadata": {},
   "outputs": [],
   "source": [
    "rm_dict = []\n",
    "\n",
    "rm_dict.append({\n",
    "    'movie_title':rm_title,\n",
    "    'critic_rating':rm_cs,\n",
    "    'audience_rating':rm_as})"
   ]
  },
  {
   "cell_type": "code",
   "execution_count": 187,
   "id": "1b8e9e95-b530-4cb3-a93e-933fd3b2ecb6",
   "metadata": {},
   "outputs": [],
   "source": [
    "rushmore = rm_dict[0]"
   ]
  },
  {
   "cell_type": "code",
   "execution_count": 188,
   "id": "f31bb257-b1f2-460d-ba2f-999f72e2aa2d",
   "metadata": {},
   "outputs": [
    {
     "data": {
      "text/plain": [
       "{'movie_title': 'Rushmore | Rotten Tomatoes',\n",
       " 'critic_rating': '90%',\n",
       " 'audience_rating': '91%'}"
      ]
     },
     "execution_count": 188,
     "metadata": {},
     "output_type": "execute_result"
    }
   ],
   "source": [
    "rushmore"
   ]
  },
  {
   "cell_type": "code",
   "execution_count": 189,
   "id": "38841876-498e-4118-ba53-539964e6a66b",
   "metadata": {},
   "outputs": [],
   "source": [
    "url = 'https://www.rottentomatoes.com/m/the_royal_tenenbaums'\n",
    "\n",
    "response = requests.get(url)"
   ]
  },
  {
   "cell_type": "code",
   "execution_count": 190,
   "id": "41f34679-b872-4775-a9a1-a3403bd12d52",
   "metadata": {},
   "outputs": [],
   "source": [
    "trt_bs = BS(response.text)"
   ]
  },
  {
   "cell_type": "code",
   "execution_count": 191,
   "id": "23f5569c-4374-4f1c-ac93-7eb089c657ac",
   "metadata": {},
   "outputs": [],
   "source": [
    "trt_title = trt_bs.find('title').text"
   ]
  },
  {
   "cell_type": "code",
   "execution_count": 192,
   "id": "e69b2e40-2df1-452f-a1a2-9ff694bd801c",
   "metadata": {},
   "outputs": [],
   "source": [
    "critic_elem = trt_bs.find(\"rt-text\", {\"slot\": \"criticsScore\"})\n",
    "if critic_elem:\n",
    "    critic_score = critic_elem.text.strip()"
   ]
  },
  {
   "cell_type": "code",
   "execution_count": 193,
   "id": "c2777124-cdd7-4ef5-99c8-2fbf9e9d1c30",
   "metadata": {},
   "outputs": [],
   "source": [
    "trt_cs = critic_score"
   ]
  },
  {
   "cell_type": "code",
   "execution_count": 194,
   "id": "cd22d2a3-d0f9-4883-9515-1c9a7aa3b425",
   "metadata": {},
   "outputs": [],
   "source": [
    "audience_elem = trt_bs.find(\"rt-text\", {\"slot\": \"audienceScore\"})\n",
    "if audience_elem:\n",
    "    audience_score = audience_elem.text.strip()"
   ]
  },
  {
   "cell_type": "code",
   "execution_count": 195,
   "id": "973b40dc-3712-4a0b-9fae-3e4ef51a5e04",
   "metadata": {},
   "outputs": [],
   "source": [
    "trt_as = audience_score"
   ]
  },
  {
   "cell_type": "code",
   "execution_count": 196,
   "id": "bf8cd928-dccd-41cd-8a46-176dc5c3340b",
   "metadata": {},
   "outputs": [],
   "source": [
    "trt_dict = []\n",
    "\n",
    "trt_dict.append({\n",
    "    'movie_title':trt_title,\n",
    "    'critic_rating':trt_cs,\n",
    "    'audience_rating':trt_as})"
   ]
  },
  {
   "cell_type": "code",
   "execution_count": 197,
   "id": "7f2fe0a5-166c-4ac7-9bf1-02c8b91cd876",
   "metadata": {},
   "outputs": [],
   "source": [
    "royal_tens = trt_dict[0]"
   ]
  },
  {
   "cell_type": "code",
   "execution_count": 198,
   "id": "ff703216-8518-4141-8413-f3ccc50ebb54",
   "metadata": {},
   "outputs": [],
   "source": [
    "url = 'https://www.rottentomatoes.com/m/life_aquatic'\n",
    "\n",
    "response = requests.get(url)"
   ]
  },
  {
   "cell_type": "code",
   "execution_count": 199,
   "id": "8d27523a-a2fa-44af-9ff5-cdb7263b35cf",
   "metadata": {},
   "outputs": [],
   "source": [
    "la_bs = BS(response.text)"
   ]
  },
  {
   "cell_type": "code",
   "execution_count": 200,
   "id": "194190f2-cfd2-41b3-8d36-9b6ad004b466",
   "metadata": {},
   "outputs": [],
   "source": [
    "la_title = la_bs.find('title').text"
   ]
  },
  {
   "cell_type": "code",
   "execution_count": 201,
   "id": "4376bbd6-633f-4763-a1fd-65ce86041825",
   "metadata": {},
   "outputs": [],
   "source": [
    "critic_elem = la_bs.find(\"rt-text\", {\"slot\": \"criticsScore\"})\n",
    "if critic_elem:\n",
    "    critic_score = critic_elem.text.strip()"
   ]
  },
  {
   "cell_type": "code",
   "execution_count": 202,
   "id": "f0f3d7dc-b696-46bd-9091-e39060055082",
   "metadata": {},
   "outputs": [],
   "source": [
    "la_cs = critic_score"
   ]
  },
  {
   "cell_type": "code",
   "execution_count": 203,
   "id": "4a7322de-49ec-42f2-ba25-d92fee1bc120",
   "metadata": {},
   "outputs": [],
   "source": [
    "audience_elem = la_bs.find(\"rt-text\", {\"slot\": \"audienceScore\"})\n",
    "if audience_elem:\n",
    "    audience_score = audience_elem.text.strip()"
   ]
  },
  {
   "cell_type": "code",
   "execution_count": 204,
   "id": "5de00bb8-c216-4964-8907-2b93d4d1dc02",
   "metadata": {},
   "outputs": [],
   "source": [
    "la_as = audience_score"
   ]
  },
  {
   "cell_type": "code",
   "execution_count": 205,
   "id": "8e00cf57-71a2-4bde-8213-58e0843a233e",
   "metadata": {},
   "outputs": [],
   "source": [
    "la_dict = []\n",
    "\n",
    "la_dict.append({\n",
    "    'movie_title':la_title,\n",
    "    'critic_rating':la_cs,\n",
    "    'audience_rating':la_as})"
   ]
  },
  {
   "cell_type": "code",
   "execution_count": 206,
   "id": "cf639d40-1895-4af8-90d5-c079db190edc",
   "metadata": {},
   "outputs": [],
   "source": [
    "life_aquatic = la_dict[0]"
   ]
  },
  {
   "cell_type": "code",
   "execution_count": 207,
   "id": "7d47ee3a-1592-4703-b8f0-acf2984dbd85",
   "metadata": {},
   "outputs": [],
   "source": [
    "url = 'https://www.rottentomatoes.com/m/darjeeling_limited'\n",
    "\n",
    "response = requests.get(url)"
   ]
  },
  {
   "cell_type": "code",
   "execution_count": 208,
   "id": "b5ac9b6c-542f-44f8-923e-eb2d07dc3d6d",
   "metadata": {},
   "outputs": [],
   "source": [
    "dl_bs = BS(response.text)"
   ]
  },
  {
   "cell_type": "code",
   "execution_count": 209,
   "id": "b027788f-fe72-4b60-b888-fc032474ef09",
   "metadata": {},
   "outputs": [],
   "source": [
    "dl_title = dl_bs.find('title').text"
   ]
  },
  {
   "cell_type": "code",
   "execution_count": 210,
   "id": "8e3d7962-a1d4-44de-8396-6fa39c9e0a49",
   "metadata": {},
   "outputs": [],
   "source": [
    "critic_elem = dl_bs.find(\"rt-text\", {\"slot\": \"criticsScore\"})\n",
    "if critic_elem:\n",
    "    critic_score = critic_elem.text.strip()"
   ]
  },
  {
   "cell_type": "code",
   "execution_count": 211,
   "id": "42c7f511-6775-4d2c-93ee-b07621b5aaa2",
   "metadata": {},
   "outputs": [],
   "source": [
    "dl_cs = critic_score"
   ]
  },
  {
   "cell_type": "code",
   "execution_count": 212,
   "id": "c016e8c6-aff3-4441-9706-58c7efd40caf",
   "metadata": {},
   "outputs": [],
   "source": [
    "audience_elem = dl_bs.find(\"rt-text\", {\"slot\": \"audienceScore\"})\n",
    "if audience_elem:\n",
    "    audience_score = audience_elem.text.strip()"
   ]
  },
  {
   "cell_type": "code",
   "execution_count": 213,
   "id": "cade0d48-1c7c-4924-99e9-93ea81b183e2",
   "metadata": {},
   "outputs": [],
   "source": [
    "dl_as = audience_score"
   ]
  },
  {
   "cell_type": "code",
   "execution_count": 214,
   "id": "34510c71-b2f4-437f-9dfd-d51713104c40",
   "metadata": {},
   "outputs": [],
   "source": [
    "dl_dict = []\n",
    "\n",
    "dl_dict.append({\n",
    "    'movie_title':dl_title,\n",
    "    'critic_rating':dl_cs,\n",
    "    'audience_rating':dl_as})"
   ]
  },
  {
   "cell_type": "code",
   "execution_count": 215,
   "id": "e2fcd5f1-f6c8-46c1-bf99-4c4efab439da",
   "metadata": {},
   "outputs": [],
   "source": [
    "darjeeling_lmtd = dl_dict[0]"
   ]
  },
  {
   "cell_type": "code",
   "execution_count": 216,
   "id": "35832d53-0b3e-4f7d-9ca6-c130d5928d43",
   "metadata": {},
   "outputs": [],
   "source": [
    "url = 'https://www.rottentomatoes.com/m/1197696-fantastic_mr_fox'\n",
    "\n",
    "response = requests.get(url)"
   ]
  },
  {
   "cell_type": "code",
   "execution_count": 217,
   "id": "a79def51-e110-4ecd-918c-75ae877b003d",
   "metadata": {},
   "outputs": [],
   "source": [
    "fmf_bs = BS(response.text)"
   ]
  },
  {
   "cell_type": "code",
   "execution_count": 218,
   "id": "0b303eb5-2ff6-4607-8003-6cde46079232",
   "metadata": {},
   "outputs": [],
   "source": [
    "fmf_title = fmf_bs.find('title').text"
   ]
  },
  {
   "cell_type": "code",
   "execution_count": 219,
   "id": "1ff8afe8-3992-4268-9a83-9f5acd558311",
   "metadata": {},
   "outputs": [],
   "source": [
    "critic_elem = fmf_bs.find(\"rt-text\", {\"slot\": \"criticsScore\"})\n",
    "if critic_elem:\n",
    "    critic_score = critic_elem.text.strip()"
   ]
  },
  {
   "cell_type": "code",
   "execution_count": 220,
   "id": "57c8596a-066f-4152-a930-caf8b22d2f4c",
   "metadata": {},
   "outputs": [],
   "source": [
    "fmf_cs = critic_score"
   ]
  },
  {
   "cell_type": "code",
   "execution_count": 221,
   "id": "ba6b113a-7e18-4a2b-b579-8e5b77fe9df7",
   "metadata": {},
   "outputs": [],
   "source": [
    "audience_elem = fmf_bs.find(\"rt-text\", {\"slot\": \"audienceScore\"})\n",
    "if audience_elem:\n",
    "    audience_score = audience_elem.text.strip()"
   ]
  },
  {
   "cell_type": "code",
   "execution_count": 222,
   "id": "8fd56424-0d27-4ccd-bb1b-02a4b89aa09a",
   "metadata": {},
   "outputs": [],
   "source": [
    "fmf_as = audience_score"
   ]
  },
  {
   "cell_type": "code",
   "execution_count": 223,
   "id": "c2b5e4b2-0d9c-4341-a64d-c16d11dbb793",
   "metadata": {},
   "outputs": [],
   "source": [
    "fmf_dict = []\n",
    "\n",
    "fmf_dict.append({\n",
    "    'movie_title':fmf_title,\n",
    "    'critic_rating':fmf_cs,\n",
    "    'audience_rating':fmf_as})"
   ]
  },
  {
   "cell_type": "code",
   "execution_count": 224,
   "id": "fe6cb043-b4e2-49c8-8b84-d889d8d48ada",
   "metadata": {},
   "outputs": [],
   "source": [
    "fan_mrfox = fmf_dict[0]"
   ]
  },
  {
   "cell_type": "code",
   "execution_count": 225,
   "id": "8ef30ca8-c4f8-4722-88ab-e072d2f071cb",
   "metadata": {},
   "outputs": [],
   "source": [
    "url = 'https://www.rottentomatoes.com/m/moonrise_kingdom'\n",
    "\n",
    "response = requests.get(url)"
   ]
  },
  {
   "cell_type": "code",
   "execution_count": 226,
   "id": "e1dd1e9a-7c01-42e1-b077-f0413ad1a045",
   "metadata": {},
   "outputs": [],
   "source": [
    "mk_bs = BS(response.text)"
   ]
  },
  {
   "cell_type": "code",
   "execution_count": 227,
   "id": "f53690f5-5021-4ba1-b9be-1afcc34e2912",
   "metadata": {},
   "outputs": [],
   "source": [
    "mk_title = mk_bs.find('title').text"
   ]
  },
  {
   "cell_type": "code",
   "execution_count": 228,
   "id": "b6cef226-13a2-4e7e-b344-ab178a83940e",
   "metadata": {},
   "outputs": [],
   "source": [
    "critic_elem = mk_bs.find(\"rt-text\", {\"slot\": \"criticsScore\"})\n",
    "if critic_elem:\n",
    "    critic_score = critic_elem.text.strip()"
   ]
  },
  {
   "cell_type": "code",
   "execution_count": 229,
   "id": "fc463b62-07de-4ea7-9879-f88329eb6fa9",
   "metadata": {},
   "outputs": [],
   "source": [
    "mk_cs = critic_score"
   ]
  },
  {
   "cell_type": "code",
   "execution_count": 230,
   "id": "1300730b-6396-41e3-adde-95948bb7af84",
   "metadata": {},
   "outputs": [],
   "source": [
    "audience_elem = mk_bs.find(\"rt-text\", {\"slot\": \"audienceScore\"})\n",
    "if audience_elem:\n",
    "    audience_score = audience_elem.text.strip()"
   ]
  },
  {
   "cell_type": "code",
   "execution_count": 231,
   "id": "b457bb15-ec02-4283-b4a3-3eeef733efcc",
   "metadata": {},
   "outputs": [],
   "source": [
    "mk_as = audience_score"
   ]
  },
  {
   "cell_type": "code",
   "execution_count": 232,
   "id": "760210f2-bcf5-40cb-bdd7-0bb511c08342",
   "metadata": {},
   "outputs": [],
   "source": [
    "mk_dict = []\n",
    "\n",
    "mk_dict.append({\n",
    "    'movie_title':mk_title,\n",
    "    'critic_rating':mk_cs,\n",
    "    'audience_rating':mk_as})"
   ]
  },
  {
   "cell_type": "code",
   "execution_count": 233,
   "id": "3746df95-733f-4fc8-8366-de5fd1d59741",
   "metadata": {},
   "outputs": [],
   "source": [
    "moonrise_king = mk_dict[0]"
   ]
  },
  {
   "cell_type": "code",
   "execution_count": 234,
   "id": "b46ca448-208f-4b43-9e5d-a6012ce0d337",
   "metadata": {},
   "outputs": [],
   "source": [
    "url = 'https://www.rottentomatoes.com/m/the_grand_budapest_hotel'\n",
    "\n",
    "response = requests.get(url)"
   ]
  },
  {
   "cell_type": "code",
   "execution_count": 235,
   "id": "ee03883d-d2f5-4e5f-ae53-144afba73a10",
   "metadata": {},
   "outputs": [],
   "source": [
    "tgbh_bs = BS(response.text)"
   ]
  },
  {
   "cell_type": "code",
   "execution_count": 236,
   "id": "251859c3-42e7-46c0-8384-49a1a9f68f55",
   "metadata": {},
   "outputs": [],
   "source": [
    "tgbh_title = tgbh_bs.find('title').text"
   ]
  },
  {
   "cell_type": "code",
   "execution_count": 237,
   "id": "b064a078-8aae-434c-85a9-1183c87a58e2",
   "metadata": {},
   "outputs": [],
   "source": [
    "critic_elem = tgbh_bs.find(\"rt-text\", {\"slot\": \"criticsScore\"})\n",
    "if critic_elem:\n",
    "    critic_score = critic_elem.text.strip()"
   ]
  },
  {
   "cell_type": "code",
   "execution_count": 238,
   "id": "3ffa1756-42e2-410d-8c78-014a04dfe198",
   "metadata": {},
   "outputs": [],
   "source": [
    "tgbh_cs = critic_score"
   ]
  },
  {
   "cell_type": "code",
   "execution_count": 239,
   "id": "666530a0-4ba4-486d-8e1e-eb64c2f3d332",
   "metadata": {},
   "outputs": [],
   "source": [
    "audience_elem = mk_bs.find(\"rt-text\", {\"slot\": \"audienceScore\"})\n",
    "if audience_elem:\n",
    "    audience_score = audience_elem.text.strip()"
   ]
  },
  {
   "cell_type": "code",
   "execution_count": 240,
   "id": "7f10b7b3-1058-4eaa-b8d8-7ec5c4930571",
   "metadata": {},
   "outputs": [],
   "source": [
    "tgbh_as = audience_score"
   ]
  },
  {
   "cell_type": "code",
   "execution_count": 241,
   "id": "5e42aa93-e217-418d-8a3d-b2a2e14e2702",
   "metadata": {},
   "outputs": [],
   "source": [
    "tgbh_dict = []\n",
    "\n",
    "tgbh_dict.append({\n",
    "    'movie_title':tgbh_title,\n",
    "    'critic_rating':tgbh_cs,\n",
    "    'audience_rating':tgbh_as})"
   ]
  },
  {
   "cell_type": "code",
   "execution_count": 242,
   "id": "4f08f9c9-f08a-4723-bbfa-cac9d005421d",
   "metadata": {},
   "outputs": [],
   "source": [
    "the_grand_bhotel = tgbh_dict[0]"
   ]
  },
  {
   "cell_type": "code",
   "execution_count": 243,
   "id": "20643420-27a4-4ae3-afa8-5827eb288eed",
   "metadata": {},
   "outputs": [],
   "source": [
    "url = 'https://www.rottentomatoes.com/m/isle_of_dogs_2018'\n",
    "\n",
    "response = requests.get(url)"
   ]
  },
  {
   "cell_type": "code",
   "execution_count": 244,
   "id": "85fc1a86-f8db-4cba-b044-545d63400cd5",
   "metadata": {},
   "outputs": [],
   "source": [
    "iod_bs = BS(response.text)"
   ]
  },
  {
   "cell_type": "code",
   "execution_count": 245,
   "id": "f314c0d9-8129-4f1c-af48-ab4cd017644f",
   "metadata": {},
   "outputs": [],
   "source": [
    "iod_title = iod_bs.find('title').text"
   ]
  },
  {
   "cell_type": "code",
   "execution_count": 246,
   "id": "3372e966-a51c-47ec-bc95-eaf9a7f23ecd",
   "metadata": {},
   "outputs": [],
   "source": [
    "critic_elem = iod_bs.find(\"rt-text\", {\"slot\": \"criticsScore\"})\n",
    "if critic_elem:\n",
    "    critic_score = critic_elem.text.strip()"
   ]
  },
  {
   "cell_type": "code",
   "execution_count": 247,
   "id": "b0426178-3b22-4c50-9a7a-3a01046dede1",
   "metadata": {},
   "outputs": [],
   "source": [
    "iod_cs = critic_score"
   ]
  },
  {
   "cell_type": "code",
   "execution_count": 248,
   "id": "7ac9486a-0de8-4650-9c16-4d369e567123",
   "metadata": {},
   "outputs": [],
   "source": [
    "audience_elem = iod_bs.find(\"rt-text\", {\"slot\": \"audienceScore\"})\n",
    "if audience_elem:\n",
    "    audience_score = audience_elem.text.strip()"
   ]
  },
  {
   "cell_type": "code",
   "execution_count": 249,
   "id": "578f5b3a-e995-4307-b1cd-cdbab97c3052",
   "metadata": {},
   "outputs": [],
   "source": [
    "iod_as = audience_score"
   ]
  },
  {
   "cell_type": "code",
   "execution_count": 250,
   "id": "ceccca57-57ac-4a95-8796-78aad00d5634",
   "metadata": {},
   "outputs": [],
   "source": [
    "iod_dict = []\n",
    "\n",
    "iod_dict.append({\n",
    "    'movie_title':iod_title,\n",
    "    'critic_rating':iod_cs,\n",
    "    'audience_rating':iod_as})"
   ]
  },
  {
   "cell_type": "code",
   "execution_count": 251,
   "id": "2a321775-e3ac-4883-bb85-cd4d2ec8bd49",
   "metadata": {},
   "outputs": [],
   "source": [
    "isle_of_dogs = iod_dict[0]"
   ]
  },
  {
   "cell_type": "code",
   "execution_count": 252,
   "id": "52ca6963-25f6-4bf7-87f1-1cd37080299d",
   "metadata": {},
   "outputs": [],
   "source": [
    "url = 'https://www.rottentomatoes.com/m/the_french_dispatch'\n",
    "\n",
    "response = requests.get(url)"
   ]
  },
  {
   "cell_type": "code",
   "execution_count": 253,
   "id": "8d9166d3-c46e-49b1-91c0-1364946c723c",
   "metadata": {},
   "outputs": [],
   "source": [
    "tfd_bs = BS(response.text)"
   ]
  },
  {
   "cell_type": "code",
   "execution_count": 254,
   "id": "46e8565d-41de-4fa8-a34b-4d456a83eade",
   "metadata": {},
   "outputs": [],
   "source": [
    "tfd_title = tfd_bs.find('title').text"
   ]
  },
  {
   "cell_type": "code",
   "execution_count": 255,
   "id": "7f7bee6c-50e4-4640-b2ab-96b976c2dd25",
   "metadata": {},
   "outputs": [],
   "source": [
    "critic_elem = tfd_bs.find(\"rt-text\", {\"slot\": \"criticsScore\"})\n",
    "if critic_elem:\n",
    "    critic_score = critic_elem.text.strip()"
   ]
  },
  {
   "cell_type": "code",
   "execution_count": 256,
   "id": "62d1db86-4d9d-40d5-8a1e-f84e9add685b",
   "metadata": {},
   "outputs": [],
   "source": [
    "tfd_cs = critic_score"
   ]
  },
  {
   "cell_type": "code",
   "execution_count": 257,
   "id": "56084da9-d1df-485a-9a23-aaa4ccd49851",
   "metadata": {},
   "outputs": [],
   "source": [
    "audience_elem = tfd_bs.find(\"rt-text\", {\"slot\": \"audienceScore\"})\n",
    "if audience_elem:\n",
    "    audience_score = audience_elem.text.strip()"
   ]
  },
  {
   "cell_type": "code",
   "execution_count": 258,
   "id": "165878cd-74bb-4538-b6f9-2dd6108bb002",
   "metadata": {},
   "outputs": [],
   "source": [
    "tfd_as = audience_score"
   ]
  },
  {
   "cell_type": "code",
   "execution_count": 259,
   "id": "48517bae-238a-426e-936b-a97cf840ddcf",
   "metadata": {},
   "outputs": [],
   "source": [
    "tfd_dict = []\n",
    "\n",
    "tfd_dict.append({\n",
    "    'movie_title':tfd_title,\n",
    "    'critic_rating':tfd_cs,\n",
    "    'audience_rating':tfd_as})"
   ]
  },
  {
   "cell_type": "code",
   "execution_count": 260,
   "id": "17cad997-20ff-4dae-b4bb-ad14e7dd960d",
   "metadata": {},
   "outputs": [],
   "source": [
    "the_french_dis = tfd_dict[0]"
   ]
  },
  {
   "cell_type": "code",
   "execution_count": 261,
   "id": "bef646fc-dd30-4d9d-a23f-d721ff470877",
   "metadata": {},
   "outputs": [],
   "source": [
    "url = 'https://www.rottentomatoes.com/m/asteroid_city'\n",
    "\n",
    "response = requests.get(url)"
   ]
  },
  {
   "cell_type": "code",
   "execution_count": 262,
   "id": "40ab2c29-004e-4070-b12b-ebb2f1c52f71",
   "metadata": {},
   "outputs": [],
   "source": [
    "ac_bs = BS(response.text)"
   ]
  },
  {
   "cell_type": "code",
   "execution_count": 263,
   "id": "a2c151f0-6f1e-44ff-8375-ff1d2cfcd141",
   "metadata": {},
   "outputs": [],
   "source": [
    "ac_title = ac_bs.find('title').text"
   ]
  },
  {
   "cell_type": "code",
   "execution_count": 264,
   "id": "6a644f28-6ad2-41dd-b756-5acccb46cb74",
   "metadata": {},
   "outputs": [],
   "source": [
    "critic_elem = ac_bs.find(\"rt-text\", {\"slot\": \"criticsScore\"})\n",
    "if critic_elem:\n",
    "    critic_score = critic_elem.text.strip()"
   ]
  },
  {
   "cell_type": "code",
   "execution_count": 265,
   "id": "873b03c1-1c67-4745-9ab4-112239dc15aa",
   "metadata": {},
   "outputs": [],
   "source": [
    "ac_cs = critic_score"
   ]
  },
  {
   "cell_type": "code",
   "execution_count": 266,
   "id": "27cec23f-4d81-4f23-9595-28cccfc106ab",
   "metadata": {},
   "outputs": [],
   "source": [
    "audience_elem = ac_bs.find(\"rt-text\", {\"slot\": \"audienceScore\"})\n",
    "if audience_elem:\n",
    "    audience_score = audience_elem.text.strip()"
   ]
  },
  {
   "cell_type": "code",
   "execution_count": 267,
   "id": "66dcd423-9a43-41f4-a53d-8caf32770b53",
   "metadata": {},
   "outputs": [],
   "source": [
    "ac_as = audience_score"
   ]
  },
  {
   "cell_type": "code",
   "execution_count": 268,
   "id": "07bfc629-ed1d-48d6-94e2-617b71335e69",
   "metadata": {},
   "outputs": [],
   "source": [
    "ac_dict = []\n",
    "\n",
    "ac_dict.append({\n",
    "    'movie_title':ac_title,\n",
    "    'critic_rating':ac_cs,\n",
    "    'audience_rating':ac_as})"
   ]
  },
  {
   "cell_type": "code",
   "execution_count": 269,
   "id": "a56a8fb1-87a5-4491-a377-5e8ff9688f28",
   "metadata": {},
   "outputs": [],
   "source": [
    "asteroid_city = ac_dict[0]"
   ]
  },
  {
   "cell_type": "code",
   "execution_count": 270,
   "id": "a0288ed2-3c67-471f-8529-51f85970e45e",
   "metadata": {},
   "outputs": [],
   "source": [
    "wart_list = [bottle_rocket, rushmore, royal_tens, life_aquatic, darjeeling_lmtd, fan_mrfox, moonrise_king, the_grand_bhotel, isle_of_dogs,\n",
    "             the_french_dis, asteroid_city]"
   ]
  },
  {
   "cell_type": "code",
   "execution_count": 271,
   "id": "b6973b15-61cf-4b3d-a329-49a7cba62653",
   "metadata": {},
   "outputs": [],
   "source": [
    "rtwa_df = pd.DataFrame(wart_list)"
   ]
  },
  {
   "cell_type": "code",
   "execution_count": 272,
   "id": "2f42e380-66d9-43c6-ae88-67aa1a3b6241",
   "metadata": {},
   "outputs": [],
   "source": [
    "rtwa_df['movie_title'] = rtwa_df['movie_title'].str.replace(' | Rotten Tomatoes','')"
   ]
  },
  {
   "cell_type": "code",
   "execution_count": 273,
   "id": "a4d2e460-68db-413c-885a-f5fd5d68d5ad",
   "metadata": {},
   "outputs": [
    {
     "data": {
      "text/html": [
       "<div>\n",
       "<style scoped>\n",
       "    .dataframe tbody tr th:only-of-type {\n",
       "        vertical-align: middle;\n",
       "    }\n",
       "\n",
       "    .dataframe tbody tr th {\n",
       "        vertical-align: top;\n",
       "    }\n",
       "\n",
       "    .dataframe thead th {\n",
       "        text-align: right;\n",
       "    }\n",
       "</style>\n",
       "<table border=\"1\" class=\"dataframe\">\n",
       "  <thead>\n",
       "    <tr style=\"text-align: right;\">\n",
       "      <th></th>\n",
       "      <th>movie_title</th>\n",
       "      <th>critic_rating</th>\n",
       "      <th>audience_rating</th>\n",
       "    </tr>\n",
       "  </thead>\n",
       "  <tbody>\n",
       "    <tr>\n",
       "      <th>0</th>\n",
       "      <td>Bottle Rocket</td>\n",
       "      <td>86%</td>\n",
       "      <td>79%</td>\n",
       "    </tr>\n",
       "    <tr>\n",
       "      <th>1</th>\n",
       "      <td>Rushmore</td>\n",
       "      <td>90%</td>\n",
       "      <td>91%</td>\n",
       "    </tr>\n",
       "    <tr>\n",
       "      <th>2</th>\n",
       "      <td>The Royal Tenenbaums</td>\n",
       "      <td>81%</td>\n",
       "      <td>89%</td>\n",
       "    </tr>\n",
       "    <tr>\n",
       "      <th>3</th>\n",
       "      <td>The Life Aquatic With Steve Zissou</td>\n",
       "      <td>57%</td>\n",
       "      <td>82%</td>\n",
       "    </tr>\n",
       "    <tr>\n",
       "      <th>4</th>\n",
       "      <td>The Darjeeling Limited</td>\n",
       "      <td>69%</td>\n",
       "      <td>78%</td>\n",
       "    </tr>\n",
       "    <tr>\n",
       "      <th>5</th>\n",
       "      <td>Fantastic Mr. Fox</td>\n",
       "      <td>93%</td>\n",
       "      <td>85%</td>\n",
       "    </tr>\n",
       "    <tr>\n",
       "      <th>6</th>\n",
       "      <td>Moonrise Kingdom</td>\n",
       "      <td>93%</td>\n",
       "      <td>86%</td>\n",
       "    </tr>\n",
       "    <tr>\n",
       "      <th>7</th>\n",
       "      <td>The Grand Budapest Hotel</td>\n",
       "      <td>92%</td>\n",
       "      <td>86%</td>\n",
       "    </tr>\n",
       "    <tr>\n",
       "      <th>8</th>\n",
       "      <td>Isle of Dogs (2018)</td>\n",
       "      <td>90%</td>\n",
       "      <td>87%</td>\n",
       "    </tr>\n",
       "    <tr>\n",
       "      <th>9</th>\n",
       "      <td>The French Dispatch</td>\n",
       "      <td>75%</td>\n",
       "      <td>76%</td>\n",
       "    </tr>\n",
       "    <tr>\n",
       "      <th>10</th>\n",
       "      <td>Asteroid City</td>\n",
       "      <td>76%</td>\n",
       "      <td>62%</td>\n",
       "    </tr>\n",
       "  </tbody>\n",
       "</table>\n",
       "</div>"
      ],
      "text/plain": [
       "                           movie_title critic_rating audience_rating\n",
       "0                        Bottle Rocket           86%             79%\n",
       "1                             Rushmore           90%             91%\n",
       "2                 The Royal Tenenbaums           81%             89%\n",
       "3   The Life Aquatic With Steve Zissou           57%             82%\n",
       "4               The Darjeeling Limited           69%             78%\n",
       "5                    Fantastic Mr. Fox           93%             85%\n",
       "6                     Moonrise Kingdom           93%             86%\n",
       "7             The Grand Budapest Hotel           92%             86%\n",
       "8                  Isle of Dogs (2018)           90%             87%\n",
       "9                  The French Dispatch           75%             76%\n",
       "10                       Asteroid City           76%             62%"
      ]
     },
     "execution_count": 273,
     "metadata": {},
     "output_type": "execute_result"
    }
   ],
   "source": [
    "rtwa_df"
   ]
  },
  {
   "cell_type": "code",
   "execution_count": 274,
   "id": "63e07e2a-65da-4cdf-be5f-ef6a9091b402",
   "metadata": {},
   "outputs": [],
   "source": [
    "actors_df = pd.DataFrame(tmdb2_df['actors'].to_list(), columns=['actor1', 'actor2', 'actor3', 'actor4','actor5'])"
   ]
  },
  {
   "cell_type": "code",
   "execution_count": 275,
   "id": "e2e9f880-a9fe-4189-8087-179af0cb411d",
   "metadata": {},
   "outputs": [],
   "source": [
    "tmdb2_df = tmdb2_df.drop(columns='actors').join(actors_df)"
   ]
  },
  {
   "cell_type": "code",
   "execution_count": 276,
   "id": "dd9edd97-f39f-45af-bd6b-a52280685f2a",
   "metadata": {},
   "outputs": [
    {
     "data": {
      "text/html": [
       "<div>\n",
       "<style scoped>\n",
       "    .dataframe tbody tr th:only-of-type {\n",
       "        vertical-align: middle;\n",
       "    }\n",
       "\n",
       "    .dataframe tbody tr th {\n",
       "        vertical-align: top;\n",
       "    }\n",
       "\n",
       "    .dataframe thead th {\n",
       "        text-align: right;\n",
       "    }\n",
       "</style>\n",
       "<table border=\"1\" class=\"dataframe\">\n",
       "  <thead>\n",
       "    <tr style=\"text-align: right;\">\n",
       "      <th></th>\n",
       "      <th>title</th>\n",
       "      <th>rating</th>\n",
       "      <th>content_rating</th>\n",
       "      <th>actor1</th>\n",
       "      <th>actor2</th>\n",
       "      <th>actor3</th>\n",
       "      <th>actor4</th>\n",
       "      <th>actor5</th>\n",
       "    </tr>\n",
       "  </thead>\n",
       "  <tbody>\n",
       "    <tr>\n",
       "      <th>0</th>\n",
       "      <td>The Life Aquatic with Steve Zissou</td>\n",
       "      <td>7.081</td>\n",
       "      <td>12</td>\n",
       "      <td>Bill Murray</td>\n",
       "      <td>Owen Wilson</td>\n",
       "      <td>Cate Blanchett</td>\n",
       "      <td>Anjelica Huston</td>\n",
       "      <td>Willem Dafoe</td>\n",
       "    </tr>\n",
       "    <tr>\n",
       "      <th>1</th>\n",
       "      <td>Fantastic Mr. Fox</td>\n",
       "      <td>7.805</td>\n",
       "      <td>6</td>\n",
       "      <td>George Clooney</td>\n",
       "      <td>Meryl Streep</td>\n",
       "      <td>Jason Schwartzman</td>\n",
       "      <td>Wallace Wolodarsky</td>\n",
       "      <td>Eric Chase Anderson</td>\n",
       "    </tr>\n",
       "    <tr>\n",
       "      <th>2</th>\n",
       "      <td>Hotel Chevalier</td>\n",
       "      <td>6.907</td>\n",
       "      <td>6</td>\n",
       "      <td>Jason Schwartzman</td>\n",
       "      <td>Natalie Portman</td>\n",
       "      <td>Waris Ahluwalia</td>\n",
       "      <td>Michel Castejon</td>\n",
       "      <td>None</td>\n",
       "    </tr>\n",
       "    <tr>\n",
       "      <th>3</th>\n",
       "      <td>The Royal Tenenbaums</td>\n",
       "      <td>7.468</td>\n",
       "      <td>12</td>\n",
       "      <td>Gene Hackman</td>\n",
       "      <td>Anjelica Huston</td>\n",
       "      <td>Ben Stiller</td>\n",
       "      <td>Gwyneth Paltrow</td>\n",
       "      <td>Luke Wilson</td>\n",
       "    </tr>\n",
       "    <tr>\n",
       "      <th>4</th>\n",
       "      <td>Bottle Rocket</td>\n",
       "      <td>6.700</td>\n",
       "      <td>M</td>\n",
       "      <td>Luke Wilson</td>\n",
       "      <td>Owen Wilson</td>\n",
       "      <td>Robert Musgrave</td>\n",
       "      <td>Lumi Cavazos</td>\n",
       "      <td>James Caan</td>\n",
       "    </tr>\n",
       "    <tr>\n",
       "      <th>5</th>\n",
       "      <td>Moonrise Kingdom</td>\n",
       "      <td>7.685</td>\n",
       "      <td></td>\n",
       "      <td>Jared Gilman</td>\n",
       "      <td>Kara Hayward</td>\n",
       "      <td>Bruce Willis</td>\n",
       "      <td>Edward Norton</td>\n",
       "      <td>Bill Murray</td>\n",
       "    </tr>\n",
       "    <tr>\n",
       "      <th>6</th>\n",
       "      <td>Bottle Rocket</td>\n",
       "      <td>6.200</td>\n",
       "      <td></td>\n",
       "      <td>Owen Wilson</td>\n",
       "      <td>Luke Wilson</td>\n",
       "      <td>Robert Musgrave</td>\n",
       "      <td>Elissa Sommerfield</td>\n",
       "      <td>Isiah Ellis</td>\n",
       "    </tr>\n",
       "    <tr>\n",
       "      <th>7</th>\n",
       "      <td>The Grand Budapest Hotel</td>\n",
       "      <td>8.042</td>\n",
       "      <td>12</td>\n",
       "      <td>Ralph Fiennes</td>\n",
       "      <td>F. Murray Abraham</td>\n",
       "      <td>Mathieu Amalric</td>\n",
       "      <td>Adrien Brody</td>\n",
       "      <td>Willem Dafoe</td>\n",
       "    </tr>\n",
       "    <tr>\n",
       "      <th>8</th>\n",
       "      <td>Cousin Ben Troop Screening</td>\n",
       "      <td>6.375</td>\n",
       "      <td>NR</td>\n",
       "      <td>Jason Schwartzman</td>\n",
       "      <td>Jake Ryan</td>\n",
       "      <td>Charlie Kilgore</td>\n",
       "      <td>Gabriel Rush</td>\n",
       "      <td>L.J. Foley</td>\n",
       "    </tr>\n",
       "    <tr>\n",
       "      <th>9</th>\n",
       "      <td>Poison</td>\n",
       "      <td>6.866</td>\n",
       "      <td></td>\n",
       "      <td>Benedict Cumberbatch</td>\n",
       "      <td>Dev Patel</td>\n",
       "      <td>Ben Kingsley</td>\n",
       "      <td>Ralph Fiennes</td>\n",
       "      <td>Eliel Ford</td>\n",
       "    </tr>\n",
       "    <tr>\n",
       "      <th>10</th>\n",
       "      <td>The Rat Catcher</td>\n",
       "      <td>6.595</td>\n",
       "      <td></td>\n",
       "      <td>Richard Ayoade</td>\n",
       "      <td>Ralph Fiennes</td>\n",
       "      <td>Rupert Friend</td>\n",
       "      <td>Eliel Ford</td>\n",
       "      <td>Benoît Herlin</td>\n",
       "    </tr>\n",
       "    <tr>\n",
       "      <th>11</th>\n",
       "      <td>The Swan</td>\n",
       "      <td>6.777</td>\n",
       "      <td></td>\n",
       "      <td>Rupert Friend</td>\n",
       "      <td>Ralph Fiennes</td>\n",
       "      <td>Asa Jennings</td>\n",
       "      <td>Eliel Ford</td>\n",
       "      <td>Truman Hanks</td>\n",
       "    </tr>\n",
       "    <tr>\n",
       "      <th>12</th>\n",
       "      <td>Castello Cavalcanti</td>\n",
       "      <td>7.016</td>\n",
       "      <td></td>\n",
       "      <td>Jason Schwartzman</td>\n",
       "      <td>Giada Colagrande</td>\n",
       "      <td>Giorgio Zancolla</td>\n",
       "      <td>Paolo Coluccio</td>\n",
       "      <td>Silvano Broglia</td>\n",
       "    </tr>\n",
       "    <tr>\n",
       "      <th>13</th>\n",
       "      <td>The Wonderful Story of Henry Sugar</td>\n",
       "      <td>7.239</td>\n",
       "      <td></td>\n",
       "      <td>Ralph Fiennes</td>\n",
       "      <td>Benedict Cumberbatch</td>\n",
       "      <td>Dev Patel</td>\n",
       "      <td>Ben Kingsley</td>\n",
       "      <td>Richard Ayoade</td>\n",
       "    </tr>\n",
       "    <tr>\n",
       "      <th>14</th>\n",
       "      <td>Isle of Dogs</td>\n",
       "      <td>7.850</td>\n",
       "      <td>6</td>\n",
       "      <td>Bryan Cranston</td>\n",
       "      <td>Koyu Rankin</td>\n",
       "      <td>Bob Balaban</td>\n",
       "      <td>Edward Norton</td>\n",
       "      <td>Bill Murray</td>\n",
       "    </tr>\n",
       "    <tr>\n",
       "      <th>15</th>\n",
       "      <td>Rushmore</td>\n",
       "      <td>7.398</td>\n",
       "      <td>6</td>\n",
       "      <td>Jason Schwartzman</td>\n",
       "      <td>Bill Murray</td>\n",
       "      <td>Olivia Williams</td>\n",
       "      <td>Seymour Cassel</td>\n",
       "      <td>Brian Cox</td>\n",
       "    </tr>\n",
       "    <tr>\n",
       "      <th>16</th>\n",
       "      <td>The Wonderful Story of Henry Sugar and Three More</td>\n",
       "      <td>7.576</td>\n",
       "      <td></td>\n",
       "      <td>Benedict Cumberbatch</td>\n",
       "      <td>Dev Patel</td>\n",
       "      <td>Ben Kingsley</td>\n",
       "      <td>Richard Ayoade</td>\n",
       "      <td>Ralph Fiennes</td>\n",
       "    </tr>\n",
       "    <tr>\n",
       "      <th>17</th>\n",
       "      <td>The Darjeeling Limited</td>\n",
       "      <td>7.161</td>\n",
       "      <td>6</td>\n",
       "      <td>Owen Wilson</td>\n",
       "      <td>Adrien Brody</td>\n",
       "      <td>Jason Schwartzman</td>\n",
       "      <td>Amara Karan</td>\n",
       "      <td>Wallace Wolodarsky</td>\n",
       "    </tr>\n",
       "    <tr>\n",
       "      <th>18</th>\n",
       "      <td>The Phoenician Scheme</td>\n",
       "      <td>0.000</td>\n",
       "      <td>M</td>\n",
       "      <td>Benicio del Toro</td>\n",
       "      <td>Mia Threapleton</td>\n",
       "      <td>Michael Cera</td>\n",
       "      <td>Tom Hanks</td>\n",
       "      <td>Bryan Cranston</td>\n",
       "    </tr>\n",
       "    <tr>\n",
       "      <th>19</th>\n",
       "      <td>The French Dispatch</td>\n",
       "      <td>7.000</td>\n",
       "      <td></td>\n",
       "      <td>Benicio del Toro</td>\n",
       "      <td>Adrien Brody</td>\n",
       "      <td>Tilda Swinton</td>\n",
       "      <td>Léa Seydoux</td>\n",
       "      <td>Frances McDormand</td>\n",
       "    </tr>\n",
       "    <tr>\n",
       "      <th>20</th>\n",
       "      <td>Do You Like to Read?</td>\n",
       "      <td>6.222</td>\n",
       "      <td></td>\n",
       "      <td>Bob Balaban</td>\n",
       "      <td>Kara Hayward</td>\n",
       "      <td>None</td>\n",
       "      <td>None</td>\n",
       "      <td>None</td>\n",
       "    </tr>\n",
       "    <tr>\n",
       "      <th>21</th>\n",
       "      <td>Asteroid City</td>\n",
       "      <td>6.463</td>\n",
       "      <td></td>\n",
       "      <td>Jason Schwartzman</td>\n",
       "      <td>Scarlett Johansson</td>\n",
       "      <td>Tom Hanks</td>\n",
       "      <td>Jeffrey Wright</td>\n",
       "      <td>Tilda Swinton</td>\n",
       "    </tr>\n",
       "    <tr>\n",
       "      <th>22</th>\n",
       "      <td>Come Together: A Fashion Picture in Motion</td>\n",
       "      <td>6.750</td>\n",
       "      <td></td>\n",
       "      <td>None</td>\n",
       "      <td>None</td>\n",
       "      <td>None</td>\n",
       "      <td>None</td>\n",
       "      <td>None</td>\n",
       "    </tr>\n",
       "  </tbody>\n",
       "</table>\n",
       "</div>"
      ],
      "text/plain": [
       "                                                title  rating content_rating  \\\n",
       "0                  The Life Aquatic with Steve Zissou   7.081             12   \n",
       "1                                   Fantastic Mr. Fox   7.805              6   \n",
       "2                                     Hotel Chevalier   6.907              6   \n",
       "3                                The Royal Tenenbaums   7.468             12   \n",
       "4                                       Bottle Rocket   6.700              M   \n",
       "5                                    Moonrise Kingdom   7.685                  \n",
       "6                                       Bottle Rocket   6.200                  \n",
       "7                            The Grand Budapest Hotel   8.042             12   \n",
       "8                          Cousin Ben Troop Screening   6.375             NR   \n",
       "9                                              Poison   6.866                  \n",
       "10                                    The Rat Catcher   6.595                  \n",
       "11                                           The Swan   6.777                  \n",
       "12                                Castello Cavalcanti   7.016                  \n",
       "13                 The Wonderful Story of Henry Sugar   7.239                  \n",
       "14                                       Isle of Dogs   7.850              6   \n",
       "15                                           Rushmore   7.398              6   \n",
       "16  The Wonderful Story of Henry Sugar and Three More   7.576                  \n",
       "17                             The Darjeeling Limited   7.161              6   \n",
       "18                              The Phoenician Scheme   0.000              M   \n",
       "19                                The French Dispatch   7.000                  \n",
       "20                               Do You Like to Read?   6.222                  \n",
       "21                                      Asteroid City   6.463                  \n",
       "22         Come Together: A Fashion Picture in Motion   6.750                  \n",
       "\n",
       "                  actor1                actor2             actor3  \\\n",
       "0            Bill Murray           Owen Wilson     Cate Blanchett   \n",
       "1         George Clooney          Meryl Streep  Jason Schwartzman   \n",
       "2      Jason Schwartzman       Natalie Portman    Waris Ahluwalia   \n",
       "3           Gene Hackman       Anjelica Huston        Ben Stiller   \n",
       "4            Luke Wilson           Owen Wilson    Robert Musgrave   \n",
       "5           Jared Gilman          Kara Hayward       Bruce Willis   \n",
       "6            Owen Wilson           Luke Wilson    Robert Musgrave   \n",
       "7          Ralph Fiennes     F. Murray Abraham    Mathieu Amalric   \n",
       "8      Jason Schwartzman             Jake Ryan    Charlie Kilgore   \n",
       "9   Benedict Cumberbatch             Dev Patel       Ben Kingsley   \n",
       "10        Richard Ayoade         Ralph Fiennes      Rupert Friend   \n",
       "11         Rupert Friend         Ralph Fiennes       Asa Jennings   \n",
       "12     Jason Schwartzman      Giada Colagrande   Giorgio Zancolla   \n",
       "13         Ralph Fiennes  Benedict Cumberbatch          Dev Patel   \n",
       "14        Bryan Cranston           Koyu Rankin        Bob Balaban   \n",
       "15     Jason Schwartzman           Bill Murray    Olivia Williams   \n",
       "16  Benedict Cumberbatch             Dev Patel       Ben Kingsley   \n",
       "17           Owen Wilson          Adrien Brody  Jason Schwartzman   \n",
       "18      Benicio del Toro       Mia Threapleton       Michael Cera   \n",
       "19      Benicio del Toro          Adrien Brody      Tilda Swinton   \n",
       "20           Bob Balaban          Kara Hayward               None   \n",
       "21     Jason Schwartzman    Scarlett Johansson          Tom Hanks   \n",
       "22                  None                  None               None   \n",
       "\n",
       "                actor4               actor5  \n",
       "0      Anjelica Huston         Willem Dafoe  \n",
       "1   Wallace Wolodarsky  Eric Chase Anderson  \n",
       "2      Michel Castejon                 None  \n",
       "3      Gwyneth Paltrow          Luke Wilson  \n",
       "4         Lumi Cavazos           James Caan  \n",
       "5        Edward Norton          Bill Murray  \n",
       "6   Elissa Sommerfield          Isiah Ellis  \n",
       "7         Adrien Brody         Willem Dafoe  \n",
       "8         Gabriel Rush           L.J. Foley  \n",
       "9        Ralph Fiennes           Eliel Ford  \n",
       "10          Eliel Ford        Benoît Herlin  \n",
       "11          Eliel Ford         Truman Hanks  \n",
       "12      Paolo Coluccio      Silvano Broglia  \n",
       "13        Ben Kingsley       Richard Ayoade  \n",
       "14       Edward Norton          Bill Murray  \n",
       "15      Seymour Cassel            Brian Cox  \n",
       "16      Richard Ayoade        Ralph Fiennes  \n",
       "17         Amara Karan   Wallace Wolodarsky  \n",
       "18           Tom Hanks       Bryan Cranston  \n",
       "19         Léa Seydoux    Frances McDormand  \n",
       "20                None                 None  \n",
       "21      Jeffrey Wright        Tilda Swinton  \n",
       "22                None                 None  "
      ]
     },
     "execution_count": 276,
     "metadata": {},
     "output_type": "execute_result"
    }
   ],
   "source": [
    "tmdb2_df"
   ]
  },
  {
   "cell_type": "code",
   "execution_count": 277,
   "id": "65f93fa6-9585-4e3b-9c37-f3a70dcd37c0",
   "metadata": {},
   "outputs": [
    {
     "data": {
      "text/html": [
       "<div>\n",
       "<style scoped>\n",
       "    .dataframe tbody tr th:only-of-type {\n",
       "        vertical-align: middle;\n",
       "    }\n",
       "\n",
       "    .dataframe tbody tr th {\n",
       "        vertical-align: top;\n",
       "    }\n",
       "\n",
       "    .dataframe thead th {\n",
       "        text-align: right;\n",
       "    }\n",
       "</style>\n",
       "<table border=\"1\" class=\"dataframe\">\n",
       "  <thead>\n",
       "    <tr style=\"text-align: right;\">\n",
       "      <th></th>\n",
       "      <th>title</th>\n",
       "      <th>year</th>\n",
       "      <th>rating</th>\n",
       "    </tr>\n",
       "  </thead>\n",
       "  <tbody>\n",
       "    <tr>\n",
       "      <th>0</th>\n",
       "      <td>Bottle Rocket</td>\n",
       "      <td>1996</td>\n",
       "      <td>6.9</td>\n",
       "    </tr>\n",
       "    <tr>\n",
       "      <th>1</th>\n",
       "      <td>The Life Aquatic with Steve Zissou</td>\n",
       "      <td>2004</td>\n",
       "      <td>7.2</td>\n",
       "    </tr>\n",
       "    <tr>\n",
       "      <th>2</th>\n",
       "      <td>The Royal Tenenbaums</td>\n",
       "      <td>2001</td>\n",
       "      <td>7.6</td>\n",
       "    </tr>\n",
       "    <tr>\n",
       "      <th>3</th>\n",
       "      <td>Fantastic Mr. Fox</td>\n",
       "      <td>2009</td>\n",
       "      <td>7.9</td>\n",
       "    </tr>\n",
       "    <tr>\n",
       "      <th>4</th>\n",
       "      <td>Asteroid City</td>\n",
       "      <td>2023</td>\n",
       "      <td>6.4</td>\n",
       "    </tr>\n",
       "    <tr>\n",
       "      <th>5</th>\n",
       "      <td>The Royal Tenenbaums</td>\n",
       "      <td>2001</td>\n",
       "      <td>7.6</td>\n",
       "    </tr>\n",
       "    <tr>\n",
       "      <th>6</th>\n",
       "      <td>Moonrise Kingdom</td>\n",
       "      <td>2012</td>\n",
       "      <td>7.8</td>\n",
       "    </tr>\n",
       "    <tr>\n",
       "      <th>7</th>\n",
       "      <td>Rushmore</td>\n",
       "      <td>1998</td>\n",
       "      <td>7.6</td>\n",
       "    </tr>\n",
       "    <tr>\n",
       "      <th>8</th>\n",
       "      <td>The Darjeeling Limited</td>\n",
       "      <td>2007</td>\n",
       "      <td>7.2</td>\n",
       "    </tr>\n",
       "    <tr>\n",
       "      <th>9</th>\n",
       "      <td>The Grand Budapest Hotel</td>\n",
       "      <td>2014</td>\n",
       "      <td>8.1</td>\n",
       "    </tr>\n",
       "    <tr>\n",
       "      <th>10</th>\n",
       "      <td>Isle of Dogs</td>\n",
       "      <td>2018</td>\n",
       "      <td>7.8</td>\n",
       "    </tr>\n",
       "    <tr>\n",
       "      <th>11</th>\n",
       "      <td>The French Dispatch</td>\n",
       "      <td>2021</td>\n",
       "      <td>7.1</td>\n",
       "    </tr>\n",
       "  </tbody>\n",
       "</table>\n",
       "</div>"
      ],
      "text/plain": [
       "                                 title  year  rating\n",
       "0                        Bottle Rocket  1996     6.9\n",
       "1   The Life Aquatic with Steve Zissou  2004     7.2\n",
       "2                 The Royal Tenenbaums  2001     7.6\n",
       "3                    Fantastic Mr. Fox  2009     7.9\n",
       "4                        Asteroid City  2023     6.4\n",
       "5                 The Royal Tenenbaums  2001     7.6\n",
       "6                     Moonrise Kingdom  2012     7.8\n",
       "7                             Rushmore  1998     7.6\n",
       "8               The Darjeeling Limited  2007     7.2\n",
       "9             The Grand Budapest Hotel  2014     8.1\n",
       "10                        Isle of Dogs  2018     7.8\n",
       "11                 The French Dispatch  2021     7.1"
      ]
     },
     "execution_count": 277,
     "metadata": {},
     "output_type": "execute_result"
    }
   ],
   "source": [
    "wes_imdb"
   ]
  },
  {
   "cell_type": "code",
   "execution_count": 278,
   "id": "ed4c7674-5784-4479-b519-e2d39962e389",
   "metadata": {},
   "outputs": [],
   "source": [
    "timdb = pd.merge(tmdb2_df, wes_imdb, left_on='title', right_on='title', how='inner')"
   ]
  },
  {
   "cell_type": "code",
   "execution_count": 279,
   "id": "870829f7-be9a-4fca-bf96-811cd94b0208",
   "metadata": {},
   "outputs": [],
   "source": [
    "timdb['title'] = timdb['title'].str.strip()"
   ]
  },
  {
   "cell_type": "code",
   "execution_count": 280,
   "id": "8eecf2fa-a805-4544-a288-7117be1b05b4",
   "metadata": {},
   "outputs": [],
   "source": [
    "timdb['title'] = timdb['title'].str.replace('The Life Aquatic with Steve Zissou', 'The Life Aquatic With Steve Zissou')"
   ]
  },
  {
   "cell_type": "code",
   "execution_count": 281,
   "id": "36e7dd01-6b22-4c09-8b55-516cdd1441db",
   "metadata": {},
   "outputs": [
    {
     "data": {
      "text/html": [
       "<div>\n",
       "<style scoped>\n",
       "    .dataframe tbody tr th:only-of-type {\n",
       "        vertical-align: middle;\n",
       "    }\n",
       "\n",
       "    .dataframe tbody tr th {\n",
       "        vertical-align: top;\n",
       "    }\n",
       "\n",
       "    .dataframe thead th {\n",
       "        text-align: right;\n",
       "    }\n",
       "</style>\n",
       "<table border=\"1\" class=\"dataframe\">\n",
       "  <thead>\n",
       "    <tr style=\"text-align: right;\">\n",
       "      <th></th>\n",
       "      <th>title</th>\n",
       "      <th>rating_x</th>\n",
       "      <th>content_rating</th>\n",
       "      <th>actor1</th>\n",
       "      <th>actor2</th>\n",
       "      <th>actor3</th>\n",
       "      <th>actor4</th>\n",
       "      <th>actor5</th>\n",
       "      <th>year</th>\n",
       "      <th>rating_y</th>\n",
       "    </tr>\n",
       "  </thead>\n",
       "  <tbody>\n",
       "    <tr>\n",
       "      <th>0</th>\n",
       "      <td>The Life Aquatic With Steve Zissou</td>\n",
       "      <td>7.081</td>\n",
       "      <td>12</td>\n",
       "      <td>Bill Murray</td>\n",
       "      <td>Owen Wilson</td>\n",
       "      <td>Cate Blanchett</td>\n",
       "      <td>Anjelica Huston</td>\n",
       "      <td>Willem Dafoe</td>\n",
       "      <td>2004</td>\n",
       "      <td>7.2</td>\n",
       "    </tr>\n",
       "    <tr>\n",
       "      <th>1</th>\n",
       "      <td>Fantastic Mr. Fox</td>\n",
       "      <td>7.805</td>\n",
       "      <td>6</td>\n",
       "      <td>George Clooney</td>\n",
       "      <td>Meryl Streep</td>\n",
       "      <td>Jason Schwartzman</td>\n",
       "      <td>Wallace Wolodarsky</td>\n",
       "      <td>Eric Chase Anderson</td>\n",
       "      <td>2009</td>\n",
       "      <td>7.9</td>\n",
       "    </tr>\n",
       "    <tr>\n",
       "      <th>2</th>\n",
       "      <td>The Royal Tenenbaums</td>\n",
       "      <td>7.468</td>\n",
       "      <td>12</td>\n",
       "      <td>Gene Hackman</td>\n",
       "      <td>Anjelica Huston</td>\n",
       "      <td>Ben Stiller</td>\n",
       "      <td>Gwyneth Paltrow</td>\n",
       "      <td>Luke Wilson</td>\n",
       "      <td>2001</td>\n",
       "      <td>7.6</td>\n",
       "    </tr>\n",
       "    <tr>\n",
       "      <th>3</th>\n",
       "      <td>The Royal Tenenbaums</td>\n",
       "      <td>7.468</td>\n",
       "      <td>12</td>\n",
       "      <td>Gene Hackman</td>\n",
       "      <td>Anjelica Huston</td>\n",
       "      <td>Ben Stiller</td>\n",
       "      <td>Gwyneth Paltrow</td>\n",
       "      <td>Luke Wilson</td>\n",
       "      <td>2001</td>\n",
       "      <td>7.6</td>\n",
       "    </tr>\n",
       "    <tr>\n",
       "      <th>4</th>\n",
       "      <td>Bottle Rocket</td>\n",
       "      <td>6.700</td>\n",
       "      <td>M</td>\n",
       "      <td>Luke Wilson</td>\n",
       "      <td>Owen Wilson</td>\n",
       "      <td>Robert Musgrave</td>\n",
       "      <td>Lumi Cavazos</td>\n",
       "      <td>James Caan</td>\n",
       "      <td>1996</td>\n",
       "      <td>6.9</td>\n",
       "    </tr>\n",
       "    <tr>\n",
       "      <th>5</th>\n",
       "      <td>Moonrise Kingdom</td>\n",
       "      <td>7.685</td>\n",
       "      <td></td>\n",
       "      <td>Jared Gilman</td>\n",
       "      <td>Kara Hayward</td>\n",
       "      <td>Bruce Willis</td>\n",
       "      <td>Edward Norton</td>\n",
       "      <td>Bill Murray</td>\n",
       "      <td>2012</td>\n",
       "      <td>7.8</td>\n",
       "    </tr>\n",
       "    <tr>\n",
       "      <th>6</th>\n",
       "      <td>Bottle Rocket</td>\n",
       "      <td>6.200</td>\n",
       "      <td></td>\n",
       "      <td>Owen Wilson</td>\n",
       "      <td>Luke Wilson</td>\n",
       "      <td>Robert Musgrave</td>\n",
       "      <td>Elissa Sommerfield</td>\n",
       "      <td>Isiah Ellis</td>\n",
       "      <td>1996</td>\n",
       "      <td>6.9</td>\n",
       "    </tr>\n",
       "    <tr>\n",
       "      <th>7</th>\n",
       "      <td>The Grand Budapest Hotel</td>\n",
       "      <td>8.042</td>\n",
       "      <td>12</td>\n",
       "      <td>Ralph Fiennes</td>\n",
       "      <td>F. Murray Abraham</td>\n",
       "      <td>Mathieu Amalric</td>\n",
       "      <td>Adrien Brody</td>\n",
       "      <td>Willem Dafoe</td>\n",
       "      <td>2014</td>\n",
       "      <td>8.1</td>\n",
       "    </tr>\n",
       "    <tr>\n",
       "      <th>8</th>\n",
       "      <td>Isle of Dogs</td>\n",
       "      <td>7.850</td>\n",
       "      <td>6</td>\n",
       "      <td>Bryan Cranston</td>\n",
       "      <td>Koyu Rankin</td>\n",
       "      <td>Bob Balaban</td>\n",
       "      <td>Edward Norton</td>\n",
       "      <td>Bill Murray</td>\n",
       "      <td>2018</td>\n",
       "      <td>7.8</td>\n",
       "    </tr>\n",
       "    <tr>\n",
       "      <th>9</th>\n",
       "      <td>Rushmore</td>\n",
       "      <td>7.398</td>\n",
       "      <td>6</td>\n",
       "      <td>Jason Schwartzman</td>\n",
       "      <td>Bill Murray</td>\n",
       "      <td>Olivia Williams</td>\n",
       "      <td>Seymour Cassel</td>\n",
       "      <td>Brian Cox</td>\n",
       "      <td>1998</td>\n",
       "      <td>7.6</td>\n",
       "    </tr>\n",
       "    <tr>\n",
       "      <th>10</th>\n",
       "      <td>The Darjeeling Limited</td>\n",
       "      <td>7.161</td>\n",
       "      <td>6</td>\n",
       "      <td>Owen Wilson</td>\n",
       "      <td>Adrien Brody</td>\n",
       "      <td>Jason Schwartzman</td>\n",
       "      <td>Amara Karan</td>\n",
       "      <td>Wallace Wolodarsky</td>\n",
       "      <td>2007</td>\n",
       "      <td>7.2</td>\n",
       "    </tr>\n",
       "    <tr>\n",
       "      <th>11</th>\n",
       "      <td>The French Dispatch</td>\n",
       "      <td>7.000</td>\n",
       "      <td></td>\n",
       "      <td>Benicio del Toro</td>\n",
       "      <td>Adrien Brody</td>\n",
       "      <td>Tilda Swinton</td>\n",
       "      <td>Léa Seydoux</td>\n",
       "      <td>Frances McDormand</td>\n",
       "      <td>2021</td>\n",
       "      <td>7.1</td>\n",
       "    </tr>\n",
       "    <tr>\n",
       "      <th>12</th>\n",
       "      <td>Asteroid City</td>\n",
       "      <td>6.463</td>\n",
       "      <td></td>\n",
       "      <td>Jason Schwartzman</td>\n",
       "      <td>Scarlett Johansson</td>\n",
       "      <td>Tom Hanks</td>\n",
       "      <td>Jeffrey Wright</td>\n",
       "      <td>Tilda Swinton</td>\n",
       "      <td>2023</td>\n",
       "      <td>6.4</td>\n",
       "    </tr>\n",
       "  </tbody>\n",
       "</table>\n",
       "</div>"
      ],
      "text/plain": [
       "                                 title  rating_x content_rating  \\\n",
       "0   The Life Aquatic With Steve Zissou     7.081             12   \n",
       "1                    Fantastic Mr. Fox     7.805              6   \n",
       "2                 The Royal Tenenbaums     7.468             12   \n",
       "3                 The Royal Tenenbaums     7.468             12   \n",
       "4                        Bottle Rocket     6.700              M   \n",
       "5                     Moonrise Kingdom     7.685                  \n",
       "6                        Bottle Rocket     6.200                  \n",
       "7             The Grand Budapest Hotel     8.042             12   \n",
       "8                         Isle of Dogs     7.850              6   \n",
       "9                             Rushmore     7.398              6   \n",
       "10              The Darjeeling Limited     7.161              6   \n",
       "11                 The French Dispatch     7.000                  \n",
       "12                       Asteroid City     6.463                  \n",
       "\n",
       "               actor1              actor2             actor3  \\\n",
       "0         Bill Murray         Owen Wilson     Cate Blanchett   \n",
       "1      George Clooney        Meryl Streep  Jason Schwartzman   \n",
       "2        Gene Hackman     Anjelica Huston        Ben Stiller   \n",
       "3        Gene Hackman     Anjelica Huston        Ben Stiller   \n",
       "4         Luke Wilson         Owen Wilson    Robert Musgrave   \n",
       "5        Jared Gilman        Kara Hayward       Bruce Willis   \n",
       "6         Owen Wilson         Luke Wilson    Robert Musgrave   \n",
       "7       Ralph Fiennes   F. Murray Abraham    Mathieu Amalric   \n",
       "8      Bryan Cranston         Koyu Rankin        Bob Balaban   \n",
       "9   Jason Schwartzman         Bill Murray    Olivia Williams   \n",
       "10        Owen Wilson        Adrien Brody  Jason Schwartzman   \n",
       "11   Benicio del Toro        Adrien Brody      Tilda Swinton   \n",
       "12  Jason Schwartzman  Scarlett Johansson          Tom Hanks   \n",
       "\n",
       "                actor4               actor5  year  rating_y  \n",
       "0      Anjelica Huston         Willem Dafoe  2004       7.2  \n",
       "1   Wallace Wolodarsky  Eric Chase Anderson  2009       7.9  \n",
       "2      Gwyneth Paltrow          Luke Wilson  2001       7.6  \n",
       "3      Gwyneth Paltrow          Luke Wilson  2001       7.6  \n",
       "4         Lumi Cavazos           James Caan  1996       6.9  \n",
       "5        Edward Norton          Bill Murray  2012       7.8  \n",
       "6   Elissa Sommerfield          Isiah Ellis  1996       6.9  \n",
       "7         Adrien Brody         Willem Dafoe  2014       8.1  \n",
       "8        Edward Norton          Bill Murray  2018       7.8  \n",
       "9       Seymour Cassel            Brian Cox  1998       7.6  \n",
       "10         Amara Karan   Wallace Wolodarsky  2007       7.2  \n",
       "11         Léa Seydoux    Frances McDormand  2021       7.1  \n",
       "12      Jeffrey Wright        Tilda Swinton  2023       6.4  "
      ]
     },
     "execution_count": 281,
     "metadata": {},
     "output_type": "execute_result"
    }
   ],
   "source": [
    "timdb"
   ]
  },
  {
   "cell_type": "code",
   "execution_count": 282,
   "id": "934b8359-e9af-486b-b75d-7de2532a688c",
   "metadata": {},
   "outputs": [],
   "source": [
    "rtwa_df['movie_title'] = rtwa_df['movie_title'].str.strip()"
   ]
  },
  {
   "cell_type": "code",
   "execution_count": 283,
   "id": "3a261c90-d1db-4923-a961-ded581898ea3",
   "metadata": {},
   "outputs": [],
   "source": [
    "rtwa_df['movie_title'] = rtwa_df['movie_title'].str.replace(' (2018)','')"
   ]
  },
  {
   "cell_type": "code",
   "execution_count": 284,
   "id": "915b069b-9661-4868-857a-39f33c847752",
   "metadata": {
    "scrolled": true
   },
   "outputs": [
    {
     "data": {
      "text/html": [
       "<div>\n",
       "<style scoped>\n",
       "    .dataframe tbody tr th:only-of-type {\n",
       "        vertical-align: middle;\n",
       "    }\n",
       "\n",
       "    .dataframe tbody tr th {\n",
       "        vertical-align: top;\n",
       "    }\n",
       "\n",
       "    .dataframe thead th {\n",
       "        text-align: right;\n",
       "    }\n",
       "</style>\n",
       "<table border=\"1\" class=\"dataframe\">\n",
       "  <thead>\n",
       "    <tr style=\"text-align: right;\">\n",
       "      <th></th>\n",
       "      <th>movie_title</th>\n",
       "      <th>critic_rating</th>\n",
       "      <th>audience_rating</th>\n",
       "    </tr>\n",
       "  </thead>\n",
       "  <tbody>\n",
       "    <tr>\n",
       "      <th>0</th>\n",
       "      <td>Bottle Rocket</td>\n",
       "      <td>86%</td>\n",
       "      <td>79%</td>\n",
       "    </tr>\n",
       "    <tr>\n",
       "      <th>1</th>\n",
       "      <td>Rushmore</td>\n",
       "      <td>90%</td>\n",
       "      <td>91%</td>\n",
       "    </tr>\n",
       "    <tr>\n",
       "      <th>2</th>\n",
       "      <td>The Royal Tenenbaums</td>\n",
       "      <td>81%</td>\n",
       "      <td>89%</td>\n",
       "    </tr>\n",
       "    <tr>\n",
       "      <th>3</th>\n",
       "      <td>The Life Aquatic With Steve Zissou</td>\n",
       "      <td>57%</td>\n",
       "      <td>82%</td>\n",
       "    </tr>\n",
       "    <tr>\n",
       "      <th>4</th>\n",
       "      <td>The Darjeeling Limited</td>\n",
       "      <td>69%</td>\n",
       "      <td>78%</td>\n",
       "    </tr>\n",
       "    <tr>\n",
       "      <th>5</th>\n",
       "      <td>Fantastic Mr. Fox</td>\n",
       "      <td>93%</td>\n",
       "      <td>85%</td>\n",
       "    </tr>\n",
       "    <tr>\n",
       "      <th>6</th>\n",
       "      <td>Moonrise Kingdom</td>\n",
       "      <td>93%</td>\n",
       "      <td>86%</td>\n",
       "    </tr>\n",
       "    <tr>\n",
       "      <th>7</th>\n",
       "      <td>The Grand Budapest Hotel</td>\n",
       "      <td>92%</td>\n",
       "      <td>86%</td>\n",
       "    </tr>\n",
       "    <tr>\n",
       "      <th>8</th>\n",
       "      <td>Isle of Dogs</td>\n",
       "      <td>90%</td>\n",
       "      <td>87%</td>\n",
       "    </tr>\n",
       "    <tr>\n",
       "      <th>9</th>\n",
       "      <td>The French Dispatch</td>\n",
       "      <td>75%</td>\n",
       "      <td>76%</td>\n",
       "    </tr>\n",
       "    <tr>\n",
       "      <th>10</th>\n",
       "      <td>Asteroid City</td>\n",
       "      <td>76%</td>\n",
       "      <td>62%</td>\n",
       "    </tr>\n",
       "  </tbody>\n",
       "</table>\n",
       "</div>"
      ],
      "text/plain": [
       "                           movie_title critic_rating audience_rating\n",
       "0                        Bottle Rocket           86%             79%\n",
       "1                             Rushmore           90%             91%\n",
       "2                 The Royal Tenenbaums           81%             89%\n",
       "3   The Life Aquatic With Steve Zissou           57%             82%\n",
       "4               The Darjeeling Limited           69%             78%\n",
       "5                    Fantastic Mr. Fox           93%             85%\n",
       "6                     Moonrise Kingdom           93%             86%\n",
       "7             The Grand Budapest Hotel           92%             86%\n",
       "8                         Isle of Dogs           90%             87%\n",
       "9                  The French Dispatch           75%             76%\n",
       "10                       Asteroid City           76%             62%"
      ]
     },
     "execution_count": 284,
     "metadata": {},
     "output_type": "execute_result"
    }
   ],
   "source": [
    "rtwa_df"
   ]
  },
  {
   "cell_type": "code",
   "execution_count": 285,
   "id": "dbbc20c3-e589-4369-8466-aeb754afddbd",
   "metadata": {},
   "outputs": [],
   "source": [
    "wes_df = pd.merge(timdb, rtwa_df, left_on='title', right_on='movie_title', how='inner')"
   ]
  },
  {
   "cell_type": "code",
   "execution_count": 286,
   "id": "b5580470-122a-4ccd-aad3-f46e5ce964f2",
   "metadata": {},
   "outputs": [],
   "source": [
    "wes_df = wes_df.drop(columns = 'movie_title')"
   ]
  },
  {
   "cell_type": "code",
   "execution_count": 287,
   "id": "ca401c94-fe2b-4fe5-8b6a-d092bbce3a9b",
   "metadata": {},
   "outputs": [],
   "source": [
    "wes_df = wes_df.rename(columns = {'title':'Film','rating_x':'TMDb_rating','content_rating':'MPAA_rating','year':'Release_Year','rating_y':'IMDb_rating',\n",
    "              'critic_rating':'RT_critic_score','audience_rating':'RT_audience_score'})"
   ]
  },
  {
   "cell_type": "code",
   "execution_count": 288,
   "id": "d8f76cc6-2a1c-4887-b0ea-c9850ca9761b",
   "metadata": {},
   "outputs": [
    {
     "data": {
      "text/html": [
       "<div>\n",
       "<style scoped>\n",
       "    .dataframe tbody tr th:only-of-type {\n",
       "        vertical-align: middle;\n",
       "    }\n",
       "\n",
       "    .dataframe tbody tr th {\n",
       "        vertical-align: top;\n",
       "    }\n",
       "\n",
       "    .dataframe thead th {\n",
       "        text-align: right;\n",
       "    }\n",
       "</style>\n",
       "<table border=\"1\" class=\"dataframe\">\n",
       "  <thead>\n",
       "    <tr style=\"text-align: right;\">\n",
       "      <th></th>\n",
       "      <th>Film</th>\n",
       "      <th>TMDb_rating</th>\n",
       "      <th>MPAA_rating</th>\n",
       "      <th>actor1</th>\n",
       "      <th>actor2</th>\n",
       "      <th>actor3</th>\n",
       "      <th>actor4</th>\n",
       "      <th>actor5</th>\n",
       "      <th>Release_Year</th>\n",
       "      <th>IMDb_rating</th>\n",
       "      <th>RT_critic_score</th>\n",
       "      <th>RT_audience_score</th>\n",
       "    </tr>\n",
       "  </thead>\n",
       "  <tbody>\n",
       "    <tr>\n",
       "      <th>0</th>\n",
       "      <td>The Life Aquatic With Steve Zissou</td>\n",
       "      <td>7.081</td>\n",
       "      <td>12</td>\n",
       "      <td>Bill Murray</td>\n",
       "      <td>Owen Wilson</td>\n",
       "      <td>Cate Blanchett</td>\n",
       "      <td>Anjelica Huston</td>\n",
       "      <td>Willem Dafoe</td>\n",
       "      <td>2004</td>\n",
       "      <td>7.2</td>\n",
       "      <td>57%</td>\n",
       "      <td>82%</td>\n",
       "    </tr>\n",
       "    <tr>\n",
       "      <th>1</th>\n",
       "      <td>Fantastic Mr. Fox</td>\n",
       "      <td>7.805</td>\n",
       "      <td>6</td>\n",
       "      <td>George Clooney</td>\n",
       "      <td>Meryl Streep</td>\n",
       "      <td>Jason Schwartzman</td>\n",
       "      <td>Wallace Wolodarsky</td>\n",
       "      <td>Eric Chase Anderson</td>\n",
       "      <td>2009</td>\n",
       "      <td>7.9</td>\n",
       "      <td>93%</td>\n",
       "      <td>85%</td>\n",
       "    </tr>\n",
       "    <tr>\n",
       "      <th>2</th>\n",
       "      <td>The Royal Tenenbaums</td>\n",
       "      <td>7.468</td>\n",
       "      <td>12</td>\n",
       "      <td>Gene Hackman</td>\n",
       "      <td>Anjelica Huston</td>\n",
       "      <td>Ben Stiller</td>\n",
       "      <td>Gwyneth Paltrow</td>\n",
       "      <td>Luke Wilson</td>\n",
       "      <td>2001</td>\n",
       "      <td>7.6</td>\n",
       "      <td>81%</td>\n",
       "      <td>89%</td>\n",
       "    </tr>\n",
       "    <tr>\n",
       "      <th>3</th>\n",
       "      <td>The Royal Tenenbaums</td>\n",
       "      <td>7.468</td>\n",
       "      <td>12</td>\n",
       "      <td>Gene Hackman</td>\n",
       "      <td>Anjelica Huston</td>\n",
       "      <td>Ben Stiller</td>\n",
       "      <td>Gwyneth Paltrow</td>\n",
       "      <td>Luke Wilson</td>\n",
       "      <td>2001</td>\n",
       "      <td>7.6</td>\n",
       "      <td>81%</td>\n",
       "      <td>89%</td>\n",
       "    </tr>\n",
       "    <tr>\n",
       "      <th>4</th>\n",
       "      <td>Bottle Rocket</td>\n",
       "      <td>6.700</td>\n",
       "      <td>M</td>\n",
       "      <td>Luke Wilson</td>\n",
       "      <td>Owen Wilson</td>\n",
       "      <td>Robert Musgrave</td>\n",
       "      <td>Lumi Cavazos</td>\n",
       "      <td>James Caan</td>\n",
       "      <td>1996</td>\n",
       "      <td>6.9</td>\n",
       "      <td>86%</td>\n",
       "      <td>79%</td>\n",
       "    </tr>\n",
       "    <tr>\n",
       "      <th>5</th>\n",
       "      <td>Moonrise Kingdom</td>\n",
       "      <td>7.685</td>\n",
       "      <td></td>\n",
       "      <td>Jared Gilman</td>\n",
       "      <td>Kara Hayward</td>\n",
       "      <td>Bruce Willis</td>\n",
       "      <td>Edward Norton</td>\n",
       "      <td>Bill Murray</td>\n",
       "      <td>2012</td>\n",
       "      <td>7.8</td>\n",
       "      <td>93%</td>\n",
       "      <td>86%</td>\n",
       "    </tr>\n",
       "    <tr>\n",
       "      <th>6</th>\n",
       "      <td>Bottle Rocket</td>\n",
       "      <td>6.200</td>\n",
       "      <td></td>\n",
       "      <td>Owen Wilson</td>\n",
       "      <td>Luke Wilson</td>\n",
       "      <td>Robert Musgrave</td>\n",
       "      <td>Elissa Sommerfield</td>\n",
       "      <td>Isiah Ellis</td>\n",
       "      <td>1996</td>\n",
       "      <td>6.9</td>\n",
       "      <td>86%</td>\n",
       "      <td>79%</td>\n",
       "    </tr>\n",
       "    <tr>\n",
       "      <th>7</th>\n",
       "      <td>The Grand Budapest Hotel</td>\n",
       "      <td>8.042</td>\n",
       "      <td>12</td>\n",
       "      <td>Ralph Fiennes</td>\n",
       "      <td>F. Murray Abraham</td>\n",
       "      <td>Mathieu Amalric</td>\n",
       "      <td>Adrien Brody</td>\n",
       "      <td>Willem Dafoe</td>\n",
       "      <td>2014</td>\n",
       "      <td>8.1</td>\n",
       "      <td>92%</td>\n",
       "      <td>86%</td>\n",
       "    </tr>\n",
       "    <tr>\n",
       "      <th>8</th>\n",
       "      <td>Isle of Dogs</td>\n",
       "      <td>7.850</td>\n",
       "      <td>6</td>\n",
       "      <td>Bryan Cranston</td>\n",
       "      <td>Koyu Rankin</td>\n",
       "      <td>Bob Balaban</td>\n",
       "      <td>Edward Norton</td>\n",
       "      <td>Bill Murray</td>\n",
       "      <td>2018</td>\n",
       "      <td>7.8</td>\n",
       "      <td>90%</td>\n",
       "      <td>87%</td>\n",
       "    </tr>\n",
       "    <tr>\n",
       "      <th>9</th>\n",
       "      <td>Rushmore</td>\n",
       "      <td>7.398</td>\n",
       "      <td>6</td>\n",
       "      <td>Jason Schwartzman</td>\n",
       "      <td>Bill Murray</td>\n",
       "      <td>Olivia Williams</td>\n",
       "      <td>Seymour Cassel</td>\n",
       "      <td>Brian Cox</td>\n",
       "      <td>1998</td>\n",
       "      <td>7.6</td>\n",
       "      <td>90%</td>\n",
       "      <td>91%</td>\n",
       "    </tr>\n",
       "    <tr>\n",
       "      <th>10</th>\n",
       "      <td>The Darjeeling Limited</td>\n",
       "      <td>7.161</td>\n",
       "      <td>6</td>\n",
       "      <td>Owen Wilson</td>\n",
       "      <td>Adrien Brody</td>\n",
       "      <td>Jason Schwartzman</td>\n",
       "      <td>Amara Karan</td>\n",
       "      <td>Wallace Wolodarsky</td>\n",
       "      <td>2007</td>\n",
       "      <td>7.2</td>\n",
       "      <td>69%</td>\n",
       "      <td>78%</td>\n",
       "    </tr>\n",
       "    <tr>\n",
       "      <th>11</th>\n",
       "      <td>The French Dispatch</td>\n",
       "      <td>7.000</td>\n",
       "      <td></td>\n",
       "      <td>Benicio del Toro</td>\n",
       "      <td>Adrien Brody</td>\n",
       "      <td>Tilda Swinton</td>\n",
       "      <td>Léa Seydoux</td>\n",
       "      <td>Frances McDormand</td>\n",
       "      <td>2021</td>\n",
       "      <td>7.1</td>\n",
       "      <td>75%</td>\n",
       "      <td>76%</td>\n",
       "    </tr>\n",
       "    <tr>\n",
       "      <th>12</th>\n",
       "      <td>Asteroid City</td>\n",
       "      <td>6.463</td>\n",
       "      <td></td>\n",
       "      <td>Jason Schwartzman</td>\n",
       "      <td>Scarlett Johansson</td>\n",
       "      <td>Tom Hanks</td>\n",
       "      <td>Jeffrey Wright</td>\n",
       "      <td>Tilda Swinton</td>\n",
       "      <td>2023</td>\n",
       "      <td>6.4</td>\n",
       "      <td>76%</td>\n",
       "      <td>62%</td>\n",
       "    </tr>\n",
       "  </tbody>\n",
       "</table>\n",
       "</div>"
      ],
      "text/plain": [
       "                                  Film  TMDb_rating MPAA_rating  \\\n",
       "0   The Life Aquatic With Steve Zissou        7.081          12   \n",
       "1                    Fantastic Mr. Fox        7.805           6   \n",
       "2                 The Royal Tenenbaums        7.468          12   \n",
       "3                 The Royal Tenenbaums        7.468          12   \n",
       "4                        Bottle Rocket        6.700           M   \n",
       "5                     Moonrise Kingdom        7.685               \n",
       "6                        Bottle Rocket        6.200               \n",
       "7             The Grand Budapest Hotel        8.042          12   \n",
       "8                         Isle of Dogs        7.850           6   \n",
       "9                             Rushmore        7.398           6   \n",
       "10              The Darjeeling Limited        7.161           6   \n",
       "11                 The French Dispatch        7.000               \n",
       "12                       Asteroid City        6.463               \n",
       "\n",
       "               actor1              actor2             actor3  \\\n",
       "0         Bill Murray         Owen Wilson     Cate Blanchett   \n",
       "1      George Clooney        Meryl Streep  Jason Schwartzman   \n",
       "2        Gene Hackman     Anjelica Huston        Ben Stiller   \n",
       "3        Gene Hackman     Anjelica Huston        Ben Stiller   \n",
       "4         Luke Wilson         Owen Wilson    Robert Musgrave   \n",
       "5        Jared Gilman        Kara Hayward       Bruce Willis   \n",
       "6         Owen Wilson         Luke Wilson    Robert Musgrave   \n",
       "7       Ralph Fiennes   F. Murray Abraham    Mathieu Amalric   \n",
       "8      Bryan Cranston         Koyu Rankin        Bob Balaban   \n",
       "9   Jason Schwartzman         Bill Murray    Olivia Williams   \n",
       "10        Owen Wilson        Adrien Brody  Jason Schwartzman   \n",
       "11   Benicio del Toro        Adrien Brody      Tilda Swinton   \n",
       "12  Jason Schwartzman  Scarlett Johansson          Tom Hanks   \n",
       "\n",
       "                actor4               actor5  Release_Year  IMDb_rating  \\\n",
       "0      Anjelica Huston         Willem Dafoe          2004          7.2   \n",
       "1   Wallace Wolodarsky  Eric Chase Anderson          2009          7.9   \n",
       "2      Gwyneth Paltrow          Luke Wilson          2001          7.6   \n",
       "3      Gwyneth Paltrow          Luke Wilson          2001          7.6   \n",
       "4         Lumi Cavazos           James Caan          1996          6.9   \n",
       "5        Edward Norton          Bill Murray          2012          7.8   \n",
       "6   Elissa Sommerfield          Isiah Ellis          1996          6.9   \n",
       "7         Adrien Brody         Willem Dafoe          2014          8.1   \n",
       "8        Edward Norton          Bill Murray          2018          7.8   \n",
       "9       Seymour Cassel            Brian Cox          1998          7.6   \n",
       "10         Amara Karan   Wallace Wolodarsky          2007          7.2   \n",
       "11         Léa Seydoux    Frances McDormand          2021          7.1   \n",
       "12      Jeffrey Wright        Tilda Swinton          2023          6.4   \n",
       "\n",
       "   RT_critic_score RT_audience_score  \n",
       "0              57%               82%  \n",
       "1              93%               85%  \n",
       "2              81%               89%  \n",
       "3              81%               89%  \n",
       "4              86%               79%  \n",
       "5              93%               86%  \n",
       "6              86%               79%  \n",
       "7              92%               86%  \n",
       "8              90%               87%  \n",
       "9              90%               91%  \n",
       "10             69%               78%  \n",
       "11             75%               76%  \n",
       "12             76%               62%  "
      ]
     },
     "execution_count": 288,
     "metadata": {},
     "output_type": "execute_result"
    }
   ],
   "source": [
    "wes_df"
   ]
  },
  {
   "cell_type": "code",
   "execution_count": 289,
   "id": "4ff5a965-2b56-431d-a834-f17c350625c0",
   "metadata": {},
   "outputs": [],
   "source": [
    "wes_df = wes_df.drop(index=2)"
   ]
  },
  {
   "cell_type": "code",
   "execution_count": 290,
   "id": "67238fa2-c737-4f35-9e63-680452d72eba",
   "metadata": {},
   "outputs": [],
   "source": [
    "wes_df = wes_df.drop(index=4)"
   ]
  },
  {
   "cell_type": "code",
   "execution_count": 291,
   "id": "da7daa79-7dd3-469b-8401-708028d6239f",
   "metadata": {},
   "outputs": [],
   "source": [
    "wes_df = wes_df.reset_index()"
   ]
  },
  {
   "cell_type": "code",
   "execution_count": 292,
   "id": "6c91410b-6016-47b4-9e33-aa529a717332",
   "metadata": {},
   "outputs": [],
   "source": [
    "wes_df = wes_df.drop(columns='index')"
   ]
  },
  {
   "cell_type": "code",
   "execution_count": 293,
   "id": "b233693a-c225-43e6-a49c-326cf275e02b",
   "metadata": {},
   "outputs": [
    {
     "data": {
      "text/html": [
       "<div>\n",
       "<style scoped>\n",
       "    .dataframe tbody tr th:only-of-type {\n",
       "        vertical-align: middle;\n",
       "    }\n",
       "\n",
       "    .dataframe tbody tr th {\n",
       "        vertical-align: top;\n",
       "    }\n",
       "\n",
       "    .dataframe thead th {\n",
       "        text-align: right;\n",
       "    }\n",
       "</style>\n",
       "<table border=\"1\" class=\"dataframe\">\n",
       "  <thead>\n",
       "    <tr style=\"text-align: right;\">\n",
       "      <th></th>\n",
       "      <th>Film</th>\n",
       "      <th>TMDb_rating</th>\n",
       "      <th>MPAA_rating</th>\n",
       "      <th>actor1</th>\n",
       "      <th>actor2</th>\n",
       "      <th>actor3</th>\n",
       "      <th>actor4</th>\n",
       "      <th>actor5</th>\n",
       "      <th>Release_Year</th>\n",
       "      <th>IMDb_rating</th>\n",
       "      <th>RT_critic_score</th>\n",
       "      <th>RT_audience_score</th>\n",
       "    </tr>\n",
       "  </thead>\n",
       "  <tbody>\n",
       "    <tr>\n",
       "      <th>0</th>\n",
       "      <td>The Life Aquatic With Steve Zissou</td>\n",
       "      <td>7.081</td>\n",
       "      <td>12</td>\n",
       "      <td>Bill Murray</td>\n",
       "      <td>Owen Wilson</td>\n",
       "      <td>Cate Blanchett</td>\n",
       "      <td>Anjelica Huston</td>\n",
       "      <td>Willem Dafoe</td>\n",
       "      <td>2004</td>\n",
       "      <td>7.2</td>\n",
       "      <td>57%</td>\n",
       "      <td>82%</td>\n",
       "    </tr>\n",
       "    <tr>\n",
       "      <th>1</th>\n",
       "      <td>Fantastic Mr. Fox</td>\n",
       "      <td>7.805</td>\n",
       "      <td>6</td>\n",
       "      <td>George Clooney</td>\n",
       "      <td>Meryl Streep</td>\n",
       "      <td>Jason Schwartzman</td>\n",
       "      <td>Wallace Wolodarsky</td>\n",
       "      <td>Eric Chase Anderson</td>\n",
       "      <td>2009</td>\n",
       "      <td>7.9</td>\n",
       "      <td>93%</td>\n",
       "      <td>85%</td>\n",
       "    </tr>\n",
       "    <tr>\n",
       "      <th>2</th>\n",
       "      <td>The Royal Tenenbaums</td>\n",
       "      <td>7.468</td>\n",
       "      <td>12</td>\n",
       "      <td>Gene Hackman</td>\n",
       "      <td>Anjelica Huston</td>\n",
       "      <td>Ben Stiller</td>\n",
       "      <td>Gwyneth Paltrow</td>\n",
       "      <td>Luke Wilson</td>\n",
       "      <td>2001</td>\n",
       "      <td>7.6</td>\n",
       "      <td>81%</td>\n",
       "      <td>89%</td>\n",
       "    </tr>\n",
       "    <tr>\n",
       "      <th>3</th>\n",
       "      <td>Moonrise Kingdom</td>\n",
       "      <td>7.685</td>\n",
       "      <td></td>\n",
       "      <td>Jared Gilman</td>\n",
       "      <td>Kara Hayward</td>\n",
       "      <td>Bruce Willis</td>\n",
       "      <td>Edward Norton</td>\n",
       "      <td>Bill Murray</td>\n",
       "      <td>2012</td>\n",
       "      <td>7.8</td>\n",
       "      <td>93%</td>\n",
       "      <td>86%</td>\n",
       "    </tr>\n",
       "    <tr>\n",
       "      <th>4</th>\n",
       "      <td>Bottle Rocket</td>\n",
       "      <td>6.200</td>\n",
       "      <td></td>\n",
       "      <td>Owen Wilson</td>\n",
       "      <td>Luke Wilson</td>\n",
       "      <td>Robert Musgrave</td>\n",
       "      <td>Elissa Sommerfield</td>\n",
       "      <td>Isiah Ellis</td>\n",
       "      <td>1996</td>\n",
       "      <td>6.9</td>\n",
       "      <td>86%</td>\n",
       "      <td>79%</td>\n",
       "    </tr>\n",
       "    <tr>\n",
       "      <th>5</th>\n",
       "      <td>The Grand Budapest Hotel</td>\n",
       "      <td>8.042</td>\n",
       "      <td>12</td>\n",
       "      <td>Ralph Fiennes</td>\n",
       "      <td>F. Murray Abraham</td>\n",
       "      <td>Mathieu Amalric</td>\n",
       "      <td>Adrien Brody</td>\n",
       "      <td>Willem Dafoe</td>\n",
       "      <td>2014</td>\n",
       "      <td>8.1</td>\n",
       "      <td>92%</td>\n",
       "      <td>86%</td>\n",
       "    </tr>\n",
       "    <tr>\n",
       "      <th>6</th>\n",
       "      <td>Isle of Dogs</td>\n",
       "      <td>7.850</td>\n",
       "      <td>6</td>\n",
       "      <td>Bryan Cranston</td>\n",
       "      <td>Koyu Rankin</td>\n",
       "      <td>Bob Balaban</td>\n",
       "      <td>Edward Norton</td>\n",
       "      <td>Bill Murray</td>\n",
       "      <td>2018</td>\n",
       "      <td>7.8</td>\n",
       "      <td>90%</td>\n",
       "      <td>87%</td>\n",
       "    </tr>\n",
       "    <tr>\n",
       "      <th>7</th>\n",
       "      <td>Rushmore</td>\n",
       "      <td>7.398</td>\n",
       "      <td>6</td>\n",
       "      <td>Jason Schwartzman</td>\n",
       "      <td>Bill Murray</td>\n",
       "      <td>Olivia Williams</td>\n",
       "      <td>Seymour Cassel</td>\n",
       "      <td>Brian Cox</td>\n",
       "      <td>1998</td>\n",
       "      <td>7.6</td>\n",
       "      <td>90%</td>\n",
       "      <td>91%</td>\n",
       "    </tr>\n",
       "    <tr>\n",
       "      <th>8</th>\n",
       "      <td>The Darjeeling Limited</td>\n",
       "      <td>7.161</td>\n",
       "      <td>6</td>\n",
       "      <td>Owen Wilson</td>\n",
       "      <td>Adrien Brody</td>\n",
       "      <td>Jason Schwartzman</td>\n",
       "      <td>Amara Karan</td>\n",
       "      <td>Wallace Wolodarsky</td>\n",
       "      <td>2007</td>\n",
       "      <td>7.2</td>\n",
       "      <td>69%</td>\n",
       "      <td>78%</td>\n",
       "    </tr>\n",
       "    <tr>\n",
       "      <th>9</th>\n",
       "      <td>The French Dispatch</td>\n",
       "      <td>7.000</td>\n",
       "      <td></td>\n",
       "      <td>Benicio del Toro</td>\n",
       "      <td>Adrien Brody</td>\n",
       "      <td>Tilda Swinton</td>\n",
       "      <td>Léa Seydoux</td>\n",
       "      <td>Frances McDormand</td>\n",
       "      <td>2021</td>\n",
       "      <td>7.1</td>\n",
       "      <td>75%</td>\n",
       "      <td>76%</td>\n",
       "    </tr>\n",
       "    <tr>\n",
       "      <th>10</th>\n",
       "      <td>Asteroid City</td>\n",
       "      <td>6.463</td>\n",
       "      <td></td>\n",
       "      <td>Jason Schwartzman</td>\n",
       "      <td>Scarlett Johansson</td>\n",
       "      <td>Tom Hanks</td>\n",
       "      <td>Jeffrey Wright</td>\n",
       "      <td>Tilda Swinton</td>\n",
       "      <td>2023</td>\n",
       "      <td>6.4</td>\n",
       "      <td>76%</td>\n",
       "      <td>62%</td>\n",
       "    </tr>\n",
       "  </tbody>\n",
       "</table>\n",
       "</div>"
      ],
      "text/plain": [
       "                                  Film  TMDb_rating MPAA_rating  \\\n",
       "0   The Life Aquatic With Steve Zissou        7.081          12   \n",
       "1                    Fantastic Mr. Fox        7.805           6   \n",
       "2                 The Royal Tenenbaums        7.468          12   \n",
       "3                     Moonrise Kingdom        7.685               \n",
       "4                        Bottle Rocket        6.200               \n",
       "5             The Grand Budapest Hotel        8.042          12   \n",
       "6                         Isle of Dogs        7.850           6   \n",
       "7                             Rushmore        7.398           6   \n",
       "8               The Darjeeling Limited        7.161           6   \n",
       "9                  The French Dispatch        7.000               \n",
       "10                       Asteroid City        6.463               \n",
       "\n",
       "               actor1              actor2             actor3  \\\n",
       "0         Bill Murray         Owen Wilson     Cate Blanchett   \n",
       "1      George Clooney        Meryl Streep  Jason Schwartzman   \n",
       "2        Gene Hackman     Anjelica Huston        Ben Stiller   \n",
       "3        Jared Gilman        Kara Hayward       Bruce Willis   \n",
       "4         Owen Wilson         Luke Wilson    Robert Musgrave   \n",
       "5       Ralph Fiennes   F. Murray Abraham    Mathieu Amalric   \n",
       "6      Bryan Cranston         Koyu Rankin        Bob Balaban   \n",
       "7   Jason Schwartzman         Bill Murray    Olivia Williams   \n",
       "8         Owen Wilson        Adrien Brody  Jason Schwartzman   \n",
       "9    Benicio del Toro        Adrien Brody      Tilda Swinton   \n",
       "10  Jason Schwartzman  Scarlett Johansson          Tom Hanks   \n",
       "\n",
       "                actor4               actor5  Release_Year  IMDb_rating  \\\n",
       "0      Anjelica Huston         Willem Dafoe          2004          7.2   \n",
       "1   Wallace Wolodarsky  Eric Chase Anderson          2009          7.9   \n",
       "2      Gwyneth Paltrow          Luke Wilson          2001          7.6   \n",
       "3        Edward Norton          Bill Murray          2012          7.8   \n",
       "4   Elissa Sommerfield          Isiah Ellis          1996          6.9   \n",
       "5         Adrien Brody         Willem Dafoe          2014          8.1   \n",
       "6        Edward Norton          Bill Murray          2018          7.8   \n",
       "7       Seymour Cassel            Brian Cox          1998          7.6   \n",
       "8          Amara Karan   Wallace Wolodarsky          2007          7.2   \n",
       "9          Léa Seydoux    Frances McDormand          2021          7.1   \n",
       "10      Jeffrey Wright        Tilda Swinton          2023          6.4   \n",
       "\n",
       "   RT_critic_score RT_audience_score  \n",
       "0              57%               82%  \n",
       "1              93%               85%  \n",
       "2              81%               89%  \n",
       "3              93%               86%  \n",
       "4              86%               79%  \n",
       "5              92%               86%  \n",
       "6              90%               87%  \n",
       "7              90%               91%  \n",
       "8              69%               78%  \n",
       "9              75%               76%  \n",
       "10             76%               62%  "
      ]
     },
     "execution_count": 293,
     "metadata": {},
     "output_type": "execute_result"
    }
   ],
   "source": [
    "wes_df"
   ]
  },
  {
   "cell_type": "code",
   "execution_count": 294,
   "id": "37fccb0d-70c7-4106-bda6-f10283490a65",
   "metadata": {},
   "outputs": [],
   "source": [
    "wes_df.loc[0,'MPAA_rating'] = 'R'\n",
    "wes_df.loc[1, 'MPAA_rating'] = 'PG'\n",
    "wes_df.loc[2, 'MPAA_rating'] = 'R'\n",
    "wes_df.loc[3, 'MPAA_rating'] = 'PG-13'\n",
    "wes_df.loc[4, 'MPAA_rating'] = 'R'\n",
    "wes_df.loc[5, 'MPAA_rating'] = 'R'\n",
    "wes_df.loc[6, 'MPAA_rating'] = 'PG-13'\n",
    "wes_df.loc[7, 'MPAA_rating'] = 'R'\n",
    "wes_df.loc[8, 'MPAA_rating'] = 'R'\n",
    "wes_df.loc[9, 'MPAA_rating'] = 'R'\n",
    "wes_df.loc[10, 'MPAA_rating'] = 'PG-13'"
   ]
  },
  {
   "cell_type": "code",
   "execution_count": 295,
   "id": "02f59ef9-e83a-4647-9b21-cc8c3d17a57c",
   "metadata": {},
   "outputs": [
    {
     "data": {
      "text/html": [
       "<div>\n",
       "<style scoped>\n",
       "    .dataframe tbody tr th:only-of-type {\n",
       "        vertical-align: middle;\n",
       "    }\n",
       "\n",
       "    .dataframe tbody tr th {\n",
       "        vertical-align: top;\n",
       "    }\n",
       "\n",
       "    .dataframe thead th {\n",
       "        text-align: right;\n",
       "    }\n",
       "</style>\n",
       "<table border=\"1\" class=\"dataframe\">\n",
       "  <thead>\n",
       "    <tr style=\"text-align: right;\">\n",
       "      <th></th>\n",
       "      <th>Film</th>\n",
       "      <th>TMDb_rating</th>\n",
       "      <th>MPAA_rating</th>\n",
       "      <th>actor1</th>\n",
       "      <th>actor2</th>\n",
       "      <th>actor3</th>\n",
       "      <th>actor4</th>\n",
       "      <th>actor5</th>\n",
       "      <th>Release_Year</th>\n",
       "      <th>IMDb_rating</th>\n",
       "      <th>RT_critic_score</th>\n",
       "      <th>RT_audience_score</th>\n",
       "    </tr>\n",
       "  </thead>\n",
       "  <tbody>\n",
       "    <tr>\n",
       "      <th>0</th>\n",
       "      <td>The Life Aquatic With Steve Zissou</td>\n",
       "      <td>7.081</td>\n",
       "      <td>R</td>\n",
       "      <td>Bill Murray</td>\n",
       "      <td>Owen Wilson</td>\n",
       "      <td>Cate Blanchett</td>\n",
       "      <td>Anjelica Huston</td>\n",
       "      <td>Willem Dafoe</td>\n",
       "      <td>2004</td>\n",
       "      <td>7.2</td>\n",
       "      <td>57%</td>\n",
       "      <td>82%</td>\n",
       "    </tr>\n",
       "    <tr>\n",
       "      <th>1</th>\n",
       "      <td>Fantastic Mr. Fox</td>\n",
       "      <td>7.805</td>\n",
       "      <td>PG</td>\n",
       "      <td>George Clooney</td>\n",
       "      <td>Meryl Streep</td>\n",
       "      <td>Jason Schwartzman</td>\n",
       "      <td>Wallace Wolodarsky</td>\n",
       "      <td>Eric Chase Anderson</td>\n",
       "      <td>2009</td>\n",
       "      <td>7.9</td>\n",
       "      <td>93%</td>\n",
       "      <td>85%</td>\n",
       "    </tr>\n",
       "    <tr>\n",
       "      <th>2</th>\n",
       "      <td>The Royal Tenenbaums</td>\n",
       "      <td>7.468</td>\n",
       "      <td>R</td>\n",
       "      <td>Gene Hackman</td>\n",
       "      <td>Anjelica Huston</td>\n",
       "      <td>Ben Stiller</td>\n",
       "      <td>Gwyneth Paltrow</td>\n",
       "      <td>Luke Wilson</td>\n",
       "      <td>2001</td>\n",
       "      <td>7.6</td>\n",
       "      <td>81%</td>\n",
       "      <td>89%</td>\n",
       "    </tr>\n",
       "    <tr>\n",
       "      <th>3</th>\n",
       "      <td>Moonrise Kingdom</td>\n",
       "      <td>7.685</td>\n",
       "      <td>PG-13</td>\n",
       "      <td>Jared Gilman</td>\n",
       "      <td>Kara Hayward</td>\n",
       "      <td>Bruce Willis</td>\n",
       "      <td>Edward Norton</td>\n",
       "      <td>Bill Murray</td>\n",
       "      <td>2012</td>\n",
       "      <td>7.8</td>\n",
       "      <td>93%</td>\n",
       "      <td>86%</td>\n",
       "    </tr>\n",
       "    <tr>\n",
       "      <th>4</th>\n",
       "      <td>Bottle Rocket</td>\n",
       "      <td>6.200</td>\n",
       "      <td>R</td>\n",
       "      <td>Owen Wilson</td>\n",
       "      <td>Luke Wilson</td>\n",
       "      <td>Robert Musgrave</td>\n",
       "      <td>Elissa Sommerfield</td>\n",
       "      <td>Isiah Ellis</td>\n",
       "      <td>1996</td>\n",
       "      <td>6.9</td>\n",
       "      <td>86%</td>\n",
       "      <td>79%</td>\n",
       "    </tr>\n",
       "    <tr>\n",
       "      <th>5</th>\n",
       "      <td>The Grand Budapest Hotel</td>\n",
       "      <td>8.042</td>\n",
       "      <td>R</td>\n",
       "      <td>Ralph Fiennes</td>\n",
       "      <td>F. Murray Abraham</td>\n",
       "      <td>Mathieu Amalric</td>\n",
       "      <td>Adrien Brody</td>\n",
       "      <td>Willem Dafoe</td>\n",
       "      <td>2014</td>\n",
       "      <td>8.1</td>\n",
       "      <td>92%</td>\n",
       "      <td>86%</td>\n",
       "    </tr>\n",
       "    <tr>\n",
       "      <th>6</th>\n",
       "      <td>Isle of Dogs</td>\n",
       "      <td>7.850</td>\n",
       "      <td>PG-13</td>\n",
       "      <td>Bryan Cranston</td>\n",
       "      <td>Koyu Rankin</td>\n",
       "      <td>Bob Balaban</td>\n",
       "      <td>Edward Norton</td>\n",
       "      <td>Bill Murray</td>\n",
       "      <td>2018</td>\n",
       "      <td>7.8</td>\n",
       "      <td>90%</td>\n",
       "      <td>87%</td>\n",
       "    </tr>\n",
       "    <tr>\n",
       "      <th>7</th>\n",
       "      <td>Rushmore</td>\n",
       "      <td>7.398</td>\n",
       "      <td>R</td>\n",
       "      <td>Jason Schwartzman</td>\n",
       "      <td>Bill Murray</td>\n",
       "      <td>Olivia Williams</td>\n",
       "      <td>Seymour Cassel</td>\n",
       "      <td>Brian Cox</td>\n",
       "      <td>1998</td>\n",
       "      <td>7.6</td>\n",
       "      <td>90%</td>\n",
       "      <td>91%</td>\n",
       "    </tr>\n",
       "    <tr>\n",
       "      <th>8</th>\n",
       "      <td>The Darjeeling Limited</td>\n",
       "      <td>7.161</td>\n",
       "      <td>R</td>\n",
       "      <td>Owen Wilson</td>\n",
       "      <td>Adrien Brody</td>\n",
       "      <td>Jason Schwartzman</td>\n",
       "      <td>Amara Karan</td>\n",
       "      <td>Wallace Wolodarsky</td>\n",
       "      <td>2007</td>\n",
       "      <td>7.2</td>\n",
       "      <td>69%</td>\n",
       "      <td>78%</td>\n",
       "    </tr>\n",
       "    <tr>\n",
       "      <th>9</th>\n",
       "      <td>The French Dispatch</td>\n",
       "      <td>7.000</td>\n",
       "      <td>R</td>\n",
       "      <td>Benicio del Toro</td>\n",
       "      <td>Adrien Brody</td>\n",
       "      <td>Tilda Swinton</td>\n",
       "      <td>Léa Seydoux</td>\n",
       "      <td>Frances McDormand</td>\n",
       "      <td>2021</td>\n",
       "      <td>7.1</td>\n",
       "      <td>75%</td>\n",
       "      <td>76%</td>\n",
       "    </tr>\n",
       "    <tr>\n",
       "      <th>10</th>\n",
       "      <td>Asteroid City</td>\n",
       "      <td>6.463</td>\n",
       "      <td>PG-13</td>\n",
       "      <td>Jason Schwartzman</td>\n",
       "      <td>Scarlett Johansson</td>\n",
       "      <td>Tom Hanks</td>\n",
       "      <td>Jeffrey Wright</td>\n",
       "      <td>Tilda Swinton</td>\n",
       "      <td>2023</td>\n",
       "      <td>6.4</td>\n",
       "      <td>76%</td>\n",
       "      <td>62%</td>\n",
       "    </tr>\n",
       "  </tbody>\n",
       "</table>\n",
       "</div>"
      ],
      "text/plain": [
       "                                  Film  TMDb_rating MPAA_rating  \\\n",
       "0   The Life Aquatic With Steve Zissou        7.081           R   \n",
       "1                    Fantastic Mr. Fox        7.805          PG   \n",
       "2                 The Royal Tenenbaums        7.468           R   \n",
       "3                     Moonrise Kingdom        7.685       PG-13   \n",
       "4                        Bottle Rocket        6.200           R   \n",
       "5             The Grand Budapest Hotel        8.042           R   \n",
       "6                         Isle of Dogs        7.850       PG-13   \n",
       "7                             Rushmore        7.398           R   \n",
       "8               The Darjeeling Limited        7.161           R   \n",
       "9                  The French Dispatch        7.000           R   \n",
       "10                       Asteroid City        6.463       PG-13   \n",
       "\n",
       "               actor1              actor2             actor3  \\\n",
       "0         Bill Murray         Owen Wilson     Cate Blanchett   \n",
       "1      George Clooney        Meryl Streep  Jason Schwartzman   \n",
       "2        Gene Hackman     Anjelica Huston        Ben Stiller   \n",
       "3        Jared Gilman        Kara Hayward       Bruce Willis   \n",
       "4         Owen Wilson         Luke Wilson    Robert Musgrave   \n",
       "5       Ralph Fiennes   F. Murray Abraham    Mathieu Amalric   \n",
       "6      Bryan Cranston         Koyu Rankin        Bob Balaban   \n",
       "7   Jason Schwartzman         Bill Murray    Olivia Williams   \n",
       "8         Owen Wilson        Adrien Brody  Jason Schwartzman   \n",
       "9    Benicio del Toro        Adrien Brody      Tilda Swinton   \n",
       "10  Jason Schwartzman  Scarlett Johansson          Tom Hanks   \n",
       "\n",
       "                actor4               actor5  Release_Year  IMDb_rating  \\\n",
       "0      Anjelica Huston         Willem Dafoe          2004          7.2   \n",
       "1   Wallace Wolodarsky  Eric Chase Anderson          2009          7.9   \n",
       "2      Gwyneth Paltrow          Luke Wilson          2001          7.6   \n",
       "3        Edward Norton          Bill Murray          2012          7.8   \n",
       "4   Elissa Sommerfield          Isiah Ellis          1996          6.9   \n",
       "5         Adrien Brody         Willem Dafoe          2014          8.1   \n",
       "6        Edward Norton          Bill Murray          2018          7.8   \n",
       "7       Seymour Cassel            Brian Cox          1998          7.6   \n",
       "8          Amara Karan   Wallace Wolodarsky          2007          7.2   \n",
       "9          Léa Seydoux    Frances McDormand          2021          7.1   \n",
       "10      Jeffrey Wright        Tilda Swinton          2023          6.4   \n",
       "\n",
       "   RT_critic_score RT_audience_score  \n",
       "0              57%               82%  \n",
       "1              93%               85%  \n",
       "2              81%               89%  \n",
       "3              93%               86%  \n",
       "4              86%               79%  \n",
       "5              92%               86%  \n",
       "6              90%               87%  \n",
       "7              90%               91%  \n",
       "8              69%               78%  \n",
       "9              75%               76%  \n",
       "10             76%               62%  "
      ]
     },
     "execution_count": 295,
     "metadata": {},
     "output_type": "execute_result"
    }
   ],
   "source": [
    "wes_df"
   ]
  },
  {
   "cell_type": "code",
   "execution_count": 296,
   "id": "1005f4aa-913d-4790-9752-5e51ffde7cec",
   "metadata": {},
   "outputs": [],
   "source": [
    "url = 'https://www.rottentomatoes.com/m/bottle_rocket'\n",
    "\n",
    "response = requests.get(url)"
   ]
  },
  {
   "cell_type": "code",
   "execution_count": 297,
   "id": "1dfb4a42-5a74-4168-8857-f72c802df36d",
   "metadata": {},
   "outputs": [],
   "source": [
    "br_bs = BS(response.text)"
   ]
  },
  {
   "cell_type": "code",
   "execution_count": 298,
   "id": "7c77a654-8919-4149-8219-b107c08d9e26",
   "metadata": {},
   "outputs": [],
   "source": [
    "br_title = br_bs.find('title').text"
   ]
  },
  {
   "cell_type": "code",
   "execution_count": 299,
   "id": "7b024b20-3a58-4285-acb8-9c397343ec4b",
   "metadata": {},
   "outputs": [],
   "source": [
    "box_office_elem = br_bs.findAll(\"rt-text\", {\"data-qa\": \"item-value\"})[7]\n",
    "if box_office_elem:\n",
    "    box_office = box_office_elem.text.strip()"
   ]
  },
  {
   "cell_type": "code",
   "execution_count": 300,
   "id": "60395d61-81cf-4633-9c3d-ba3223e80c1e",
   "metadata": {},
   "outputs": [],
   "source": [
    "br_bo = box_office"
   ]
  },
  {
   "cell_type": "code",
   "execution_count": 301,
   "id": "eb3fec94-bc57-4571-ba58-d8aa12df8d48",
   "metadata": {},
   "outputs": [],
   "source": [
    "br_dict = []\n",
    "\n",
    "br_dict.append({\n",
    "    'movie_title':br_title,\n",
    "    'box_office':br_bo})"
   ]
  },
  {
   "cell_type": "code",
   "execution_count": 302,
   "id": "9e5a011b-1fbe-4137-8c2c-8690ac09700e",
   "metadata": {},
   "outputs": [],
   "source": [
    "br_box_office = br_dict[0]"
   ]
  },
  {
   "cell_type": "code",
   "execution_count": 303,
   "id": "3615b3fb-0109-4822-9213-e4646af58712",
   "metadata": {},
   "outputs": [],
   "source": [
    "box_office_elem = rm_bs.findAll(\"rt-text\", {\"data-qa\": \"item-value\"})[7]\n",
    "if box_office_elem:\n",
    "    box_office = box_office_elem.text.strip()"
   ]
  },
  {
   "cell_type": "code",
   "execution_count": 304,
   "id": "392993e6-1676-4e75-ace7-b11d79699f77",
   "metadata": {},
   "outputs": [],
   "source": [
    "rm_bo = box_office"
   ]
  },
  {
   "cell_type": "code",
   "execution_count": 305,
   "id": "6f949fd7-a08d-4be6-93f9-681e1fb94f09",
   "metadata": {},
   "outputs": [],
   "source": [
    "rm_dict = []\n",
    "\n",
    "rm_dict.append({\n",
    "    'movie_title':rm_title,\n",
    "    'box_office':rm_bo})"
   ]
  },
  {
   "cell_type": "code",
   "execution_count": 306,
   "id": "2d2a8595-ad49-403a-a5dd-ca6d86fc2b04",
   "metadata": {},
   "outputs": [],
   "source": [
    "rm_box_office = rm_dict[0]"
   ]
  },
  {
   "cell_type": "code",
   "execution_count": 307,
   "id": "a5d10f40-8bb1-4e15-8be2-5acf5a2c8caa",
   "metadata": {},
   "outputs": [
    {
     "data": {
      "text/plain": [
       "<rt-text data-qa=\"item-value\">$52.4M</rt-text>"
      ]
     },
     "execution_count": 307,
     "metadata": {},
     "output_type": "execute_result"
    }
   ],
   "source": [
    "trt_bs.findAll(\"rt-text\", {\"data-qa\": \"item-value\"})[10]"
   ]
  },
  {
   "cell_type": "code",
   "execution_count": 308,
   "id": "2d501c45-9923-4a36-9841-27e9c9a76a93",
   "metadata": {},
   "outputs": [],
   "source": [
    "box_office_elem = trt_bs.findAll(\"rt-text\", {\"data-qa\": \"item-value\"})[10]\n",
    "if box_office_elem:\n",
    "    box_office = box_office_elem.text.strip()"
   ]
  },
  {
   "cell_type": "code",
   "execution_count": 309,
   "id": "ac0d2d7f-2ee4-4035-a045-6a0f57f8cae6",
   "metadata": {},
   "outputs": [],
   "source": [
    "trt_bo = box_office"
   ]
  },
  {
   "cell_type": "code",
   "execution_count": 310,
   "id": "939a284c-b9ca-43c1-9ab3-6eab6b238498",
   "metadata": {},
   "outputs": [],
   "source": [
    "trt_dict = []\n",
    "\n",
    "trt_dict.append({\n",
    "    'movie_title':trt_title,\n",
    "    'box_office':trt_bo})"
   ]
  },
  {
   "cell_type": "code",
   "execution_count": 311,
   "id": "ce4f36ae-b5eb-45fd-9fb5-bac38804084c",
   "metadata": {},
   "outputs": [],
   "source": [
    "trt_box_office = trt_dict[0]"
   ]
  },
  {
   "cell_type": "code",
   "execution_count": 312,
   "id": "636db8ba-ad54-4f12-bf7a-0dc37d0a0e44",
   "metadata": {},
   "outputs": [],
   "source": [
    "box_office_elem = la_bs.findAll(\"rt-text\", {\"data-qa\": \"item-value\"})[7]\n",
    "if box_office_elem:\n",
    "    box_office = box_office_elem.text.strip()"
   ]
  },
  {
   "cell_type": "code",
   "execution_count": 313,
   "id": "fcd75749-3724-4d87-abac-880dadcddecf",
   "metadata": {},
   "outputs": [],
   "source": [
    "la_bo = box_office"
   ]
  },
  {
   "cell_type": "code",
   "execution_count": 314,
   "id": "ba590dc6-54df-41f2-be50-a9dee1f0c542",
   "metadata": {},
   "outputs": [],
   "source": [
    "la_dict = []\n",
    "\n",
    "la_dict.append({\n",
    "    'movie_title':la_title,\n",
    "    'box_office':la_bo})"
   ]
  },
  {
   "cell_type": "code",
   "execution_count": 315,
   "id": "ed2f024b-868a-4f4a-ad34-978de32be99d",
   "metadata": {},
   "outputs": [],
   "source": [
    "la_box_office = la_dict[0]"
   ]
  },
  {
   "cell_type": "code",
   "execution_count": 316,
   "id": "468e895a-d285-43c5-831b-1baff1d81622",
   "metadata": {},
   "outputs": [],
   "source": [
    "box_office_elem = dl_bs.findAll(\"rt-text\", {\"data-qa\": \"item-value\"})[9]\n",
    "if box_office_elem:\n",
    "    box_office = box_office_elem.text.strip()"
   ]
  },
  {
   "cell_type": "code",
   "execution_count": 317,
   "id": "1803db05-b31d-445f-9c6c-f89554173114",
   "metadata": {},
   "outputs": [],
   "source": [
    "dl_bo = box_office"
   ]
  },
  {
   "cell_type": "code",
   "execution_count": 318,
   "id": "2e667f32-596c-4fd5-aa3a-f4873f221f16",
   "metadata": {},
   "outputs": [],
   "source": [
    "dl_dict = []\n",
    "\n",
    "dl_dict.append({\n",
    "    'movie_title':dl_title,\n",
    "    'box_office':dl_bo})"
   ]
  },
  {
   "cell_type": "code",
   "execution_count": 319,
   "id": "667b2873-6e3e-4aa5-9c66-84a20213db06",
   "metadata": {},
   "outputs": [],
   "source": [
    "dl_box_office = dl_dict[0]"
   ]
  },
  {
   "cell_type": "code",
   "execution_count": 320,
   "id": "d8a270c6-cb21-43cb-9fcd-a057c5acb282",
   "metadata": {},
   "outputs": [],
   "source": [
    "box_office_elem = fmf_bs.findAll(\"rt-text\", {\"data-qa\": \"item-value\"})[6]\n",
    "if box_office_elem:\n",
    "    box_office = box_office_elem.text.strip()"
   ]
  },
  {
   "cell_type": "code",
   "execution_count": 321,
   "id": "fdf09a65-5784-4a8f-b0bf-e53050105259",
   "metadata": {},
   "outputs": [],
   "source": [
    "fmf_bo = box_office"
   ]
  },
  {
   "cell_type": "code",
   "execution_count": 322,
   "id": "dbecb897-fc13-458e-9c0e-9aba91bedf29",
   "metadata": {},
   "outputs": [],
   "source": [
    "fmf_dict = []\n",
    "\n",
    "fmf_dict.append({\n",
    "    'movie_title':fmf_title,\n",
    "    'box_office':fmf_bo})"
   ]
  },
  {
   "cell_type": "code",
   "execution_count": 323,
   "id": "397360d7-5c16-43d9-879e-c115f19e0be6",
   "metadata": {},
   "outputs": [],
   "source": [
    "fmf_box_office = fmf_dict[0]"
   ]
  },
  {
   "cell_type": "code",
   "execution_count": 324,
   "id": "a5d4fb60-0802-4c14-8b6c-3528f1b0a0f6",
   "metadata": {},
   "outputs": [],
   "source": [
    "box_office_elem = mk_bs.findAll(\"rt-text\", {\"data-qa\": \"item-value\"})[7]\n",
    "if box_office_elem:\n",
    "    box_office = box_office_elem.text.strip()"
   ]
  },
  {
   "cell_type": "code",
   "execution_count": 325,
   "id": "ddc175c0-7c42-47d8-99ca-99413e8f08ec",
   "metadata": {},
   "outputs": [],
   "source": [
    "mk_bo = box_office"
   ]
  },
  {
   "cell_type": "code",
   "execution_count": 326,
   "id": "bb7184fe-a6d7-41a4-bbd5-c0a67c8a4090",
   "metadata": {},
   "outputs": [],
   "source": [
    "mk_dict = []\n",
    "\n",
    "mk_dict.append({\n",
    "    'movie_title':mk_title,\n",
    "    'box_office': mk_bo})"
   ]
  },
  {
   "cell_type": "code",
   "execution_count": 327,
   "id": "3fae75b2-6164-421c-8fdb-3a446c9deb4f",
   "metadata": {},
   "outputs": [],
   "source": [
    "mk_box_office = mk_dict[0]"
   ]
  },
  {
   "cell_type": "code",
   "execution_count": 328,
   "id": "bcc5676f-9f14-4898-a6bd-271c7a7cff9c",
   "metadata": {},
   "outputs": [],
   "source": [
    "box_office_elem = tgbh_bs.findAll(\"rt-text\", {\"data-qa\": \"item-value\"})[7]\n",
    "if box_office_elem:\n",
    "    box_office = box_office_elem.text.strip()"
   ]
  },
  {
   "cell_type": "code",
   "execution_count": 329,
   "id": "916cccde-76b8-49ac-af4b-e164ef007b3c",
   "metadata": {},
   "outputs": [],
   "source": [
    "tgbh_bo = box_office"
   ]
  },
  {
   "cell_type": "code",
   "execution_count": 330,
   "id": "c1447d75-ea96-461f-89f7-5594cbc8d1f2",
   "metadata": {},
   "outputs": [],
   "source": [
    "tgbh_dict = []\n",
    "\n",
    "tgbh_dict.append({\n",
    "    'movie_title':tgbh_title,\n",
    "    'box_office': tgbh_bo})"
   ]
  },
  {
   "cell_type": "code",
   "execution_count": 331,
   "id": "8ef52a38-58e3-4ee0-92e8-fe228cc3ed77",
   "metadata": {},
   "outputs": [],
   "source": [
    "tgbh_box_office = tgbh_dict[0]"
   ]
  },
  {
   "cell_type": "code",
   "execution_count": 332,
   "id": "0a37ab03-ab82-49ed-96d9-5b687505c8b2",
   "metadata": {},
   "outputs": [],
   "source": [
    "box_office_elem = iod_bs.findAll(\"rt-text\", {\"data-qa\": \"item-value\"})[7]\n",
    "if box_office_elem:\n",
    "    box_office = box_office_elem.text.strip()"
   ]
  },
  {
   "cell_type": "code",
   "execution_count": 333,
   "id": "34f60e32-39ae-478a-b3cc-fc575888e1ee",
   "metadata": {},
   "outputs": [],
   "source": [
    "iod_bo = box_office"
   ]
  },
  {
   "cell_type": "code",
   "execution_count": 334,
   "id": "10c5a402-7d4a-4bd1-abf4-7b9433d9954c",
   "metadata": {},
   "outputs": [],
   "source": [
    "iod_dict = []\n",
    "\n",
    "iod_dict.append({\n",
    "    'movie_title':iod_title,\n",
    "    'box_office': iod_bo})"
   ]
  },
  {
   "cell_type": "code",
   "execution_count": 335,
   "id": "f036daf0-1fad-4155-b243-b100d23e06a5",
   "metadata": {},
   "outputs": [],
   "source": [
    "iod_box_office = iod_dict[0]"
   ]
  },
  {
   "cell_type": "code",
   "execution_count": 336,
   "id": "19aa9330-8961-444b-bdeb-819c1950486a",
   "metadata": {},
   "outputs": [],
   "source": [
    "box_office_elem = tfd_bs.findAll(\"rt-text\", {\"data-qa\": \"item-value\"})[8]\n",
    "if box_office_elem:\n",
    "    box_office = box_office_elem.text.strip()"
   ]
  },
  {
   "cell_type": "code",
   "execution_count": 337,
   "id": "afe456b2-dd0d-4891-8fad-be02f47a0933",
   "metadata": {},
   "outputs": [],
   "source": [
    "tfd_bo = box_office"
   ]
  },
  {
   "cell_type": "code",
   "execution_count": 338,
   "id": "99c916a2-5ac7-4a36-90e5-b5229aa03de2",
   "metadata": {},
   "outputs": [],
   "source": [
    "tfd_dict = []\n",
    "\n",
    "tfd_dict.append({\n",
    "    'movie_title':tfd_title,\n",
    "    'box_office': tfd_bo})"
   ]
  },
  {
   "cell_type": "code",
   "execution_count": 339,
   "id": "3c33e0ec-0e5a-4e83-9a9f-782ffdd9df26",
   "metadata": {},
   "outputs": [],
   "source": [
    "tfd_box_office = tfd_dict[0]"
   ]
  },
  {
   "cell_type": "code",
   "execution_count": 340,
   "id": "9945b8be-a182-4632-bbb6-2d271d87e733",
   "metadata": {},
   "outputs": [],
   "source": [
    "box_office_elem = ac_bs.findAll(\"rt-text\", {\"data-qa\": \"item-value\"})[9]\n",
    "if box_office_elem:\n",
    "    box_office = box_office_elem.text.strip()"
   ]
  },
  {
   "cell_type": "code",
   "execution_count": 341,
   "id": "55504019-06c1-42a1-8501-62cd3f4b0bad",
   "metadata": {},
   "outputs": [],
   "source": [
    "ac_bo = box_office"
   ]
  },
  {
   "cell_type": "code",
   "execution_count": 342,
   "id": "235bf837-1e32-4ce4-83d1-7cf1e72b5d04",
   "metadata": {},
   "outputs": [],
   "source": [
    "ac_dict = []\n",
    "\n",
    "ac_dict.append({\n",
    "    'movie_title':ac_title,\n",
    "    'box_office': ac_bo})"
   ]
  },
  {
   "cell_type": "code",
   "execution_count": 343,
   "id": "f3e03ee9-6971-44b7-b1ed-838337b6f9c4",
   "metadata": {},
   "outputs": [],
   "source": [
    "ac_box_office = ac_dict[0]"
   ]
  },
  {
   "cell_type": "code",
   "execution_count": 344,
   "id": "4609cd7c-55fd-4080-854d-f87d6ee3b570",
   "metadata": {},
   "outputs": [],
   "source": [
    "bo1_list = [br_box_office, rm_box_office, trt_box_office, la_box_office, dl_box_office, fmf_box_office, mk_box_office, tgbh_box_office,\n",
    "            iod_box_office, tfd_box_office, ac_box_office]"
   ]
  },
  {
   "cell_type": "code",
   "execution_count": 345,
   "id": "c1d2025a-c735-478f-9cbd-206cd977f2a5",
   "metadata": {},
   "outputs": [],
   "source": [
    "wes_bo = pd.DataFrame(bo1_list)"
   ]
  },
  {
   "cell_type": "code",
   "execution_count": 346,
   "id": "c064145a-82aa-4441-849f-cb9e318b34df",
   "metadata": {},
   "outputs": [],
   "source": [
    "wes_bo['movie_title'] = wes_bo['movie_title'].str.replace(' (2018)','')"
   ]
  },
  {
   "cell_type": "code",
   "execution_count": 347,
   "id": "138eb7b0-53f0-459e-ab5f-deefcfb47e08",
   "metadata": {},
   "outputs": [],
   "source": [
    "wes_bo['movie_title'] = wes_bo['movie_title'].str.replace(' | Rotten Tomatoes','')"
   ]
  },
  {
   "cell_type": "code",
   "execution_count": 348,
   "id": "eba361d4-e74b-488f-9b22-4e9c78608532",
   "metadata": {},
   "outputs": [],
   "source": [
    "wes_df = pd.merge(wes_df, wes_bo, left_on='Film', right_on='movie_title', how='inner')"
   ]
  },
  {
   "cell_type": "code",
   "execution_count": 349,
   "id": "b67ee32f-1c3f-4d43-9f97-9bdacbf9a5a1",
   "metadata": {},
   "outputs": [],
   "source": [
    "wes_df = wes_df.drop(columns = 'movie_title')"
   ]
  },
  {
   "cell_type": "code",
   "execution_count": 350,
   "id": "f5e6979a-dd68-41ef-896d-0d5e4c8475b9",
   "metadata": {},
   "outputs": [],
   "source": [
    "wes_df.to_csv('wes_anderson.csv')"
   ]
  },
  {
   "cell_type": "code",
   "execution_count": 351,
   "id": "db94309c-e3b2-4683-b1e0-0f72226282f4",
   "metadata": {},
   "outputs": [],
   "source": [
    "box_office_elem = rt_hard_eight.findAll(\"rt-text\", {\"data-qa\": \"item-value\"})[7]\n",
    "if box_office_elem:\n",
    "    box_office = box_office_elem.text.strip()"
   ]
  },
  {
   "cell_type": "code",
   "execution_count": 352,
   "id": "8c583f51-c535-490c-8d85-d04f4a80d913",
   "metadata": {},
   "outputs": [],
   "source": [
    "he_bo = box_office"
   ]
  },
  {
   "cell_type": "code",
   "execution_count": 353,
   "id": "6ea49ef6-edba-4249-9090-912427116638",
   "metadata": {},
   "outputs": [],
   "source": [
    "he_dict = []\n",
    "\n",
    "he_dict.append({\n",
    "    'movie_title': he_title,\n",
    "    'box_office': he_bo})"
   ]
  },
  {
   "cell_type": "code",
   "execution_count": 354,
   "id": "d1a2675d-84e4-47d5-a4a3-88a41411a8df",
   "metadata": {},
   "outputs": [],
   "source": [
    "he_box_office = he_dict[0]"
   ]
  },
  {
   "cell_type": "code",
   "execution_count": 355,
   "id": "e71a2d20-b71e-4d25-a0ae-d753c7d840dc",
   "metadata": {},
   "outputs": [],
   "source": [
    "box_office_elem = bg_soup.findAll(\"rt-text\", {\"data-qa\": \"item-value\"})[8]\n",
    "if box_office_elem:\n",
    "    box_office = box_office_elem.text.strip()"
   ]
  },
  {
   "cell_type": "code",
   "execution_count": 356,
   "id": "4a3f35ea-f306-45bf-b33b-b8bd118b1acc",
   "metadata": {},
   "outputs": [],
   "source": [
    "bg_bo = box_office"
   ]
  },
  {
   "cell_type": "code",
   "execution_count": 357,
   "id": "97e6e914-46df-4ca8-81a8-a137f2f071a8",
   "metadata": {},
   "outputs": [],
   "source": [
    "bg_dict = []\n",
    "\n",
    "bg_dict.append({\n",
    "    'movie_title': bg_title,\n",
    "    'box_office': bg_bo})"
   ]
  },
  {
   "cell_type": "code",
   "execution_count": 358,
   "id": "8c005b5b-59a7-497a-a8f2-43b855dde10c",
   "metadata": {},
   "outputs": [],
   "source": [
    "bn_box_office = bg_dict[0]"
   ]
  },
  {
   "cell_type": "code",
   "execution_count": 359,
   "id": "fdc8de70-69a1-4e1c-8213-02a0f831966b",
   "metadata": {},
   "outputs": [],
   "source": [
    "box_office_elem = mag_bs.findAll(\"rt-text\", {\"data-qa\": \"item-value\"})[8]\n",
    "if box_office_elem:\n",
    "    box_office = box_office_elem.text.strip()"
   ]
  },
  {
   "cell_type": "code",
   "execution_count": 360,
   "id": "d34c9d0c-277e-4553-be33-bc47540291aa",
   "metadata": {},
   "outputs": [],
   "source": [
    "mag_bo = box_office"
   ]
  },
  {
   "cell_type": "code",
   "execution_count": 361,
   "id": "baeb1af7-5648-49ba-bbba-ddbbc874dee0",
   "metadata": {},
   "outputs": [],
   "source": [
    "mag_dict = []\n",
    "\n",
    "mag_dict.append({\n",
    "    'movie_title': mag_title,\n",
    "    'box_office': mag_bo})"
   ]
  },
  {
   "cell_type": "code",
   "execution_count": 362,
   "id": "2eb1e33a-f855-40cb-8cbd-98ea61c8b922",
   "metadata": {},
   "outputs": [],
   "source": [
    "mag_box_office = mag_dict[0]"
   ]
  },
  {
   "cell_type": "code",
   "execution_count": 363,
   "id": "6bb3a266-16b6-486e-96dd-78492538a4f6",
   "metadata": {},
   "outputs": [],
   "source": [
    "box_office_elem = pdl_bs.findAll(\"rt-text\", {\"data-qa\": \"item-value\"})[7]\n",
    "if box_office_elem:\n",
    "    box_office = box_office_elem.text.strip()"
   ]
  },
  {
   "cell_type": "code",
   "execution_count": 364,
   "id": "7a5c515c-928d-4125-9580-f2ab304587a0",
   "metadata": {},
   "outputs": [],
   "source": [
    "pdl_bo = box_office"
   ]
  },
  {
   "cell_type": "code",
   "execution_count": 365,
   "id": "6f98fdb5-686e-417b-8f1a-57ca870f47ff",
   "metadata": {},
   "outputs": [],
   "source": [
    "pdl_dict = []\n",
    "\n",
    "pdl_dict.append({\n",
    "    'movie_title': pdl_title,\n",
    "    'box_office': pdl_bo})"
   ]
  },
  {
   "cell_type": "code",
   "execution_count": 366,
   "id": "cc52ad59-3c49-4105-b2f9-c48f416e2a5b",
   "metadata": {},
   "outputs": [],
   "source": [
    "pdl_box_office = pdl_dict[0]"
   ]
  },
  {
   "cell_type": "code",
   "execution_count": 367,
   "id": "dfccf46e-8c4e-4a50-8446-871cbe8a61b1",
   "metadata": {},
   "outputs": [],
   "source": [
    "box_office_elem = twbb_bs.findAll(\"rt-text\", {\"data-qa\": \"item-value\"})[9]\n",
    "if box_office_elem:\n",
    "    box_office = box_office_elem.text.strip()"
   ]
  },
  {
   "cell_type": "code",
   "execution_count": 368,
   "id": "c10df63e-de7d-4c82-86cb-ac25cff63dac",
   "metadata": {},
   "outputs": [],
   "source": [
    "twbb_bo = box_office"
   ]
  },
  {
   "cell_type": "code",
   "execution_count": 369,
   "id": "edf44218-991a-4f09-928b-da06b8372f8b",
   "metadata": {},
   "outputs": [],
   "source": [
    "twbb_dict = []\n",
    "\n",
    "twbb_dict.append({\n",
    "    'movie_title': twbb_title,\n",
    "    'box_office': twbb_bo})"
   ]
  },
  {
   "cell_type": "code",
   "execution_count": 370,
   "id": "a18f8964-03d1-4ebb-83f0-2bc277394529",
   "metadata": {},
   "outputs": [],
   "source": [
    "twbb_box_office = twbb_dict[0]"
   ]
  },
  {
   "cell_type": "code",
   "execution_count": 371,
   "id": "e53bd954-ffd6-474e-bfb0-2b304dd3d5f9",
   "metadata": {},
   "outputs": [],
   "source": [
    "box_office_elem = tm_bs.findAll(\"rt-text\", {\"data-qa\": \"item-value\"})[8]\n",
    "if box_office_elem:\n",
    "    box_office = box_office_elem.text.strip()"
   ]
  },
  {
   "cell_type": "code",
   "execution_count": 372,
   "id": "d50bd6d4-273d-4adb-8ee9-20e38e1886f8",
   "metadata": {},
   "outputs": [],
   "source": [
    "tm_bo = box_office"
   ]
  },
  {
   "cell_type": "code",
   "execution_count": 373,
   "id": "d157f435-3d2d-45e4-9e4f-cdb198910459",
   "metadata": {},
   "outputs": [],
   "source": [
    "tm_dict = []\n",
    "\n",
    "tm_dict.append({\n",
    "    'movie_title': tm_title,\n",
    "    'box_office': tm_bo})"
   ]
  },
  {
   "cell_type": "code",
   "execution_count": 374,
   "id": "c04c019b-d560-4b6e-aa16-35aa28d60bb2",
   "metadata": {},
   "outputs": [],
   "source": [
    "tm_box_office = tm_dict[0]"
   ]
  },
  {
   "cell_type": "code",
   "execution_count": 375,
   "id": "0f732ba2-555f-47b3-ad2d-9ddf7b614e67",
   "metadata": {},
   "outputs": [],
   "source": [
    "box_office_elem = ihv_bs.findAll(\"rt-text\", {\"data-qa\": \"item-value\"})[7]\n",
    "if box_office_elem:\n",
    "    box_office = box_office_elem.text.strip()"
   ]
  },
  {
   "cell_type": "code",
   "execution_count": 376,
   "id": "24771245-f052-48f4-9350-f806178d85bf",
   "metadata": {},
   "outputs": [],
   "source": [
    "ihv_bo = box_office"
   ]
  },
  {
   "cell_type": "code",
   "execution_count": 377,
   "id": "9cedaa13-198b-4045-a117-acaec0b75678",
   "metadata": {},
   "outputs": [],
   "source": [
    "ihv_dict = []\n",
    "\n",
    "ihv_dict.append({\n",
    "    'movie_title': ihv_title,\n",
    "    'box_office': ihv_bo})"
   ]
  },
  {
   "cell_type": "code",
   "execution_count": 378,
   "id": "81a95ddc-473a-43e7-95b6-b22f3bc64a56",
   "metadata": {},
   "outputs": [],
   "source": [
    "ihv_box_office = ihv_dict[0]"
   ]
  },
  {
   "cell_type": "code",
   "execution_count": 379,
   "id": "a756289b-8e3f-4e37-ba61-725bdaf13870",
   "metadata": {},
   "outputs": [],
   "source": [
    "box_office_elem = pt_bs.findAll(\"rt-text\", {\"data-qa\": \"item-value\"})[8]\n",
    "if box_office_elem:\n",
    "    box_office = box_office_elem.text.strip()"
   ]
  },
  {
   "cell_type": "code",
   "execution_count": 380,
   "id": "6a50540c-958e-4f8f-8c0f-7a91e207433d",
   "metadata": {},
   "outputs": [],
   "source": [
    "pt_bo = box_office"
   ]
  },
  {
   "cell_type": "code",
   "execution_count": 381,
   "id": "14d37466-7328-406b-8eb6-86977d37d476",
   "metadata": {},
   "outputs": [],
   "source": [
    "pt_dict = []\n",
    "\n",
    "pt_dict.append({\n",
    "    'movie_title': pt_title,\n",
    "    'box_office': pt_bo})"
   ]
  },
  {
   "cell_type": "code",
   "execution_count": 382,
   "id": "21fe0d8c-0b85-4d49-8436-5c8e77e760ec",
   "metadata": {},
   "outputs": [],
   "source": [
    "pt_box_office = pt_dict[0]"
   ]
  },
  {
   "cell_type": "code",
   "execution_count": 383,
   "id": "f6db262d-d3e5-47c8-a71c-e3f46afa7db5",
   "metadata": {},
   "outputs": [],
   "source": [
    "box_office_elem = lp_bs.findAll(\"rt-text\", {\"data-qa\": \"item-value\"})[5]\n",
    "if box_office_elem:\n",
    "    box_office = box_office_elem.text.strip()"
   ]
  },
  {
   "cell_type": "code",
   "execution_count": 384,
   "id": "bd80ec69-d7a9-472d-bf45-80b9e3e2c3a5",
   "metadata": {},
   "outputs": [],
   "source": [
    "lp_bo = box_office"
   ]
  },
  {
   "cell_type": "code",
   "execution_count": 385,
   "id": "41668d17-db25-46da-8f28-bde1d8ce19ef",
   "metadata": {},
   "outputs": [],
   "source": [
    "lp_dict = []\n",
    "\n",
    "lp_dict.append({\n",
    "    'movie_title': lp_title,\n",
    "    'box_office': lp_bo})"
   ]
  },
  {
   "cell_type": "code",
   "execution_count": 386,
   "id": "48288910-d1b0-457f-bd99-f3121733df4f",
   "metadata": {},
   "outputs": [],
   "source": [
    "lp_box_office = lp_dict[0]"
   ]
  },
  {
   "cell_type": "code",
   "execution_count": 387,
   "id": "cf013a8d-be84-4ab3-8c0c-e29efc8b2f87",
   "metadata": {},
   "outputs": [],
   "source": [
    "bo2_list = [he_box_office, bn_box_office, mag_box_office, pdl_box_office, twbb_box_office, tm_box_office, ihv_box_office, pt_box_office, lp_box_office]"
   ]
  },
  {
   "cell_type": "code",
   "execution_count": 388,
   "id": "0de584f9-4512-4605-b4f9-e82614c66e80",
   "metadata": {},
   "outputs": [],
   "source": [
    "pta_bo = pd.DataFrame(bo2_list)"
   ]
  },
  {
   "cell_type": "code",
   "execution_count": 389,
   "id": "81c79404-c944-409a-821c-89bed3787fb4",
   "metadata": {},
   "outputs": [],
   "source": [
    "pta_bo['movie_title'] = pta_bo['movie_title'].str.replace(' | Rotten Tomatoes','')"
   ]
  },
  {
   "cell_type": "code",
   "execution_count": 390,
   "id": "735dbc66-c926-4e66-81dc-b50b6d588222",
   "metadata": {},
   "outputs": [],
   "source": [
    "pta_df = pd.merge(pta_df, pta_bo, left_on='Film', right_on='movie_title', how='inner')"
   ]
  },
  {
   "cell_type": "code",
   "execution_count": 391,
   "id": "7542e49c-f3c5-4444-b50b-9fc2a9a77153",
   "metadata": {},
   "outputs": [],
   "source": [
    "pta_df = pta_df.drop(columns = 'movie_title')"
   ]
  },
  {
   "cell_type": "code",
   "execution_count": 392,
   "id": "36ba4940-1bd0-4a31-8d52-cf44942031c3",
   "metadata": {},
   "outputs": [],
   "source": [
    "pta_df.to_csv('paul_t_anderson.csv')"
   ]
  },
  {
   "cell_type": "code",
   "execution_count": 393,
   "id": "97ed0968-4e1f-4651-b162-726ddb31620a",
   "metadata": {},
   "outputs": [
    {
     "data": {
      "text/html": [
       "<div>\n",
       "<style scoped>\n",
       "    .dataframe tbody tr th:only-of-type {\n",
       "        vertical-align: middle;\n",
       "    }\n",
       "\n",
       "    .dataframe tbody tr th {\n",
       "        vertical-align: top;\n",
       "    }\n",
       "\n",
       "    .dataframe thead th {\n",
       "        text-align: right;\n",
       "    }\n",
       "</style>\n",
       "<table border=\"1\" class=\"dataframe\">\n",
       "  <thead>\n",
       "    <tr style=\"text-align: right;\">\n",
       "      <th></th>\n",
       "      <th>Film</th>\n",
       "      <th>TMDb_rating</th>\n",
       "      <th>MPAA_rating</th>\n",
       "      <th>Release_Year</th>\n",
       "      <th>IMDb_rating</th>\n",
       "      <th>actor1</th>\n",
       "      <th>actor2</th>\n",
       "      <th>actor3</th>\n",
       "      <th>actor4</th>\n",
       "      <th>actor5</th>\n",
       "      <th>RT_critic_score</th>\n",
       "      <th>RT_audience_score</th>\n",
       "      <th>box_office</th>\n",
       "    </tr>\n",
       "  </thead>\n",
       "  <tbody>\n",
       "    <tr>\n",
       "      <th>0</th>\n",
       "      <td>Magnolia</td>\n",
       "      <td>7.723</td>\n",
       "      <td>R</td>\n",
       "      <td>1999</td>\n",
       "      <td>8.0</td>\n",
       "      <td>Tom Cruise</td>\n",
       "      <td>Philip Baker Hall</td>\n",
       "      <td>Philip Seymour Hoffman</td>\n",
       "      <td>Julianne Moore</td>\n",
       "      <td>William H. Macy</td>\n",
       "      <td>82%</td>\n",
       "      <td>89%</td>\n",
       "      <td>$22.5M</td>\n",
       "    </tr>\n",
       "    <tr>\n",
       "      <th>1</th>\n",
       "      <td>Boogie Nights</td>\n",
       "      <td>7.626</td>\n",
       "      <td>R</td>\n",
       "      <td>1997</td>\n",
       "      <td>7.9</td>\n",
       "      <td>Mark Wahlberg</td>\n",
       "      <td>Burt Reynolds</td>\n",
       "      <td>Julianne Moore</td>\n",
       "      <td>John C. Reilly</td>\n",
       "      <td>Heather Graham</td>\n",
       "      <td>94%</td>\n",
       "      <td>89%</td>\n",
       "      <td>$26.4M</td>\n",
       "    </tr>\n",
       "    <tr>\n",
       "      <th>2</th>\n",
       "      <td>Punch-Drunk Love</td>\n",
       "      <td>7.123</td>\n",
       "      <td>R</td>\n",
       "      <td>2002</td>\n",
       "      <td>7.3</td>\n",
       "      <td>Adam Sandler</td>\n",
       "      <td>Emily Watson</td>\n",
       "      <td>Philip Seymour Hoffman</td>\n",
       "      <td>Luis Guzmán</td>\n",
       "      <td>Mary Lynn Rajskub</td>\n",
       "      <td>79%</td>\n",
       "      <td>77%</td>\n",
       "      <td>$17.8M</td>\n",
       "    </tr>\n",
       "    <tr>\n",
       "      <th>3</th>\n",
       "      <td>Hard Eight</td>\n",
       "      <td>6.877</td>\n",
       "      <td>R</td>\n",
       "      <td>1996</td>\n",
       "      <td>7.1</td>\n",
       "      <td>Philip Baker Hall</td>\n",
       "      <td>John C. Reilly</td>\n",
       "      <td>Gwyneth Paltrow</td>\n",
       "      <td>Samuel L. Jackson</td>\n",
       "      <td>F. William Parker</td>\n",
       "      <td>82%</td>\n",
       "      <td>83%</td>\n",
       "      <td>$215.6K</td>\n",
       "    </tr>\n",
       "    <tr>\n",
       "      <th>4</th>\n",
       "      <td>There Will Be Blood</td>\n",
       "      <td>8.072</td>\n",
       "      <td>R</td>\n",
       "      <td>2007</td>\n",
       "      <td>8.2</td>\n",
       "      <td>Daniel Day-Lewis</td>\n",
       "      <td>Paul Dano</td>\n",
       "      <td>Kevin J. O'Connor</td>\n",
       "      <td>Ciarán Hinds</td>\n",
       "      <td>Dillon Freasier</td>\n",
       "      <td>91%</td>\n",
       "      <td>86%</td>\n",
       "      <td>$40.2M</td>\n",
       "    </tr>\n",
       "    <tr>\n",
       "      <th>5</th>\n",
       "      <td>The Master</td>\n",
       "      <td>7.116</td>\n",
       "      <td>R</td>\n",
       "      <td>2012</td>\n",
       "      <td>7.1</td>\n",
       "      <td>Joaquin Phoenix</td>\n",
       "      <td>Philip Seymour Hoffman</td>\n",
       "      <td>Amy Adams</td>\n",
       "      <td>Rami Malek</td>\n",
       "      <td>Laura Dern</td>\n",
       "      <td>85%</td>\n",
       "      <td>62%</td>\n",
       "      <td>$16.2M</td>\n",
       "    </tr>\n",
       "    <tr>\n",
       "      <th>6</th>\n",
       "      <td>Inherent Vice</td>\n",
       "      <td>6.553</td>\n",
       "      <td>R</td>\n",
       "      <td>2014</td>\n",
       "      <td>6.6</td>\n",
       "      <td>Joaquin Phoenix</td>\n",
       "      <td>Josh Brolin</td>\n",
       "      <td>Owen Wilson</td>\n",
       "      <td>Katherine Waterston</td>\n",
       "      <td>Reese Witherspoon</td>\n",
       "      <td>74%</td>\n",
       "      <td>53%</td>\n",
       "      <td>$8.1M</td>\n",
       "    </tr>\n",
       "    <tr>\n",
       "      <th>7</th>\n",
       "      <td>Phantom Thread</td>\n",
       "      <td>7.315</td>\n",
       "      <td>R</td>\n",
       "      <td>2017</td>\n",
       "      <td>7.4</td>\n",
       "      <td>Daniel Day-Lewis</td>\n",
       "      <td>Vicky Krieps</td>\n",
       "      <td>Lesley Manville</td>\n",
       "      <td>Camilla Rutherford</td>\n",
       "      <td>Gina McKee</td>\n",
       "      <td>91%</td>\n",
       "      <td>71%</td>\n",
       "      <td>$20.9M</td>\n",
       "    </tr>\n",
       "    <tr>\n",
       "      <th>8</th>\n",
       "      <td>Licorice Pizza</td>\n",
       "      <td>6.966</td>\n",
       "      <td>R</td>\n",
       "      <td>2021</td>\n",
       "      <td>7.1</td>\n",
       "      <td>Alana Haim</td>\n",
       "      <td>Cooper Hoffman</td>\n",
       "      <td>Sean Penn</td>\n",
       "      <td>Tom Waits</td>\n",
       "      <td>Bradley Cooper</td>\n",
       "      <td>90%</td>\n",
       "      <td>65%</td>\n",
       "      <td>$17.3M</td>\n",
       "    </tr>\n",
       "  </tbody>\n",
       "</table>\n",
       "</div>"
      ],
      "text/plain": [
       "                  Film  TMDb_rating MPAA_rating  Release_Year  IMDb_rating  \\\n",
       "0             Magnolia        7.723           R          1999          8.0   \n",
       "1        Boogie Nights        7.626           R          1997          7.9   \n",
       "2     Punch-Drunk Love        7.123           R          2002          7.3   \n",
       "3           Hard Eight        6.877           R          1996          7.1   \n",
       "4  There Will Be Blood        8.072           R          2007          8.2   \n",
       "5           The Master        7.116           R          2012          7.1   \n",
       "6        Inherent Vice        6.553           R          2014          6.6   \n",
       "7       Phantom Thread        7.315           R          2017          7.4   \n",
       "8       Licorice Pizza        6.966           R          2021          7.1   \n",
       "\n",
       "              actor1                  actor2                  actor3  \\\n",
       "0         Tom Cruise       Philip Baker Hall  Philip Seymour Hoffman   \n",
       "1      Mark Wahlberg           Burt Reynolds          Julianne Moore   \n",
       "2       Adam Sandler            Emily Watson  Philip Seymour Hoffman   \n",
       "3  Philip Baker Hall          John C. Reilly         Gwyneth Paltrow   \n",
       "4   Daniel Day-Lewis               Paul Dano       Kevin J. O'Connor   \n",
       "5    Joaquin Phoenix  Philip Seymour Hoffman               Amy Adams   \n",
       "6    Joaquin Phoenix             Josh Brolin             Owen Wilson   \n",
       "7   Daniel Day-Lewis            Vicky Krieps         Lesley Manville   \n",
       "8         Alana Haim          Cooper Hoffman               Sean Penn   \n",
       "\n",
       "                actor4             actor5 RT_critic_score RT_audience_score  \\\n",
       "0       Julianne Moore    William H. Macy             82%               89%   \n",
       "1       John C. Reilly     Heather Graham             94%               89%   \n",
       "2          Luis Guzmán  Mary Lynn Rajskub             79%               77%   \n",
       "3    Samuel L. Jackson  F. William Parker             82%               83%   \n",
       "4         Ciarán Hinds    Dillon Freasier             91%               86%   \n",
       "5           Rami Malek         Laura Dern             85%               62%   \n",
       "6  Katherine Waterston  Reese Witherspoon             74%               53%   \n",
       "7   Camilla Rutherford         Gina McKee             91%               71%   \n",
       "8            Tom Waits     Bradley Cooper             90%               65%   \n",
       "\n",
       "  box_office  \n",
       "0     $22.5M  \n",
       "1     $26.4M  \n",
       "2     $17.8M  \n",
       "3    $215.6K  \n",
       "4     $40.2M  \n",
       "5     $16.2M  \n",
       "6      $8.1M  \n",
       "7     $20.9M  \n",
       "8     $17.3M  "
      ]
     },
     "execution_count": 393,
     "metadata": {},
     "output_type": "execute_result"
    }
   ],
   "source": [
    "pta_df"
   ]
  },
  {
   "cell_type": "code",
   "execution_count": 394,
   "id": "263b9b08-acec-4678-b6f4-bc814c8271d8",
   "metadata": {},
   "outputs": [
    {
     "data": {
      "text/html": [
       "<div>\n",
       "<style scoped>\n",
       "    .dataframe tbody tr th:only-of-type {\n",
       "        vertical-align: middle;\n",
       "    }\n",
       "\n",
       "    .dataframe tbody tr th {\n",
       "        vertical-align: top;\n",
       "    }\n",
       "\n",
       "    .dataframe thead th {\n",
       "        text-align: right;\n",
       "    }\n",
       "</style>\n",
       "<table border=\"1\" class=\"dataframe\">\n",
       "  <thead>\n",
       "    <tr style=\"text-align: right;\">\n",
       "      <th></th>\n",
       "      <th>Film</th>\n",
       "      <th>TMDb_rating</th>\n",
       "      <th>MPAA_rating</th>\n",
       "      <th>actor1</th>\n",
       "      <th>actor2</th>\n",
       "      <th>actor3</th>\n",
       "      <th>actor4</th>\n",
       "      <th>actor5</th>\n",
       "      <th>Release_Year</th>\n",
       "      <th>IMDb_rating</th>\n",
       "      <th>RT_critic_score</th>\n",
       "      <th>RT_audience_score</th>\n",
       "      <th>box_office</th>\n",
       "    </tr>\n",
       "  </thead>\n",
       "  <tbody>\n",
       "    <tr>\n",
       "      <th>0</th>\n",
       "      <td>The Life Aquatic With Steve Zissou</td>\n",
       "      <td>7.081</td>\n",
       "      <td>R</td>\n",
       "      <td>Bill Murray</td>\n",
       "      <td>Owen Wilson</td>\n",
       "      <td>Cate Blanchett</td>\n",
       "      <td>Anjelica Huston</td>\n",
       "      <td>Willem Dafoe</td>\n",
       "      <td>2004</td>\n",
       "      <td>7.2</td>\n",
       "      <td>57%</td>\n",
       "      <td>82%</td>\n",
       "      <td>$24.0M</td>\n",
       "    </tr>\n",
       "    <tr>\n",
       "      <th>1</th>\n",
       "      <td>Fantastic Mr. Fox</td>\n",
       "      <td>7.805</td>\n",
       "      <td>PG</td>\n",
       "      <td>George Clooney</td>\n",
       "      <td>Meryl Streep</td>\n",
       "      <td>Jason Schwartzman</td>\n",
       "      <td>Wallace Wolodarsky</td>\n",
       "      <td>Eric Chase Anderson</td>\n",
       "      <td>2009</td>\n",
       "      <td>7.9</td>\n",
       "      <td>93%</td>\n",
       "      <td>85%</td>\n",
       "      <td>$21.0M</td>\n",
       "    </tr>\n",
       "    <tr>\n",
       "      <th>2</th>\n",
       "      <td>The Royal Tenenbaums</td>\n",
       "      <td>7.468</td>\n",
       "      <td>R</td>\n",
       "      <td>Gene Hackman</td>\n",
       "      <td>Anjelica Huston</td>\n",
       "      <td>Ben Stiller</td>\n",
       "      <td>Gwyneth Paltrow</td>\n",
       "      <td>Luke Wilson</td>\n",
       "      <td>2001</td>\n",
       "      <td>7.6</td>\n",
       "      <td>81%</td>\n",
       "      <td>89%</td>\n",
       "      <td>$52.4M</td>\n",
       "    </tr>\n",
       "    <tr>\n",
       "      <th>3</th>\n",
       "      <td>Moonrise Kingdom</td>\n",
       "      <td>7.685</td>\n",
       "      <td>PG-13</td>\n",
       "      <td>Jared Gilman</td>\n",
       "      <td>Kara Hayward</td>\n",
       "      <td>Bruce Willis</td>\n",
       "      <td>Edward Norton</td>\n",
       "      <td>Bill Murray</td>\n",
       "      <td>2012</td>\n",
       "      <td>7.8</td>\n",
       "      <td>93%</td>\n",
       "      <td>86%</td>\n",
       "      <td>$45.5M</td>\n",
       "    </tr>\n",
       "    <tr>\n",
       "      <th>4</th>\n",
       "      <td>Bottle Rocket</td>\n",
       "      <td>6.200</td>\n",
       "      <td>R</td>\n",
       "      <td>Owen Wilson</td>\n",
       "      <td>Luke Wilson</td>\n",
       "      <td>Robert Musgrave</td>\n",
       "      <td>Elissa Sommerfield</td>\n",
       "      <td>Isiah Ellis</td>\n",
       "      <td>1996</td>\n",
       "      <td>6.9</td>\n",
       "      <td>86%</td>\n",
       "      <td>79%</td>\n",
       "      <td>$488.6K</td>\n",
       "    </tr>\n",
       "    <tr>\n",
       "      <th>5</th>\n",
       "      <td>The Grand Budapest Hotel</td>\n",
       "      <td>8.042</td>\n",
       "      <td>R</td>\n",
       "      <td>Ralph Fiennes</td>\n",
       "      <td>F. Murray Abraham</td>\n",
       "      <td>Mathieu Amalric</td>\n",
       "      <td>Adrien Brody</td>\n",
       "      <td>Willem Dafoe</td>\n",
       "      <td>2014</td>\n",
       "      <td>8.1</td>\n",
       "      <td>92%</td>\n",
       "      <td>86%</td>\n",
       "      <td>$59.1M</td>\n",
       "    </tr>\n",
       "    <tr>\n",
       "      <th>6</th>\n",
       "      <td>Isle of Dogs</td>\n",
       "      <td>7.850</td>\n",
       "      <td>PG-13</td>\n",
       "      <td>Bryan Cranston</td>\n",
       "      <td>Koyu Rankin</td>\n",
       "      <td>Bob Balaban</td>\n",
       "      <td>Edward Norton</td>\n",
       "      <td>Bill Murray</td>\n",
       "      <td>2018</td>\n",
       "      <td>7.8</td>\n",
       "      <td>90%</td>\n",
       "      <td>87%</td>\n",
       "      <td>$31.9M</td>\n",
       "    </tr>\n",
       "    <tr>\n",
       "      <th>7</th>\n",
       "      <td>Rushmore</td>\n",
       "      <td>7.398</td>\n",
       "      <td>R</td>\n",
       "      <td>Jason Schwartzman</td>\n",
       "      <td>Bill Murray</td>\n",
       "      <td>Olivia Williams</td>\n",
       "      <td>Seymour Cassel</td>\n",
       "      <td>Brian Cox</td>\n",
       "      <td>1998</td>\n",
       "      <td>7.6</td>\n",
       "      <td>90%</td>\n",
       "      <td>91%</td>\n",
       "      <td>$17.1M</td>\n",
       "    </tr>\n",
       "    <tr>\n",
       "      <th>8</th>\n",
       "      <td>The Darjeeling Limited</td>\n",
       "      <td>7.161</td>\n",
       "      <td>R</td>\n",
       "      <td>Owen Wilson</td>\n",
       "      <td>Adrien Brody</td>\n",
       "      <td>Jason Schwartzman</td>\n",
       "      <td>Amara Karan</td>\n",
       "      <td>Wallace Wolodarsky</td>\n",
       "      <td>2007</td>\n",
       "      <td>7.2</td>\n",
       "      <td>69%</td>\n",
       "      <td>78%</td>\n",
       "      <td>$11.9M</td>\n",
       "    </tr>\n",
       "    <tr>\n",
       "      <th>9</th>\n",
       "      <td>The French Dispatch</td>\n",
       "      <td>7.000</td>\n",
       "      <td>R</td>\n",
       "      <td>Benicio del Toro</td>\n",
       "      <td>Adrien Brody</td>\n",
       "      <td>Tilda Swinton</td>\n",
       "      <td>Léa Seydoux</td>\n",
       "      <td>Frances McDormand</td>\n",
       "      <td>2021</td>\n",
       "      <td>7.1</td>\n",
       "      <td>75%</td>\n",
       "      <td>76%</td>\n",
       "      <td>$16.1M</td>\n",
       "    </tr>\n",
       "    <tr>\n",
       "      <th>10</th>\n",
       "      <td>Asteroid City</td>\n",
       "      <td>6.463</td>\n",
       "      <td>PG-13</td>\n",
       "      <td>Jason Schwartzman</td>\n",
       "      <td>Scarlett Johansson</td>\n",
       "      <td>Tom Hanks</td>\n",
       "      <td>Jeffrey Wright</td>\n",
       "      <td>Tilda Swinton</td>\n",
       "      <td>2023</td>\n",
       "      <td>6.4</td>\n",
       "      <td>76%</td>\n",
       "      <td>62%</td>\n",
       "      <td>$28.1M</td>\n",
       "    </tr>\n",
       "  </tbody>\n",
       "</table>\n",
       "</div>"
      ],
      "text/plain": [
       "                                  Film  TMDb_rating MPAA_rating  \\\n",
       "0   The Life Aquatic With Steve Zissou        7.081           R   \n",
       "1                    Fantastic Mr. Fox        7.805          PG   \n",
       "2                 The Royal Tenenbaums        7.468           R   \n",
       "3                     Moonrise Kingdom        7.685       PG-13   \n",
       "4                        Bottle Rocket        6.200           R   \n",
       "5             The Grand Budapest Hotel        8.042           R   \n",
       "6                         Isle of Dogs        7.850       PG-13   \n",
       "7                             Rushmore        7.398           R   \n",
       "8               The Darjeeling Limited        7.161           R   \n",
       "9                  The French Dispatch        7.000           R   \n",
       "10                       Asteroid City        6.463       PG-13   \n",
       "\n",
       "               actor1              actor2             actor3  \\\n",
       "0         Bill Murray         Owen Wilson     Cate Blanchett   \n",
       "1      George Clooney        Meryl Streep  Jason Schwartzman   \n",
       "2        Gene Hackman     Anjelica Huston        Ben Stiller   \n",
       "3        Jared Gilman        Kara Hayward       Bruce Willis   \n",
       "4         Owen Wilson         Luke Wilson    Robert Musgrave   \n",
       "5       Ralph Fiennes   F. Murray Abraham    Mathieu Amalric   \n",
       "6      Bryan Cranston         Koyu Rankin        Bob Balaban   \n",
       "7   Jason Schwartzman         Bill Murray    Olivia Williams   \n",
       "8         Owen Wilson        Adrien Brody  Jason Schwartzman   \n",
       "9    Benicio del Toro        Adrien Brody      Tilda Swinton   \n",
       "10  Jason Schwartzman  Scarlett Johansson          Tom Hanks   \n",
       "\n",
       "                actor4               actor5  Release_Year  IMDb_rating  \\\n",
       "0      Anjelica Huston         Willem Dafoe          2004          7.2   \n",
       "1   Wallace Wolodarsky  Eric Chase Anderson          2009          7.9   \n",
       "2      Gwyneth Paltrow          Luke Wilson          2001          7.6   \n",
       "3        Edward Norton          Bill Murray          2012          7.8   \n",
       "4   Elissa Sommerfield          Isiah Ellis          1996          6.9   \n",
       "5         Adrien Brody         Willem Dafoe          2014          8.1   \n",
       "6        Edward Norton          Bill Murray          2018          7.8   \n",
       "7       Seymour Cassel            Brian Cox          1998          7.6   \n",
       "8          Amara Karan   Wallace Wolodarsky          2007          7.2   \n",
       "9          Léa Seydoux    Frances McDormand          2021          7.1   \n",
       "10      Jeffrey Wright        Tilda Swinton          2023          6.4   \n",
       "\n",
       "   RT_critic_score RT_audience_score box_office  \n",
       "0              57%               82%     $24.0M  \n",
       "1              93%               85%     $21.0M  \n",
       "2              81%               89%     $52.4M  \n",
       "3              93%               86%     $45.5M  \n",
       "4              86%               79%    $488.6K  \n",
       "5              92%               86%     $59.1M  \n",
       "6              90%               87%     $31.9M  \n",
       "7              90%               91%     $17.1M  \n",
       "8              69%               78%     $11.9M  \n",
       "9              75%               76%     $16.1M  \n",
       "10             76%               62%     $28.1M  "
      ]
     },
     "execution_count": 394,
     "metadata": {},
     "output_type": "execute_result"
    }
   ],
   "source": [
    "wes_df"
   ]
  },
  {
   "cell_type": "code",
   "execution_count": 418,
   "id": "595c8b0b-cc0d-4f82-9a84-709f4e4b3667",
   "metadata": {},
   "outputs": [
    {
     "data": {
      "image/png": "[encoded data removed]",
      "text/plain": [
       "<Figure size 640x480 with 1 Axes>"
      ]
     },
     "metadata": {},
     "output_type": "display_data"
    }
   ],
   "source": [
    "sns.barplot(x = wes_df['Film'], y = wes_df['TMDb_rating'], color = '#1f77b4')\n",
    "plt.title('TMDb Rating')\n",
    "plt.xticks(rotation=80)\n",
    "plt.xlabel('')\n",
    "plt.ylabel('')\n",
    "plt.savefig('wes_tmdb_rating.png', bbox_inches='tight')\n",
    "plt.show()"
   ]
  },
  {
   "cell_type": "code",
   "execution_count": 417,
   "id": "88a6a81d-e39a-43a5-982a-4384ce17b1a2",
   "metadata": {},
   "outputs": [
    {
     "data": {
      "image/png": "[encoded data removed]",
      "text/plain": [
       "<Figure size 640x480 with 1 Axes>"
      ]
     },
     "metadata": {},
     "output_type": "display_data"
    }
   ],
   "source": [
    "sns.barplot(x = wes_df['Film'], y = wes_df['IMDb_rating'], color = '#FFD700')\n",
    "plt.title('IMDb Rating')\n",
    "plt.xticks(rotation=80)\n",
    "plt.xlabel('')\n",
    "plt.ylabel('')\n",
    "plt.savefig('wes_imdb_rating.png', bbox_inches='tight')\n",
    "plt.show()"
   ]
  },
  {
   "cell_type": "code",
   "execution_count": 404,
   "id": "5236fae4-4356-491b-9f58-ee50ce759588",
   "metadata": {},
   "outputs": [],
   "source": [
    "wes_df['RT_critic_score'] = wes_df['RT_critic_score'].str.replace('%','').astype(float)/10"
   ]
  },
  {
   "cell_type": "code",
   "execution_count": 407,
   "id": "821e569e-57b9-44e8-95f2-7163a8c669b6",
   "metadata": {},
   "outputs": [],
   "source": [
    "wes_df['RT_audience_score'] = wes_df['RT_audience_score'].str.replace('%','').astype(float)/10"
   ]
  },
  {
   "cell_type": "code",
   "execution_count": 416,
   "id": "24493876-5b4e-4bf9-855f-241d7a341718",
   "metadata": {},
   "outputs": [
    {
     "data": {
      "image/png": "[encoded data removed]",
      "text/plain": [
       "<Figure size 640x480 with 1 Axes>"
      ]
     },
     "metadata": {},
     "output_type": "display_data"
    }
   ],
   "source": [
    "sns.barplot(x = wes_df['Film'], y = wes_df['RT_critic_score'], color = '#ff0000')\n",
    "plt.title('Rotten Tomatoes Critic Score')\n",
    "plt.xticks(rotation=80)\n",
    "plt.xlabel('')\n",
    "plt.ylabel('')\n",
    "plt.savefig('wes_rt_critic.png', bbox_inches='tight')\n",
    "plt.show()"
   ]
  },
  {
   "cell_type": "code",
   "execution_count": 415,
   "id": "02d383ad-10be-4ffa-a674-5aa6b34cc0ed",
   "metadata": {},
   "outputs": [
    {
     "data": {
      "image/png": "[encoded data removed]",
      "text/plain": [
       "<Figure size 640x480 with 1 Axes>"
      ]
     },
     "metadata": {},
     "output_type": "display_data"
    }
   ],
   "source": [
    "sns.barplot(x = wes_df['Film'], y = wes_df['RT_audience_score'], color = '#008000')\n",
    "plt.title('Rotten Tomatoes Audience Score')\n",
    "plt.xticks(rotation=80)\n",
    "plt.xlabel('')\n",
    "plt.ylabel('')\n",
    "plt.savefig('wes_rt_audience.png', bbox_inches='tight')\n",
    "plt.show()"
   ]
  },
  {
   "cell_type": "code",
   "execution_count": 426,
   "id": "0982b1d9-8183-4fdd-a5ac-9e2f15d7413e",
   "metadata": {},
   "outputs": [
    {
     "data": {
      "image/png": "[encoded data removed]",
      "text/plain": [
       "<Figure size 640x480 with 1 Axes>"
      ]
     },
     "metadata": {},
     "output_type": "display_data"
    }
   ],
   "source": [
    "plt.pie(wes_df['MPAA_rating'].value_counts(), labels=['R','PG-13','PG'],autopct='%1.1f%%')\n",
    "plt.title(\"Wes Anderson's MPAA Ratings\")\n",
    "plt.savefig('wes_mpaa.png')\n",
    "plt.show()"
   ]
  },
  {
   "cell_type": "code",
   "execution_count": 431,
   "id": "be773508-7629-4bf6-b979-4b626dbe89db",
   "metadata": {},
   "outputs": [],
   "source": [
    "wes_df['box_office'] = wes_df['box_office'].str.replace('$','')"
   ]
  },
  {
   "cell_type": "code",
   "execution_count": 432,
   "id": "200a9f65-8dc1-476d-8cce-d3dae7d86404",
   "metadata": {},
   "outputs": [],
   "source": [
    "def convert_to_float(value):\n",
    "    if value.endswith('M'):\n",
    "        return float(value[:-1]) * 1_000_000\n",
    "    elif value.endswith('K'):\n",
    "        return float(value[:-1]) * 1_000\n",
    "    else:\n",
    "        return float(value)"
   ]
  },
  {
   "cell_type": "code",
   "execution_count": 435,
   "id": "97f90a1b-6ee1-4a4c-a177-444ec1592cb4",
   "metadata": {},
   "outputs": [],
   "source": [
    "wes_df['box_office'] = wes_df['box_office'].apply(convert_to_float)"
   ]
  },
  {
   "cell_type": "code",
   "execution_count": 438,
   "id": "919d402d-1812-40f7-8b3d-90d91def5d64",
   "metadata": {},
   "outputs": [],
   "source": [
    "from matplotlib.ticker import FuncFormatter"
   ]
  },
  {
   "cell_type": "code",
   "execution_count": null,
   "id": "80cf8869-5a18-408f-a79d-cfbc0485ba8b",
   "metadata": {},
   "outputs": [],
   "source": []
  },
  {
   "cell_type": "code",
   "execution_count": 437,
   "id": "756f23a2-b6fc-49d0-a285-8009627af8f7",
   "metadata": {},
   "outputs": [
    {
     "data": {
      "image/png": "[encoded data removed]",
      "text/plain": [
       "<Figure size 640x480 with 1 Axes>"
      ]
     },
     "metadata": {},
     "output_type": "display_data"
    }
   ],
   "source": [
    "sns.barplot(x = wes_df['Film'], y = wes_df['box_office'], color = '#800080')\n",
    "plt.title('Wes Anderson Box Office')\n",
    "plt.xticks(rotation=80)\n",
    "plt.xlabel('')\n",
    "plt.ylabel('')\n",
    "plt.savefig('wes_rt_audience.png', bbox_inches='tight')\n",
    "plt.show()"
   ]
  },
  {
   "cell_type": "code",
   "execution_count": null,
   "id": "cba68880-1aad-43e6-b94a-7a0f4dddacdf",
   "metadata": {},
   "outputs": [],
   "source": []
  },
  {
   "cell_type": "code",
   "execution_count": null,
   "id": "a3a9ac28-835b-42b6-8a24-6d344ba081cc",
   "metadata": {},
   "outputs": [],
   "source": []
  },
  {
   "cell_type": "code",
   "execution_count": null,
   "id": "f0f1cb03-9110-4d93-9463-c60ece23d11e",
   "metadata": {},
   "outputs": [],
   "source": []
  },
  {
   "cell_type": "code",
   "execution_count": null,
   "id": "3d3aa3c0-757c-4262-abf6-bd3f896d9de8",
   "metadata": {},
   "outputs": [],
   "source": []
  },
  {
   "cell_type": "code",
   "execution_count": null,
   "id": "01a2a1a6-8d28-43b4-8496-ebf79e093717",
   "metadata": {},
   "outputs": [],
   "source": []
  },
  {
   "cell_type": "code",
   "execution_count": null,
   "id": "6d0ad23b-1dc0-4034-b887-ae2c427462a4",
   "metadata": {},
   "outputs": [],
   "source": []
  },
  {
   "cell_type": "code",
   "execution_count": null,
   "id": "d18a72f5-e034-478c-a952-aef03cc1b373",
   "metadata": {},
   "outputs": [],
   "source": []
  },
  {
   "cell_type": "code",
   "execution_count": null,
   "id": "9c0404e3-8358-42db-8a4c-feed937fda0b",
   "metadata": {},
   "outputs": [],
   "source": []
  },
  {
   "cell_type": "code",
   "execution_count": null,
   "id": "d2428f30-0cab-45bf-bd7d-9d707291949f",
   "metadata": {},
   "outputs": [],
   "source": []
  },
  {
   "cell_type": "code",
   "execution_count": null,
   "id": "a981b469-eff1-499e-837d-986d83599660",
   "metadata": {},
   "outputs": [],
   "source": []
  },
  {
   "cell_type": "code",
   "execution_count": 427,
   "id": "d7faee4d-bb6b-4a32-a914-617496de67d7",
   "metadata": {},
   "outputs": [],
   "source": [
    "pta_df['RT_critic_score'] = pta_df['RT_critic_score'].str.replace('%','').astype(float)/10"
   ]
  },
  {
   "cell_type": "code",
   "execution_count": 428,
   "id": "3b75f19d-c379-426c-acef-9193f8900ba5",
   "metadata": {},
   "outputs": [],
   "source": [
    "pta_df['RT_audience_score'] = pta_df['RT_audience_score'].str.replace('%','').astype(float)/10"
   ]
  },
  {
   "cell_type": "code",
   "execution_count": 429,
   "id": "ba1f0c1f-b799-4a27-8caa-2bd09a9527e7",
   "metadata": {},
   "outputs": [
    {
     "data": {
      "text/html": [
       "<div>\n",
       "<style scoped>\n",
       "    .dataframe tbody tr th:only-of-type {\n",
       "        vertical-align: middle;\n",
       "    }\n",
       "\n",
       "    .dataframe tbody tr th {\n",
       "        vertical-align: top;\n",
       "    }\n",
       "\n",
       "    .dataframe thead th {\n",
       "        text-align: right;\n",
       "    }\n",
       "</style>\n",
       "<table border=\"1\" class=\"dataframe\">\n",
       "  <thead>\n",
       "    <tr style=\"text-align: right;\">\n",
       "      <th></th>\n",
       "      <th>Film</th>\n",
       "      <th>TMDb_rating</th>\n",
       "      <th>MPAA_rating</th>\n",
       "      <th>Release_Year</th>\n",
       "      <th>IMDb_rating</th>\n",
       "      <th>actor1</th>\n",
       "      <th>actor2</th>\n",
       "      <th>actor3</th>\n",
       "      <th>actor4</th>\n",
       "      <th>actor5</th>\n",
       "      <th>RT_critic_score</th>\n",
       "      <th>RT_audience_score</th>\n",
       "      <th>box_office</th>\n",
       "    </tr>\n",
       "  </thead>\n",
       "  <tbody>\n",
       "    <tr>\n",
       "      <th>0</th>\n",
       "      <td>Magnolia</td>\n",
       "      <td>7.723</td>\n",
       "      <td>R</td>\n",
       "      <td>1999</td>\n",
       "      <td>8.0</td>\n",
       "      <td>Tom Cruise</td>\n",
       "      <td>Philip Baker Hall</td>\n",
       "      <td>Philip Seymour Hoffman</td>\n",
       "      <td>Julianne Moore</td>\n",
       "      <td>William H. Macy</td>\n",
       "      <td>8.2</td>\n",
       "      <td>8.9</td>\n",
       "      <td>$22.5M</td>\n",
       "    </tr>\n",
       "    <tr>\n",
       "      <th>1</th>\n",
       "      <td>Boogie Nights</td>\n",
       "      <td>7.626</td>\n",
       "      <td>R</td>\n",
       "      <td>1997</td>\n",
       "      <td>7.9</td>\n",
       "      <td>Mark Wahlberg</td>\n",
       "      <td>Burt Reynolds</td>\n",
       "      <td>Julianne Moore</td>\n",
       "      <td>John C. Reilly</td>\n",
       "      <td>Heather Graham</td>\n",
       "      <td>9.4</td>\n",
       "      <td>8.9</td>\n",
       "      <td>$26.4M</td>\n",
       "    </tr>\n",
       "    <tr>\n",
       "      <th>2</th>\n",
       "      <td>Punch-Drunk Love</td>\n",
       "      <td>7.123</td>\n",
       "      <td>R</td>\n",
       "      <td>2002</td>\n",
       "      <td>7.3</td>\n",
       "      <td>Adam Sandler</td>\n",
       "      <td>Emily Watson</td>\n",
       "      <td>Philip Seymour Hoffman</td>\n",
       "      <td>Luis Guzmán</td>\n",
       "      <td>Mary Lynn Rajskub</td>\n",
       "      <td>7.9</td>\n",
       "      <td>7.7</td>\n",
       "      <td>$17.8M</td>\n",
       "    </tr>\n",
       "    <tr>\n",
       "      <th>3</th>\n",
       "      <td>Hard Eight</td>\n",
       "      <td>6.877</td>\n",
       "      <td>R</td>\n",
       "      <td>1996</td>\n",
       "      <td>7.1</td>\n",
       "      <td>Philip Baker Hall</td>\n",
       "      <td>John C. Reilly</td>\n",
       "      <td>Gwyneth Paltrow</td>\n",
       "      <td>Samuel L. Jackson</td>\n",
       "      <td>F. William Parker</td>\n",
       "      <td>8.2</td>\n",
       "      <td>8.3</td>\n",
       "      <td>$215.6K</td>\n",
       "    </tr>\n",
       "    <tr>\n",
       "      <th>4</th>\n",
       "      <td>There Will Be Blood</td>\n",
       "      <td>8.072</td>\n",
       "      <td>R</td>\n",
       "      <td>2007</td>\n",
       "      <td>8.2</td>\n",
       "      <td>Daniel Day-Lewis</td>\n",
       "      <td>Paul Dano</td>\n",
       "      <td>Kevin J. O'Connor</td>\n",
       "      <td>Ciarán Hinds</td>\n",
       "      <td>Dillon Freasier</td>\n",
       "      <td>9.1</td>\n",
       "      <td>8.6</td>\n",
       "      <td>$40.2M</td>\n",
       "    </tr>\n",
       "    <tr>\n",
       "      <th>5</th>\n",
       "      <td>The Master</td>\n",
       "      <td>7.116</td>\n",
       "      <td>R</td>\n",
       "      <td>2012</td>\n",
       "      <td>7.1</td>\n",
       "      <td>Joaquin Phoenix</td>\n",
       "      <td>Philip Seymour Hoffman</td>\n",
       "      <td>Amy Adams</td>\n",
       "      <td>Rami Malek</td>\n",
       "      <td>Laura Dern</td>\n",
       "      <td>8.5</td>\n",
       "      <td>6.2</td>\n",
       "      <td>$16.2M</td>\n",
       "    </tr>\n",
       "    <tr>\n",
       "      <th>6</th>\n",
       "      <td>Inherent Vice</td>\n",
       "      <td>6.553</td>\n",
       "      <td>R</td>\n",
       "      <td>2014</td>\n",
       "      <td>6.6</td>\n",
       "      <td>Joaquin Phoenix</td>\n",
       "      <td>Josh Brolin</td>\n",
       "      <td>Owen Wilson</td>\n",
       "      <td>Katherine Waterston</td>\n",
       "      <td>Reese Witherspoon</td>\n",
       "      <td>7.4</td>\n",
       "      <td>5.3</td>\n",
       "      <td>$8.1M</td>\n",
       "    </tr>\n",
       "    <tr>\n",
       "      <th>7</th>\n",
       "      <td>Phantom Thread</td>\n",
       "      <td>7.315</td>\n",
       "      <td>R</td>\n",
       "      <td>2017</td>\n",
       "      <td>7.4</td>\n",
       "      <td>Daniel Day-Lewis</td>\n",
       "      <td>Vicky Krieps</td>\n",
       "      <td>Lesley Manville</td>\n",
       "      <td>Camilla Rutherford</td>\n",
       "      <td>Gina McKee</td>\n",
       "      <td>9.1</td>\n",
       "      <td>7.1</td>\n",
       "      <td>$20.9M</td>\n",
       "    </tr>\n",
       "    <tr>\n",
       "      <th>8</th>\n",
       "      <td>Licorice Pizza</td>\n",
       "      <td>6.966</td>\n",
       "      <td>R</td>\n",
       "      <td>2021</td>\n",
       "      <td>7.1</td>\n",
       "      <td>Alana Haim</td>\n",
       "      <td>Cooper Hoffman</td>\n",
       "      <td>Sean Penn</td>\n",
       "      <td>Tom Waits</td>\n",
       "      <td>Bradley Cooper</td>\n",
       "      <td>9.0</td>\n",
       "      <td>6.5</td>\n",
       "      <td>$17.3M</td>\n",
       "    </tr>\n",
       "  </tbody>\n",
       "</table>\n",
       "</div>"
      ],
      "text/plain": [
       "                  Film  TMDb_rating MPAA_rating  Release_Year  IMDb_rating  \\\n",
       "0             Magnolia        7.723           R          1999          8.0   \n",
       "1        Boogie Nights        7.626           R          1997          7.9   \n",
       "2     Punch-Drunk Love        7.123           R          2002          7.3   \n",
       "3           Hard Eight        6.877           R          1996          7.1   \n",
       "4  There Will Be Blood        8.072           R          2007          8.2   \n",
       "5           The Master        7.116           R          2012          7.1   \n",
       "6        Inherent Vice        6.553           R          2014          6.6   \n",
       "7       Phantom Thread        7.315           R          2017          7.4   \n",
       "8       Licorice Pizza        6.966           R          2021          7.1   \n",
       "\n",
       "              actor1                  actor2                  actor3  \\\n",
       "0         Tom Cruise       Philip Baker Hall  Philip Seymour Hoffman   \n",
       "1      Mark Wahlberg           Burt Reynolds          Julianne Moore   \n",
       "2       Adam Sandler            Emily Watson  Philip Seymour Hoffman   \n",
       "3  Philip Baker Hall          John C. Reilly         Gwyneth Paltrow   \n",
       "4   Daniel Day-Lewis               Paul Dano       Kevin J. O'Connor   \n",
       "5    Joaquin Phoenix  Philip Seymour Hoffman               Amy Adams   \n",
       "6    Joaquin Phoenix             Josh Brolin             Owen Wilson   \n",
       "7   Daniel Day-Lewis            Vicky Krieps         Lesley Manville   \n",
       "8         Alana Haim          Cooper Hoffman               Sean Penn   \n",
       "\n",
       "                actor4             actor5  RT_critic_score  RT_audience_score  \\\n",
       "0       Julianne Moore    William H. Macy              8.2                8.9   \n",
       "1       John C. Reilly     Heather Graham              9.4                8.9   \n",
       "2          Luis Guzmán  Mary Lynn Rajskub              7.9                7.7   \n",
       "3    Samuel L. Jackson  F. William Parker              8.2                8.3   \n",
       "4         Ciarán Hinds    Dillon Freasier              9.1                8.6   \n",
       "5           Rami Malek         Laura Dern              8.5                6.2   \n",
       "6  Katherine Waterston  Reese Witherspoon              7.4                5.3   \n",
       "7   Camilla Rutherford         Gina McKee              9.1                7.1   \n",
       "8            Tom Waits     Bradley Cooper              9.0                6.5   \n",
       "\n",
       "  box_office  \n",
       "0     $22.5M  \n",
       "1     $26.4M  \n",
       "2     $17.8M  \n",
       "3    $215.6K  \n",
       "4     $40.2M  \n",
       "5     $16.2M  \n",
       "6      $8.1M  \n",
       "7     $20.9M  \n",
       "8     $17.3M  "
      ]
     },
     "execution_count": 429,
     "metadata": {},
     "output_type": "execute_result"
    }
   ],
   "source": [
    "pta_df"
   ]
  },
  {
   "cell_type": "code",
   "execution_count": null,
   "id": "cbe1e081-31eb-4c9d-ba73-27a9851207cc",
   "metadata": {},
   "outputs": [],
   "source": []
  },
  {
   "cell_type": "code",
   "execution_count": null,
   "id": "142f45fe-7ea8-4ab3-8e80-e4baa9f6f2e9",
   "metadata": {},
   "outputs": [],
   "source": []
  },
  {
   "cell_type": "code",
   "execution_count": null,
   "id": "dcc89155-b543-48b9-aff4-4b59a10ece29",
   "metadata": {},
   "outputs": [],
   "source": []
  },
  {
   "cell_type": "code",
   "execution_count": null,
   "id": "1230a8a4-0322-4cdd-8b9e-f52999240035",
   "metadata": {},
   "outputs": [],
   "source": []
  },
  {
   "cell_type": "code",
   "execution_count": null,
   "id": "b8ee0861-c427-4976-928b-7161e09f2f3a",
   "metadata": {},
   "outputs": [],
   "source": []
  },
  {
   "cell_type": "code",
   "execution_count": null,
   "id": "4a154dca-94fc-4b11-9f37-0deb01f60007",
   "metadata": {},
   "outputs": [],
   "source": []
  },
  {
   "cell_type": "code",
   "execution_count": null,
   "id": "8f282f6a-e5ef-4d0b-ab7a-6ae4b4b3a7da",
   "metadata": {},
   "outputs": [],
   "source": []
  },
  {
   "cell_type": "code",
   "execution_count": null,
   "id": "017525f8-2294-4130-94a0-71c6520aec92",
   "metadata": {},
   "outputs": [],
   "source": []
  },
  {
   "cell_type": "code",
   "execution_count": null,
   "id": "57f1c419-8007-4c27-9e9c-5866818f17da",
   "metadata": {},
   "outputs": [],
   "source": []
  },
  {
   "cell_type": "code",
   "execution_count": null,
   "id": "2c9d10ed-9bb5-4bd6-b184-2ac443078689",
   "metadata": {},
   "outputs": [],
   "source": []
  },
  {
   "cell_type": "code",
   "execution_count": null,
   "id": "1414e595-2558-468a-9a23-fd5994d65d20",
   "metadata": {},
   "outputs": [],
   "source": []
  },
  {
   "cell_type": "code",
   "execution_count": null,
   "id": "620f658d-64df-4060-aaf5-85bec0bc696c",
   "metadata": {},
   "outputs": [],
   "source": []
  },
  {
   "cell_type": "code",
   "execution_count": null,
   "id": "511c9e01-9c15-47c1-aa25-bf2dbf1c363b",
   "metadata": {},
   "outputs": [],
   "source": []
  },
  {
   "cell_type": "code",
   "execution_count": null,
   "id": "311a7b86-460f-4c2e-9c6c-0dc77de7275d",
   "metadata": {},
   "outputs": [],
   "source": []
  },
  {
   "cell_type": "code",
   "execution_count": null,
   "id": "973b8ac9-f333-4205-86cd-b0888331876a",
   "metadata": {},
   "outputs": [],
   "source": []
  },
  {
   "cell_type": "code",
   "execution_count": null,
   "id": "8307e60d-3388-4f06-a6a9-f06bafd995e6",
   "metadata": {},
   "outputs": [],
   "source": []
  },
  {
   "cell_type": "code",
   "execution_count": null,
   "id": "d68e2abc-d2c5-44be-9796-48ad0a4ce3d1",
   "metadata": {},
   "outputs": [],
   "source": []
  },
  {
   "cell_type": "code",
   "execution_count": null,
   "id": "9c2afd83-4064-44a0-a4bd-7750d519e12a",
   "metadata": {},
   "outputs": [],
   "source": []
  },
  {
   "cell_type": "code",
   "execution_count": null,
   "id": "b3d08c9c-fc4a-49f3-abb2-30d5a157b59e",
   "metadata": {},
   "outputs": [],
   "source": []
  },
  {
   "cell_type": "code",
   "execution_count": null,
   "id": "8f008aef-df88-472c-8a1a-a55becfed388",
   "metadata": {},
   "outputs": [],
   "source": []
  }
 ],
 "metadata": {
  "kernelspec": {
   "display_name": "Python 3 (ipykernel)",
   "language": "python",
   "name": "python3"
  },
  "language_info": {
   "codemirror_mode": {
    "name": "ipython",
    "version": 3
   },
   "file_extension": ".py",
   "mimetype": "text/x-python",
   "name": "python",
   "nbconvert_exporter": "python",
   "pygments_lexer": "ipython3",
   "version": "3.12.7"
  }
 },
 "nbformat": 4,
 "nbformat_minor": 5
}
